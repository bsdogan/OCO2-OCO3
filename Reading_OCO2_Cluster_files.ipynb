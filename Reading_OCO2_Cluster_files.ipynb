{
 "cells": [
  {
   "cell_type": "markdown",
   "id": "b48310c9",
   "metadata": {},
   "source": [
    "# Reading the Individual files from ALL directories\n",
    "# Libraries:\n",
    "### OS\n",
    "- OS walks over the directories and reads the files individually"
   ]
  },
  {
   "cell_type": "code",
   "execution_count": 1,
   "id": "2c9e1fd9",
   "metadata": {},
   "outputs": [],
   "source": [
    "import pandas as pd\n",
    "import numpy as np\n",
    "import matplotlib.pyplot as plt\n",
    "import seaborn as sns; sns.set()\n",
    "import netCDF4 as nc\n",
    "\n",
    "import os"
   ]
  },
  {
   "cell_type": "markdown",
   "id": "7c00fdd0",
   "metadata": {},
   "source": [
    "# Ignore Warnings"
   ]
  },
  {
   "cell_type": "code",
   "execution_count": 37,
   "id": "dddf107a",
   "metadata": {},
   "outputs": [],
   "source": [
    "import warnings\n",
    "\n",
    "warnings.filterwarnings('ignore')"
   ]
  },
  {
   "cell_type": "markdown",
   "id": "d968cfc6",
   "metadata": {},
   "source": [
    "# EXAMPLE:\n",
    "- READING the files from the following directory\n",
    "- FOR 2020 datasets"
   ]
  },
  {
   "cell_type": "code",
   "execution_count": 38,
   "id": "3afe49ce",
   "metadata": {},
   "outputs": [
    {
     "name": "stdout",
     "output_type": "stream",
     "text": [
      "../../data/oco2/scf/product/Lite/B10206Ar/r02/2020/01/01/LtCO2/oco2_LtCO2_200101_B10206Ar_200728183348s.nc4\n",
      "../../data/oco2/scf/product/Lite/B10206Ar/r02/2020/01/02/LtCO2/oco2_LtCO2_200102_B10206Ar_200728203252s.nc4\n",
      "../../data/oco2/scf/product/Lite/B10206Ar/r02/2020/01/03/LtCO2/oco2_LtCO2_200103_B10206Ar_200728203534s.nc4\n",
      "../../data/oco2/scf/product/Lite/B10206Ar/r02/2020/01/08/LtCO2/oco2_LtCO2_200108_B10206Ar_200728203546s.nc4\n",
      "../../data/oco2/scf/product/Lite/B10206Ar/r02/2020/01/09/LtCO2/oco2_LtCO2_200109_B10206Ar_200728203551s.nc4\n",
      "../../data/oco2/scf/product/Lite/B10206Ar/r02/2020/01/10/LtCO2/oco2_LtCO2_200110_B10206Ar_200728203614s.nc4\n",
      "../../data/oco2/scf/product/Lite/B10206Ar/r02/2020/01/11/LtCO2/oco2_LtCO2_200111_B10206Ar_200728203647s.nc4\n",
      "../../data/oco2/scf/product/Lite/B10206Ar/r02/2020/01/12/LtCO2/oco2_LtCO2_200112_B10206Ar_200728203726s.nc4\n",
      "../../data/oco2/scf/product/Lite/B10206Ar/r02/2020/01/13/LtCO2/oco2_LtCO2_200113_B10206Ar_200728203946s.nc4\n",
      "../../data/oco2/scf/product/Lite/B10206Ar/r02/2020/01/14/LtCO2/oco2_LtCO2_200114_B10206Ar_200728204000s.nc4\n",
      "../../data/oco2/scf/product/Lite/B10206Ar/r02/2020/01/15/LtCO2/oco2_LtCO2_200115_B10206Ar_200728204049s.nc4\n",
      "../../data/oco2/scf/product/Lite/B10206Ar/r02/2020/01/16/LtCO2/oco2_LtCO2_200116_B10206Ar_200728204101s.nc4\n",
      "../../data/oco2/scf/product/Lite/B10206Ar/r02/2020/01/17/LtCO2/oco2_LtCO2_200117_B10206Ar_200728204150s.nc4\n",
      "../../data/oco2/scf/product/Lite/B10206Ar/r02/2020/01/18/LtCO2/oco2_LtCO2_200118_B10206Ar_200728204352s.nc4\n",
      "../../data/oco2/scf/product/Lite/B10206Ar/r02/2020/01/19/LtCO2/oco2_LtCO2_200119_B10206Ar_200728204430s.nc4\n",
      "../../data/oco2/scf/product/Lite/B10206Ar/r02/2020/01/20/LtCO2/oco2_LtCO2_200120_B10206Ar_200728204509s.nc4\n",
      "../../data/oco2/scf/product/Lite/B10206Ar/r02/2020/01/21/LtCO2/oco2_LtCO2_200121_B10206Ar_200728204544s.nc4\n",
      "../../data/oco2/scf/product/Lite/B10206Ar/r02/2020/01/28/LtCO2/oco2_LtCO2_200128_B10206Ar_210513183040s.nc4\n",
      "../../data/oco2/scf/product/Lite/B10206Ar/r02/2020/01/29/LtCO2/oco2_LtCO2_200129_B10206Ar_210513183221s.nc4\n",
      "../../data/oco2/scf/product/Lite/B10206Ar/r02/2020/01/30/LtCO2/oco2_LtCO2_200130_B10206Ar_210513183413s.nc4\n",
      "../../data/oco2/scf/product/Lite/B10206Ar/r02/2020/01/31/LtCO2/oco2_LtCO2_200131_B10206Ar_210513183624s.nc4\n",
      "../../data/oco2/scf/product/Lite/B10206Ar/r02/2020/02/01/LtCO2/oco2_LtCO2_200201_B10206Ar_210513173241s.nc4\n",
      "../../data/oco2/scf/product/Lite/B10206Ar/r02/2020/02/02/LtCO2/oco2_LtCO2_200202_B10206Ar_210513173246s.nc4\n",
      "../../data/oco2/scf/product/Lite/B10206Ar/r02/2020/02/03/LtCO2/oco2_LtCO2_200203_B10206Ar_210513173702s.nc4\n",
      "../../data/oco2/scf/product/Lite/B10206Ar/r02/2020/02/04/LtCO2/oco2_LtCO2_200204_B10206Ar_210513173707s.nc4\n",
      "../../data/oco2/scf/product/Lite/B10206Ar/r02/2020/02/05/LtCO2/oco2_LtCO2_200205_B10206Ar_210513174132s.nc4\n",
      "../../data/oco2/scf/product/Lite/B10206Ar/r02/2020/02/06/LtCO2/oco2_LtCO2_200206_B10206Ar_210513174203s.nc4\n",
      "../../data/oco2/scf/product/Lite/B10206Ar/r02/2020/02/07/LtCO2/oco2_LtCO2_200207_B10206Ar_210513174439s.nc4\n",
      "../../data/oco2/scf/product/Lite/B10206Ar/r02/2020/02/08/LtCO2/oco2_LtCO2_200208_B10206Ar_210513174526s.nc4\n",
      "../../data/oco2/scf/product/Lite/B10206Ar/r02/2020/02/09/LtCO2/oco2_LtCO2_200209_B10206Ar_210513174828s.nc4\n",
      "../../data/oco2/scf/product/Lite/B10206Ar/r02/2020/02/10/LtCO2/oco2_LtCO2_200210_B10206Ar_210513174900s.nc4\n",
      "../../data/oco2/scf/product/Lite/B10206Ar/r02/2020/02/11/LtCO2/oco2_LtCO2_200211_B10206Ar_210513175157s.nc4\n",
      "../../data/oco2/scf/product/Lite/B10206Ar/r02/2020/02/12/LtCO2/oco2_LtCO2_200212_B10206Ar_210513175239s.nc4\n",
      "../../data/oco2/scf/product/Lite/B10206Ar/r02/2020/02/13/LtCO2/oco2_LtCO2_200213_B10206Ar_210513175550s.nc4\n",
      "../../data/oco2/scf/product/Lite/B10206Ar/r02/2020/02/14/LtCO2/oco2_LtCO2_200214_B10206Ar_210513175555s.nc4\n",
      "../../data/oco2/scf/product/Lite/B10206Ar/r02/2020/02/15/LtCO2/oco2_LtCO2_200215_B10206Ar_210513175906s.nc4\n",
      "../../data/oco2/scf/product/Lite/B10206Ar/r02/2020/02/16/LtCO2/oco2_LtCO2_200216_B10206Ar_210513175955s.nc4\n",
      "../../data/oco2/scf/product/Lite/B10206Ar/r02/2020/02/17/LtCO2/oco2_LtCO2_200217_B10206Ar_210513180320s.nc4\n",
      "../../data/oco2/scf/product/Lite/B10206Ar/r02/2020/02/18/LtCO2/oco2_LtCO2_200218_B10206Ar_210513180409s.nc4\n",
      "../../data/oco2/scf/product/Lite/B10206Ar/r02/2020/02/19/LtCO2/oco2_LtCO2_200219_B10206Ar_210513180733s.nc4\n",
      "../../data/oco2/scf/product/Lite/B10206Ar/r02/2020/02/20/LtCO2/oco2_LtCO2_200220_B10206Ar_210513180852s.nc4\n",
      "../../data/oco2/scf/product/Lite/B10206Ar/r02/2020/02/21/LtCO2/oco2_LtCO2_200221_B10206Ar_210513181124s.nc4\n",
      "../../data/oco2/scf/product/Lite/B10206Ar/r02/2020/02/22/LtCO2/oco2_LtCO2_200222_B10206Ar_210513181246s.nc4\n",
      "../../data/oco2/scf/product/Lite/B10206Ar/r02/2020/02/23/LtCO2/oco2_LtCO2_200223_B10206Ar_210513181554s.nc4\n",
      "../../data/oco2/scf/product/Lite/B10206Ar/r02/2020/02/24/LtCO2/oco2_LtCO2_200224_B10206Ar_210513181745s.nc4\n",
      "../../data/oco2/scf/product/Lite/B10206Ar/r02/2020/02/25/LtCO2/oco2_LtCO2_200225_B10206Ar_210513181935s.nc4\n",
      "../../data/oco2/scf/product/Lite/B10206Ar/r02/2020/02/26/LtCO2/oco2_LtCO2_200226_B10206Ar_210513182157s.nc4\n",
      "../../data/oco2/scf/product/Lite/B10206Ar/r02/2020/02/27/LtCO2/oco2_LtCO2_200227_B10206Ar_210513182421s.nc4\n",
      "../../data/oco2/scf/product/Lite/B10206Ar/r02/2020/02/28/LtCO2/oco2_LtCO2_200228_B10206Ar_210513182604s.nc4\n",
      "../../data/oco2/scf/product/Lite/B10206Ar/r02/2020/02/29/LtCO2/oco2_LtCO2_200229_B10206Ar_210513182815s.nc4\n",
      "../../data/oco2/scf/product/Lite/B10206Ar/r02/2020/03/01/LtCO2/oco2_LtCO2_200301_B10206Ar_210513183752s.nc4\n",
      "../../data/oco2/scf/product/Lite/B10206Ar/r02/2020/03/02/LtCO2/oco2_LtCO2_200302_B10206Ar_210513184109s.nc4\n",
      "../../data/oco2/scf/product/Lite/B10206Ar/r02/2020/03/03/LtCO2/oco2_LtCO2_200303_B10206Ar_210513184146s.nc4\n",
      "../../data/oco2/scf/product/Lite/B10206Ar/r02/2020/03/04/LtCO2/oco2_LtCO2_200304_B10206Ar_210513184551s.nc4\n",
      "../../data/oco2/scf/product/Lite/B10206Ar/r02/2020/03/05/LtCO2/oco2_LtCO2_200305_B10206Ar_210513184643s.nc4\n",
      "../../data/oco2/scf/product/Lite/B10206Ar/r02/2020/03/06/LtCO2/oco2_LtCO2_200306_B10206Ar_210513184919s.nc4\n",
      "../../data/oco2/scf/product/Lite/B10206Ar/r02/2020/03/07/LtCO2/oco2_LtCO2_200307_B10206Ar_210513185059s.nc4\n",
      "../../data/oco2/scf/product/Lite/B10206Ar/r02/2020/03/08/LtCO2/oco2_LtCO2_200308_B10206Ar_210513185444s.nc4\n",
      "../../data/oco2/scf/product/Lite/B10206Ar/r02/2020/03/09/LtCO2/oco2_LtCO2_200309_B10206Ar_210513185716s.nc4\n",
      "../../data/oco2/scf/product/Lite/B10206Ar/r02/2020/03/10/LtCO2/oco2_LtCO2_200310_B10206Ar_210513185934s.nc4\n",
      "../../data/oco2/scf/product/Lite/B10206Ar/r02/2020/03/11/LtCO2/oco2_LtCO2_200311_B10206Ar_210513190232s.nc4\n",
      "../../data/oco2/scf/product/Lite/B10206Ar/r02/2020/03/12/LtCO2/oco2_LtCO2_200312_B10206Ar_210513190537s.nc4\n",
      "../../data/oco2/scf/product/Lite/B10206Ar/r02/2020/03/13/LtCO2/oco2_LtCO2_200313_B10206Ar_210513190801s.nc4\n",
      "../../data/oco2/scf/product/Lite/B10206Ar/r02/2020/03/14/LtCO2/oco2_LtCO2_200314_B10206Ar_210513191044s.nc4\n",
      "../../data/oco2/scf/product/Lite/B10206Ar/r02/2020/03/15/LtCO2/oco2_LtCO2_200315_B10206Ar_210513191347s.nc4\n",
      "../../data/oco2/scf/product/Lite/B10206Ar/r02/2020/03/16/LtCO2/oco2_LtCO2_200316_B10206Ar_210513191623s.nc4\n",
      "../../data/oco2/scf/product/Lite/B10206Ar/r02/2020/03/17/LtCO2/oco2_LtCO2_200317_B10206Ar_210513191734s.nc4\n",
      "../../data/oco2/scf/product/Lite/B10206Ar/r02/2020/03/18/LtCO2/oco2_LtCO2_200318_B10206Ar_210513192032s.nc4\n",
      "../../data/oco2/scf/product/Lite/B10206Ar/r02/2020/03/19/LtCO2/oco2_LtCO2_200319_B10206Ar_210513192149s.nc4\n",
      "../../data/oco2/scf/product/Lite/B10206Ar/r02/2020/03/20/LtCO2/oco2_LtCO2_200320_B10206Ar_210513192504s.nc4\n",
      "../../data/oco2/scf/product/Lite/B10206Ar/r02/2020/03/21/LtCO2/oco2_LtCO2_200321_B10206Ar_210513192605s.nc4\n",
      "../../data/oco2/scf/product/Lite/B10206Ar/r02/2020/03/22/LtCO2/oco2_LtCO2_200322_B10206Ar_210513193013s.nc4\n",
      "../../data/oco2/scf/product/Lite/B10206Ar/r02/2020/03/23/LtCO2/oco2_LtCO2_200323_B10206Ar_210513193112s.nc4\n",
      "../../data/oco2/scf/product/Lite/B10206Ar/r02/2020/03/24/LtCO2/oco2_LtCO2_200324_B10206Ar_210513193456s.nc4\n",
      "../../data/oco2/scf/product/Lite/B10206Ar/r02/2020/03/25/LtCO2/oco2_LtCO2_200325_B10206Ar_210513193530s.nc4\n",
      "../../data/oco2/scf/product/Lite/B10206Ar/r02/2020/03/26/LtCO2/oco2_LtCO2_200326_B10206Ar_210513193936s.nc4\n",
      "../../data/oco2/scf/product/Lite/B10206Ar/r02/2020/03/27/LtCO2/oco2_LtCO2_200327_B10206Ar_210513193947s.nc4\n",
      "../../data/oco2/scf/product/Lite/B10206Ar/r02/2020/03/28/LtCO2/oco2_LtCO2_200328_B10206Ar_210513194330s.nc4\n",
      "../../data/oco2/scf/product/Lite/B10206Ar/r02/2020/03/29/LtCO2/oco2_LtCO2_200329_B10206Ar_210513194401s.nc4\n",
      "../../data/oco2/scf/product/Lite/B10206Ar/r02/2020/03/30/LtCO2/oco2_LtCO2_200330_B10206Ar_210513194812s.nc4\n",
      "../../data/oco2/scf/product/Lite/B10206Ar/r02/2020/03/31/LtCO2/oco2_LtCO2_200331_B10206Ar_210513194836s.nc4\n",
      "../../data/oco2/scf/product/Lite/B10206Ar/r02/2020/04/01/LtCO2/oco2_LtCO2_200401_B10206Ar_210513195147s.nc4\n",
      "../../data/oco2/scf/product/Lite/B10206Ar/r02/2020/04/02/LtCO2/oco2_LtCO2_200402_B10206Ar_210513195310s.nc4\n",
      "../../data/oco2/scf/product/Lite/B10206Ar/r02/2020/04/03/LtCO2/oco2_LtCO2_200403_B10206Ar_210513195633s.nc4\n",
      "../../data/oco2/scf/product/Lite/B10206Ar/r02/2020/04/04/LtCO2/oco2_LtCO2_200404_B10206Ar_210513195718s.nc4\n",
      "../../data/oco2/scf/product/Lite/B10206Ar/r02/2020/04/05/LtCO2/oco2_LtCO2_200405_B10206Ar_210513200131s.nc4\n",
      "../../data/oco2/scf/product/Lite/B10206Ar/r02/2020/04/06/LtCO2/oco2_LtCO2_200406_B10206Ar_210513200156s.nc4\n",
      "../../data/oco2/scf/product/Lite/B10206Ar/r02/2020/04/07/LtCO2/oco2_LtCO2_200407_B10206Ar_210513200542s.nc4\n",
      "../../data/oco2/scf/product/Lite/B10206Ar/r02/2020/04/08/LtCO2/oco2_LtCO2_200408_B10206Ar_210513200621s.nc4\n",
      "../../data/oco2/scf/product/Lite/B10206Ar/r02/2020/04/09/LtCO2/oco2_LtCO2_200409_B10206Ar_210513201046s.nc4\n",
      "../../data/oco2/scf/product/Lite/B10206Ar/r02/2020/04/10/LtCO2/oco2_LtCO2_200410_B10206Ar_210513201144s.nc4\n",
      "../../data/oco2/scf/product/Lite/B10206Ar/r02/2020/04/11/LtCO2/oco2_LtCO2_200411_B10206Ar_210513201445s.nc4\n",
      "../../data/oco2/scf/product/Lite/B10206Ar/r02/2020/04/12/LtCO2/oco2_LtCO2_200412_B10206Ar_210513201545s.nc4\n",
      "../../data/oco2/scf/product/Lite/B10206Ar/r02/2020/04/13/LtCO2/oco2_LtCO2_200413_B10206Ar_210513202040s.nc4\n",
      "../../data/oco2/scf/product/Lite/B10206Ar/r02/2020/04/14/LtCO2/oco2_LtCO2_200414_B10206Ar_210513202112s.nc4\n",
      "../../data/oco2/scf/product/Lite/B10206Ar/r02/2020/04/15/LtCO2/oco2_LtCO2_200415_B10206Ar_210513202527s.nc4\n",
      "../../data/oco2/scf/product/Lite/B10206Ar/r02/2020/04/16/LtCO2/oco2_LtCO2_200416_B10206Ar_210513202618s.nc4\n",
      "../../data/oco2/scf/product/Lite/B10206Ar/r02/2020/04/17/LtCO2/oco2_LtCO2_200417_B10206Ar_210513203039s.nc4\n",
      "../../data/oco2/scf/product/Lite/B10206Ar/r02/2020/04/18/LtCO2/oco2_LtCO2_200418_B10206Ar_210513203100s.nc4\n",
      "../../data/oco2/scf/product/Lite/B10206Ar/r02/2020/04/19/LtCO2/oco2_LtCO2_200419_B10206Ar_210513203517s.nc4\n",
      "../../data/oco2/scf/product/Lite/B10206Ar/r02/2020/04/20/LtCO2/oco2_LtCO2_200420_B10206Ar_210513203633s.nc4\n",
      "../../data/oco2/scf/product/Lite/B10206Ar/r02/2020/04/21/LtCO2/oco2_LtCO2_200421_B10206Ar_210513204015s.nc4\n",
      "../../data/oco2/scf/product/Lite/B10206Ar/r02/2020/04/22/LtCO2/oco2_LtCO2_200422_B10206Ar_210513204110s.nc4\n",
      "../../data/oco2/scf/product/Lite/B10206Ar/r02/2020/04/23/LtCO2/oco2_LtCO2_200423_B10206Ar_210513204554s.nc4\n",
      "../../data/oco2/scf/product/Lite/B10206Ar/r02/2020/04/24/LtCO2/oco2_LtCO2_200424_B10206Ar_210513204656s.nc4\n",
      "../../data/oco2/scf/product/Lite/B10206Ar/r02/2020/04/25/LtCO2/oco2_LtCO2_200425_B10206Ar_210513205051s.nc4\n",
      "../../data/oco2/scf/product/Lite/B10206Ar/r02/2020/04/26/LtCO2/oco2_LtCO2_200426_B10206Ar_210513205221s.nc4\n",
      "../../data/oco2/scf/product/Lite/B10206Ar/r02/2020/04/27/LtCO2/oco2_LtCO2_200427_B10206Ar_210513205623s.nc4\n",
      "../../data/oco2/scf/product/Lite/B10206Ar/r02/2020/04/28/LtCO2/oco2_LtCO2_200428_B10206Ar_210513205811s.nc4\n",
      "../../data/oco2/scf/product/Lite/B10206Ar/r02/2020/04/29/LtCO2/oco2_LtCO2_200429_B10206Ar_210513210017s.nc4\n",
      "../../data/oco2/scf/product/Lite/B10206Ar/r02/2020/04/30/LtCO2/oco2_LtCO2_200430_B10206Ar_210513210257s.nc4\n",
      "../../data/oco2/scf/product/Lite/B10206Ar/r02/2020/05/01/LtCO2/oco2_LtCO2_200501_B10206Ar_210513210545s.nc4\n",
      "../../data/oco2/scf/product/Lite/B10206Ar/r02/2020/05/02/LtCO2/oco2_LtCO2_200502_B10206Ar_210513210756s.nc4\n",
      "../../data/oco2/scf/product/Lite/B10206Ar/r02/2020/05/03/LtCO2/oco2_LtCO2_200503_B10206Ar_210513211046s.nc4\n",
      "../../data/oco2/scf/product/Lite/B10206Ar/r02/2020/05/04/LtCO2/oco2_LtCO2_200504_B10206Ar_210513211327s.nc4\n",
      "../../data/oco2/scf/product/Lite/B10206Ar/r02/2020/05/05/LtCO2/oco2_LtCO2_200505_B10206Ar_210513211606s.nc4\n",
      "../../data/oco2/scf/product/Lite/B10206Ar/r02/2020/05/06/LtCO2/oco2_LtCO2_200506_B10206Ar_210513211812s.nc4\n",
      "../../data/oco2/scf/product/Lite/B10206Ar/r02/2020/05/07/LtCO2/oco2_LtCO2_200507_B10206Ar_210513212020s.nc4\n",
      "../../data/oco2/scf/product/Lite/B10206Ar/r02/2020/05/08/LtCO2/oco2_LtCO2_200508_B10206Ar_210513212308s.nc4\n",
      "../../data/oco2/scf/product/Lite/B10206Ar/r02/2020/05/09/LtCO2/oco2_LtCO2_200509_B10206Ar_210513212459s.nc4\n",
      "../../data/oco2/scf/product/Lite/B10206Ar/r02/2020/05/10/LtCO2/oco2_LtCO2_200510_B10206Ar_210513212720s.nc4\n",
      "../../data/oco2/scf/product/Lite/B10206Ar/r02/2020/05/11/LtCO2/oco2_LtCO2_200511_B10206Ar_210513213025s.nc4\n",
      "../../data/oco2/scf/product/Lite/B10206Ar/r02/2020/05/12/LtCO2/oco2_LtCO2_200512_B10206Ar_210513213251s.nc4\n",
      "../../data/oco2/scf/product/Lite/B10206Ar/r02/2020/05/13/LtCO2/oco2_LtCO2_200513_B10206Ar_210513213633s.nc4\n",
      "../../data/oco2/scf/product/Lite/B10206Ar/r02/2020/05/14/LtCO2/oco2_LtCO2_200514_B10206Ar_210513213731s.nc4\n",
      "../../data/oco2/scf/product/Lite/B10206Ar/r02/2020/05/15/LtCO2/oco2_LtCO2_200515_B10206Ar_210513214116s.nc4\n",
      "../../data/oco2/scf/product/Lite/B10206Ar/r02/2020/05/16/LtCO2/oco2_LtCO2_200516_B10206Ar_210513214211s.nc4\n",
      "../../data/oco2/scf/product/Lite/B10206Ar/r02/2020/05/17/LtCO2/oco2_LtCO2_200517_B10206Ar_210513214540s.nc4\n",
      "../../data/oco2/scf/product/Lite/B10206Ar/r02/2020/05/18/LtCO2/oco2_LtCO2_200518_B10206Ar_210513214757s.nc4\n",
      "../../data/oco2/scf/product/Lite/B10206Ar/r02/2020/05/19/LtCO2/oco2_LtCO2_200519_B10206Ar_210513215047s.nc4\n",
      "../../data/oco2/scf/product/Lite/B10206Ar/r02/2020/05/20/LtCO2/oco2_LtCO2_200520_B10206Ar_210513215226s.nc4\n",
      "../../data/oco2/scf/product/Lite/B10206Ar/r02/2020/05/21/LtCO2/oco2_LtCO2_200521_B10206Ar_210513215539s.nc4\n",
      "../../data/oco2/scf/product/Lite/B10206Ar/r02/2020/05/22/LtCO2/oco2_LtCO2_200522_B10206Ar_210513215820s.nc4\n",
      "../../data/oco2/scf/product/Lite/B10206Ar/r02/2020/05/23/LtCO2/oco2_LtCO2_200523_B10206Ar_210513220127s.nc4\n",
      "../../data/oco2/scf/product/Lite/B10206Ar/r02/2020/05/24/LtCO2/oco2_LtCO2_200524_B10206Ar_210513220308s.nc4\n",
      "../../data/oco2/scf/product/Lite/B10206Ar/r02/2020/05/25/LtCO2/oco2_LtCO2_200525_B10206Ar_210513220638s.nc4\n",
      "../../data/oco2/scf/product/Lite/B10206Ar/r02/2020/05/26/LtCO2/oco2_LtCO2_200526_B10206Ar_210513220841s.nc4\n",
      "../../data/oco2/scf/product/Lite/B10206Ar/r02/2020/05/27/LtCO2/oco2_LtCO2_200527_B10206Ar_210513221135s.nc4\n",
      "../../data/oco2/scf/product/Lite/B10206Ar/r02/2020/05/28/LtCO2/oco2_LtCO2_200528_B10206Ar_210513221312s.nc4\n",
      "../../data/oco2/scf/product/Lite/B10206Ar/r02/2020/05/29/LtCO2/oco2_LtCO2_200529_B10206Ar_210513221749s.nc4\n",
      "../../data/oco2/scf/product/Lite/B10206Ar/r02/2020/05/30/LtCO2/oco2_LtCO2_200530_B10206Ar_210513221859s.nc4\n",
      "../../data/oco2/scf/product/Lite/B10206Ar/r02/2020/05/31/LtCO2/oco2_LtCO2_200531_B10206Ar_210513222213s.nc4\n",
      "../../data/oco2/scf/product/Lite/B10206Ar/r02/2020/06/01/LtCO2/oco2_LtCO2_200601_B10206Ar_210513222430s.nc4\n",
      "../../data/oco2/scf/product/Lite/B10206Ar/r02/2020/06/02/LtCO2/oco2_LtCO2_200602_B10206Ar_210513222757s.nc4\n",
      "../../data/oco2/scf/product/Lite/B10206Ar/r02/2020/06/03/LtCO2/oco2_LtCO2_200603_B10206Ar_210513222933s.nc4\n",
      "../../data/oco2/scf/product/Lite/B10206Ar/r02/2020/06/04/LtCO2/oco2_LtCO2_200604_B10206Ar_210513223301s.nc4\n",
      "../../data/oco2/scf/product/Lite/B10206Ar/r02/2020/06/05/LtCO2/oco2_LtCO2_200605_B10206Ar_210513223459s.nc4\n",
      "../../data/oco2/scf/product/Lite/B10206Ar/r02/2020/06/06/LtCO2/oco2_LtCO2_200606_B10206Ar_210513223825s.nc4\n",
      "../../data/oco2/scf/product/Lite/B10206Ar/r02/2020/06/07/LtCO2/oco2_LtCO2_200607_B10206Ar_210513223939s.nc4\n",
      "../../data/oco2/scf/product/Lite/B10206Ar/r02/2020/06/08/LtCO2/oco2_LtCO2_200608_B10206Ar_210513224319s.nc4\n",
      "../../data/oco2/scf/product/Lite/B10206Ar/r02/2020/06/09/LtCO2/oco2_LtCO2_200609_B10206Ar_210513224449s.nc4\n",
      "../../data/oco2/scf/product/Lite/B10206Ar/r02/2020/06/10/LtCO2/oco2_LtCO2_200610_B10206Ar_210513224815s.nc4\n",
      "../../data/oco2/scf/product/Lite/B10206Ar/r02/2020/06/11/LtCO2/oco2_LtCO2_200611_B10206Ar_210513224952s.nc4\n",
      "../../data/oco2/scf/product/Lite/B10206Ar/r02/2020/06/12/LtCO2/oco2_LtCO2_200612_B10206Ar_210513225321s.nc4\n",
      "../../data/oco2/scf/product/Lite/B10206Ar/r02/2020/06/13/LtCO2/oco2_LtCO2_200613_B10206Ar_210513225446s.nc4\n",
      "../../data/oco2/scf/product/Lite/B10206Ar/r02/2020/06/14/LtCO2/oco2_LtCO2_200614_B10206Ar_210513225735s.nc4\n",
      "../../data/oco2/scf/product/Lite/B10206Ar/r02/2020/06/15/LtCO2/oco2_LtCO2_200615_B10206Ar_210513225854s.nc4\n",
      "../../data/oco2/scf/product/Lite/B10206Ar/r02/2020/06/16/LtCO2/oco2_LtCO2_200616_B10206Ar_210513230328s.nc4\n",
      "../../data/oco2/scf/product/Lite/B10206Ar/r02/2020/06/17/LtCO2/oco2_LtCO2_200617_B10206Ar_210513230409s.nc4\n",
      "../../data/oco2/scf/product/Lite/B10206Ar/r02/2020/06/18/LtCO2/oco2_LtCO2_200618_B10206Ar_210513230804s.nc4\n",
      "../../data/oco2/scf/product/Lite/B10206Ar/r02/2020/06/19/LtCO2/oco2_LtCO2_200619_B10206Ar_210513230912s.nc4\n",
      "../../data/oco2/scf/product/Lite/B10206Ar/r02/2020/06/20/LtCO2/oco2_LtCO2_200620_B10206Ar_210513231352s.nc4\n",
      "../../data/oco2/scf/product/Lite/B10206Ar/r02/2020/06/21/LtCO2/oco2_LtCO2_200621_B10206Ar_210513231408s.nc4\n",
      "../../data/oco2/scf/product/Lite/B10206Ar/r02/2020/06/22/LtCO2/oco2_LtCO2_200622_B10206Ar_210513231854s.nc4\n",
      "../../data/oco2/scf/product/Lite/B10206Ar/r02/2020/06/23/LtCO2/oco2_LtCO2_200623_B10206Ar_210513231959s.nc4\n",
      "../../data/oco2/scf/product/Lite/B10206Ar/r02/2020/06/24/LtCO2/oco2_LtCO2_200624_B10206Ar_210513232426s.nc4\n",
      "../../data/oco2/scf/product/Lite/B10206Ar/r02/2020/06/25/LtCO2/oco2_LtCO2_200625_B10206Ar_210513232521s.nc4\n",
      "../../data/oco2/scf/product/Lite/B10206Ar/r02/2020/06/26/LtCO2/oco2_LtCO2_200626_B10206Ar_210513232943s.nc4\n",
      "../../data/oco2/scf/product/Lite/B10206Ar/r02/2020/06/27/LtCO2/oco2_LtCO2_200627_B10206Ar_210513233102s.nc4\n",
      "../../data/oco2/scf/product/Lite/B10206Ar/r02/2020/06/28/LtCO2/oco2_LtCO2_200628_B10206Ar_210513233411s.nc4\n",
      "../../data/oco2/scf/product/Lite/B10206Ar/r02/2020/06/29/LtCO2/oco2_LtCO2_200629_B10206Ar_210513233532s.nc4\n",
      "../../data/oco2/scf/product/Lite/B10206Ar/r02/2020/06/30/LtCO2/oco2_LtCO2_200630_B10206Ar_210513233931s.nc4\n",
      "../../data/oco2/scf/product/Lite/B10206Ar/r02/2020/07/01/LtCO2/oco2_LtCO2_200701_B10206Ar_210521193853s.nc4\n",
      "../../data/oco2/scf/product/Lite/B10206Ar/r02/2020/07/02/LtCO2/oco2_LtCO2_200702_B10206Ar_210521193858s.nc4\n",
      "../../data/oco2/scf/product/Lite/B10206Ar/r02/2020/07/03/LtCO2/oco2_LtCO2_200703_B10206Ar_210521194254s.nc4\n",
      "../../data/oco2/scf/product/Lite/B10206Ar/r02/2020/07/04/LtCO2/oco2_LtCO2_200704_B10206Ar_210521194401s.nc4\n",
      "../../data/oco2/scf/product/Lite/B10206Ar/r02/2020/07/05/LtCO2/oco2_LtCO2_200705_B10206Ar_210521194811s.nc4\n",
      "../../data/oco2/scf/product/Lite/B10206Ar/r02/2020/07/06/LtCO2/oco2_LtCO2_200706_B10206Ar_210521194926s.nc4\n",
      "../../data/oco2/scf/product/Lite/B10206Ar/r02/2020/07/07/LtCO2/oco2_LtCO2_200707_B10206Ar_210521195247s.nc4\n",
      "../../data/oco2/scf/product/Lite/B10206Ar/r02/2020/07/08/LtCO2/oco2_LtCO2_200708_B10206Ar_210521195426s.nc4\n",
      "../../data/oco2/scf/product/Lite/B10206Ar/r02/2020/07/09/LtCO2/oco2_LtCO2_200709_B10206Ar_210521195638s.nc4\n",
      "../../data/oco2/scf/product/Lite/B10206Ar/r02/2020/07/10/LtCO2/oco2_LtCO2_200710_B10206Ar_210521195826s.nc4\n",
      "../../data/oco2/scf/product/Lite/B10206Ar/r02/2020/07/11/LtCO2/oco2_LtCO2_200711_B10206Ar_210521200059s.nc4\n",
      "../../data/oco2/scf/product/Lite/B10206Ar/r02/2020/07/12/LtCO2/oco2_LtCO2_200712_B10206Ar_210521200219s.nc4\n",
      "../../data/oco2/scf/product/Lite/B10206Ar/r02/2020/07/13/LtCO2/oco2_LtCO2_200713_B10206Ar_210521200506s.nc4\n",
      "../../data/oco2/scf/product/Lite/B10206Ar/r02/2020/07/14/LtCO2/oco2_LtCO2_200714_B10206Ar_210521200728s.nc4\n",
      "../../data/oco2/scf/product/Lite/B10206Ar/r02/2020/07/15/LtCO2/oco2_LtCO2_200715_B10206Ar_210521200901s.nc4\n",
      "../../data/oco2/scf/product/Lite/B10206Ar/r02/2020/07/16/LtCO2/oco2_LtCO2_200716_B10206Ar_210521201051s.nc4\n",
      "../../data/oco2/scf/product/Lite/B10206Ar/r02/2020/07/17/LtCO2/oco2_LtCO2_200717_B10206Ar_210521201209s.nc4\n",
      "../../data/oco2/scf/product/Lite/B10206Ar/r02/2020/07/18/LtCO2/oco2_LtCO2_200718_B10206Ar_210521201519s.nc4\n",
      "../../data/oco2/scf/product/Lite/B10206Ar/r02/2020/07/19/LtCO2/oco2_LtCO2_200719_B10206Ar_210521201620s.nc4\n",
      "../../data/oco2/scf/product/Lite/B10206Ar/r02/2020/07/20/LtCO2/oco2_LtCO2_200720_B10206Ar_210521202006s.nc4\n",
      "../../data/oco2/scf/product/Lite/B10206Ar/r02/2020/07/21/LtCO2/oco2_LtCO2_200721_B10206Ar_210521202143s.nc4\n",
      "../../data/oco2/scf/product/Lite/B10206Ar/r02/2020/07/22/LtCO2/oco2_LtCO2_200722_B10206Ar_210521202449s.nc4\n",
      "../../data/oco2/scf/product/Lite/B10206Ar/r02/2020/07/23/LtCO2/oco2_LtCO2_200723_B10206Ar_210521202536s.nc4\n",
      "../../data/oco2/scf/product/Lite/B10206Ar/r02/2020/07/24/LtCO2/oco2_LtCO2_200724_B10206Ar_210521202915s.nc4\n",
      "../../data/oco2/scf/product/Lite/B10206Ar/r02/2020/07/25/LtCO2/oco2_LtCO2_200725_B10206Ar_210521202939s.nc4\n",
      "../../data/oco2/scf/product/Lite/B10206Ar/r02/2020/07/26/LtCO2/oco2_LtCO2_200726_B10206Ar_210521203310s.nc4\n",
      "../../data/oco2/scf/product/Lite/B10206Ar/r02/2020/07/27/LtCO2/oco2_LtCO2_200727_B10206Ar_210521203341s.nc4\n",
      "../../data/oco2/scf/product/Lite/B10206Ar/r02/2020/07/28/LtCO2/oco2_LtCO2_200728_B10206Ar_210521203735s.nc4\n",
      "../../data/oco2/scf/product/Lite/B10206Ar/r02/2020/07/29/LtCO2/oco2_LtCO2_200729_B10206Ar_210521203755s.nc4\n",
      "../../data/oco2/scf/product/Lite/B10206Ar/r02/2020/07/30/LtCO2/oco2_LtCO2_200730_B10206Ar_210521204125s.nc4\n",
      "../../data/oco2/scf/product/Lite/B10206Ar/r02/2020/07/31/LtCO2/oco2_LtCO2_200731_B10206Ar_210521204150s.nc4\n",
      "../../data/oco2/scf/product/Lite/B10206Ar/r02/2020/08/01/LtCO2/oco2_LtCO2_200801_B10206Ar_210601180540s.nc4\n",
      "../../data/oco2/scf/product/Lite/B10206Ar/r02/2020/08/02/LtCO2/oco2_LtCO2_200802_B10206Ar_210601180545s.nc4\n",
      "../../data/oco2/scf/product/Lite/B10206Ar/r02/2020/08/03/LtCO2/oco2_LtCO2_200803_B10206Ar_210601181024s.nc4\n",
      "../../data/oco2/scf/product/Lite/B10206Ar/r02/2020/08/04/LtCO2/oco2_LtCO2_200804_B10206Ar_210601181140s.nc4\n",
      "../../data/oco2/scf/product/Lite/B10206Ar/r02/2020/08/05/LtCO2/oco2_LtCO2_200805_B10206Ar_210601181808s.nc4\n",
      "../../data/oco2/scf/product/Lite/B10206Ar/r02/2020/08/06/LtCO2/oco2_LtCO2_200806_B10206Ar_210601181836s.nc4\n",
      "../../data/oco2/scf/product/Lite/B10206Ar/r02/2020/08/07/LtCO2/oco2_LtCO2_200807_B10206Ar_210601182317s.nc4\n",
      "../../data/oco2/scf/product/Lite/B10206Ar/r02/2020/08/08/LtCO2/oco2_LtCO2_200808_B10206Ar_210601182411s.nc4\n",
      "../../data/oco2/scf/product/Lite/B10206Ar/r02/2020/08/09/LtCO2/oco2_LtCO2_200809_B10206Ar_210601182903s.nc4\n",
      "../../data/oco2/scf/product/Lite/B10206Ar/r02/2020/08/10/LtCO2/oco2_LtCO2_200810_B10206Ar_210601182912s.nc4\n",
      "../../data/oco2/scf/product/Lite/B10206Ar/r02/2020/08/11/LtCO2/oco2_LtCO2_200811_B10206Ar_210601183347s.nc4\n",
      "../../data/oco2/scf/product/Lite/B10206Ar/r02/2020/08/12/LtCO2/oco2_LtCO2_200812_B10206Ar_210601183424s.nc4\n",
      "../../data/oco2/scf/product/Lite/B10206Ar/r02/2020/08/13/LtCO2/oco2_LtCO2_200813_B10206Ar_210601183826s.nc4\n",
      "../../data/oco2/scf/product/Lite/B10206Ar/r02/2020/08/14/LtCO2/oco2_LtCO2_200814_B10206Ar_210601183837s.nc4\n",
      "../../data/oco2/scf/product/Lite/B10206Ar/r02/2020/08/15/LtCO2/oco2_LtCO2_200815_B10206Ar_210601184338s.nc4\n",
      "../../data/oco2/scf/product/Lite/B10206Ar/r02/2020/08/16/LtCO2/oco2_LtCO2_200816_B10206Ar_210601184402s.nc4\n",
      "../../data/oco2/scf/product/Lite/B10206Ar/r02/2020/08/17/LtCO2/oco2_LtCO2_200817_B10206Ar_210601184856s.nc4\n",
      "../../data/oco2/scf/product/Lite/B10206Ar/r02/2020/08/18/LtCO2/oco2_LtCO2_200818_B10206Ar_210601184900s.nc4\n",
      "../../data/oco2/scf/product/Lite/B10206Ar/r02/2020/08/19/LtCO2/oco2_LtCO2_200819_B10206Ar_210601185349s.nc4\n",
      "../../data/oco2/scf/product/Lite/B10206Ar/r02/2020/08/20/LtCO2/oco2_LtCO2_200820_B10206Ar_210601185441s.nc4\n",
      "../../data/oco2/scf/product/Lite/B10206Ar/r02/2020/08/21/LtCO2/oco2_LtCO2_200821_B10206Ar_210601185922s.nc4\n",
      "../../data/oco2/scf/product/Lite/B10206Ar/r02/2020/08/22/LtCO2/oco2_LtCO2_200822_B10206Ar_210601190010s.nc4\n",
      "../../data/oco2/scf/product/Lite/B10206Ar/r02/2020/08/23/LtCO2/oco2_LtCO2_200823_B10206Ar_210601190502s.nc4\n",
      "../../data/oco2/scf/product/Lite/B10206Ar/r02/2020/08/24/LtCO2/oco2_LtCO2_200824_B10206Ar_210601190527s.nc4\n",
      "../../data/oco2/scf/product/Lite/B10206Ar/r02/2020/08/25/LtCO2/oco2_LtCO2_200825_B10206Ar_210601190946s.nc4\n",
      "../../data/oco2/scf/product/Lite/B10206Ar/r02/2020/08/26/LtCO2/oco2_LtCO2_200826_B10206Ar_210601191123s.nc4\n",
      "../../data/oco2/scf/product/Lite/B10206Ar/r02/2020/08/27/LtCO2/oco2_LtCO2_200827_B10206Ar_210601191518s.nc4\n",
      "../../data/oco2/scf/product/Lite/B10206Ar/r02/2020/08/28/LtCO2/oco2_LtCO2_200828_B10206Ar_210601191621s.nc4\n",
      "../../data/oco2/scf/product/Lite/B10206Ar/r02/2020/08/29/LtCO2/oco2_LtCO2_200829_B10206Ar_210601192035s.nc4\n",
      "../../data/oco2/scf/product/Lite/B10206Ar/r02/2020/08/30/LtCO2/oco2_LtCO2_200830_B10206Ar_210601192224s.nc4\n",
      "../../data/oco2/scf/product/Lite/B10206Ar/r02/2020/08/31/LtCO2/oco2_LtCO2_200831_B10206Ar_210601192615s.nc4\n",
      "../../data/oco2/scf/product/Lite/B10206Ar/r02/2020/09/01/LtCO2/oco2_LtCO2_200901_B10206Ar_210526182049s.nc4\n",
      "../../data/oco2/scf/product/Lite/B10206Ar/r02/2020/09/02/LtCO2/oco2_LtCO2_200902_B10206Ar_210526182054s.nc4\n",
      "../../data/oco2/scf/product/Lite/B10206Ar/r02/2020/09/03/LtCO2/oco2_LtCO2_200903_B10206Ar_210526182455s.nc4\n",
      "../../data/oco2/scf/product/Lite/B10206Ar/r02/2020/09/04/LtCO2/oco2_LtCO2_200904_B10206Ar_210526182526s.nc4\n",
      "../../data/oco2/scf/product/Lite/B10206Ar/r02/2020/09/05/LtCO2/oco2_LtCO2_200905_B10206Ar_210526182958s.nc4\n",
      "../../data/oco2/scf/product/Lite/B10206Ar/r02/2020/09/06/LtCO2/oco2_LtCO2_200906_B10206Ar_210526183029s.nc4\n",
      "../../data/oco2/scf/product/Lite/B10206Ar/r02/2020/09/07/LtCO2/oco2_LtCO2_200907_B10206Ar_210526183502s.nc4\n",
      "../../data/oco2/scf/product/Lite/B10206Ar/r02/2020/09/08/LtCO2/oco2_LtCO2_200908_B10206Ar_210526183504s.nc4\n",
      "../../data/oco2/scf/product/Lite/B10206Ar/r02/2020/09/09/LtCO2/oco2_LtCO2_200909_B10206Ar_210526183922s.nc4\n",
      "../../data/oco2/scf/product/Lite/B10206Ar/r02/2020/09/10/LtCO2/oco2_LtCO2_200910_B10206Ar_210526183928s.nc4\n",
      "../../data/oco2/scf/product/Lite/B10206Ar/r02/2020/09/11/LtCO2/oco2_LtCO2_200911_B10206Ar_210526184315s.nc4\n",
      "../../data/oco2/scf/product/Lite/B10206Ar/r02/2020/09/12/LtCO2/oco2_LtCO2_200912_B10206Ar_210526184337s.nc4\n",
      "../../data/oco2/scf/product/Lite/B10206Ar/r02/2020/09/13/LtCO2/oco2_LtCO2_200913_B10206Ar_210526184756s.nc4\n",
      "../../data/oco2/scf/product/Lite/B10206Ar/r02/2020/09/14/LtCO2/oco2_LtCO2_200914_B10206Ar_210526184820s.nc4\n",
      "../../data/oco2/scf/product/Lite/B10206Ar/r02/2020/09/15/LtCO2/oco2_LtCO2_200915_B10206Ar_210526185154s.nc4\n",
      "../../data/oco2/scf/product/Lite/B10206Ar/r02/2020/09/16/LtCO2/oco2_LtCO2_200916_B10206Ar_210526185259s.nc4\n",
      "../../data/oco2/scf/product/Lite/B10206Ar/r02/2020/09/17/LtCO2/oco2_LtCO2_200917_B10206Ar_210526185633s.nc4\n",
      "../../data/oco2/scf/product/Lite/B10206Ar/r02/2020/09/18/LtCO2/oco2_LtCO2_200918_B10206Ar_210526185638s.nc4\n",
      "../../data/oco2/scf/product/Lite/B10206Ar/r02/2020/09/19/LtCO2/oco2_LtCO2_200919_B10206Ar_210526190025s.nc4\n",
      "../../data/oco2/scf/product/Lite/B10206Ar/r02/2020/09/20/LtCO2/oco2_LtCO2_200920_B10206Ar_210526190128s.nc4\n",
      "../../data/oco2/scf/product/Lite/B10206Ar/r02/2020/09/21/LtCO2/oco2_LtCO2_200921_B10206Ar_210526190430s.nc4\n",
      "../../data/oco2/scf/product/Lite/B10206Ar/r02/2020/09/22/LtCO2/oco2_LtCO2_200922_B10206Ar_210526190542s.nc4\n",
      "../../data/oco2/scf/product/Lite/B10206Ar/r02/2020/09/23/LtCO2/oco2_LtCO2_200923_B10206Ar_210526190847s.nc4\n",
      "../../data/oco2/scf/product/Lite/B10206Ar/r02/2020/09/24/LtCO2/oco2_LtCO2_200924_B10206Ar_210526191034s.nc4\n",
      "../../data/oco2/scf/product/Lite/B10206Ar/r02/2020/09/25/LtCO2/oco2_LtCO2_200925_B10206Ar_210526191318s.nc4\n",
      "../../data/oco2/scf/product/Lite/B10206Ar/r02/2020/09/26/LtCO2/oco2_LtCO2_200926_B10206Ar_210526191425s.nc4\n",
      "../../data/oco2/scf/product/Lite/B10206Ar/r02/2020/09/27/LtCO2/oco2_LtCO2_200927_B10206Ar_210526191832s.nc4\n",
      "../../data/oco2/scf/product/Lite/B10206Ar/r02/2020/09/28/LtCO2/oco2_LtCO2_200928_B10206Ar_210526191906s.nc4\n",
      "../../data/oco2/scf/product/Lite/B10206Ar/r02/2020/09/29/LtCO2/oco2_LtCO2_200929_B10206Ar_210526192219s.nc4\n",
      "../../data/oco2/scf/product/Lite/B10206Ar/r02/2020/09/30/LtCO2/oco2_LtCO2_200930_B10206Ar_210526192338s.nc4\n",
      "../../data/oco2/scf/product/Lite/B10206Ar/r02/2020/11/01/LtCO2/oco2_LtCO2_201101_B10206Ar_210607214102s.nc4\n",
      "../../data/oco2/scf/product/Lite/B10206Ar/r02/2020/11/02/LtCO2/oco2_LtCO2_201102_B10206Ar_210607214106s.nc4\n",
      "../../data/oco2/scf/product/Lite/B10206Ar/r02/2020/11/03/LtCO2/oco2_LtCO2_201103_B10206Ar_210607214439s.nc4\n",
      "../../data/oco2/scf/product/Lite/B10206Ar/r02/2020/11/04/LtCO2/oco2_LtCO2_201104_B10206Ar_210607214439s.nc4\n",
      "../../data/oco2/scf/product/Lite/B10206Ar/r02/2020/11/05/LtCO2/oco2_LtCO2_201105_B10206Ar_210607214901s.nc4\n",
      "../../data/oco2/scf/product/Lite/B10206Ar/r02/2020/11/06/LtCO2/oco2_LtCO2_201106_B10206Ar_210607214957s.nc4\n",
      "../../data/oco2/scf/product/Lite/B10206Ar/r02/2020/11/07/LtCO2/oco2_LtCO2_201107_B10206Ar_210607215338s.nc4\n",
      "../../data/oco2/scf/product/Lite/B10206Ar/r02/2020/11/08/LtCO2/oco2_LtCO2_201108_B10206Ar_210607215455s.nc4\n",
      "../../data/oco2/scf/product/Lite/B10206Ar/r02/2020/11/09/LtCO2/oco2_LtCO2_201109_B10206Ar_210607215810s.nc4\n",
      "../../data/oco2/scf/product/Lite/B10206Ar/r02/2020/11/10/LtCO2/oco2_LtCO2_201110_B10206Ar_210607215923s.nc4\n",
      "../../data/oco2/scf/product/Lite/B10206Ar/r02/2020/11/11/LtCO2/oco2_LtCO2_201111_B10206Ar_210607220144s.nc4\n",
      "../../data/oco2/scf/product/Lite/B10206Ar/r02/2020/11/12/LtCO2/oco2_LtCO2_201112_B10206Ar_210607220402s.nc4\n",
      "../../data/oco2/scf/product/Lite/B10206Ar/r02/2020/11/13/LtCO2/oco2_LtCO2_201113_B10206Ar_210607220603s.nc4\n",
      "../../data/oco2/scf/product/Lite/B10206Ar/r02/2020/11/14/LtCO2/oco2_LtCO2_201114_B10206Ar_210607220808s.nc4\n",
      "../../data/oco2/scf/product/Lite/B10206Ar/r02/2020/11/15/LtCO2/oco2_LtCO2_201115_B10206Ar_210607220942s.nc4\n",
      "../../data/oco2/scf/product/Lite/B10206Ar/r02/2020/11/16/LtCO2/oco2_LtCO2_201116_B10206Ar_210607221305s.nc4\n",
      "../../data/oco2/scf/product/Lite/B10206Ar/r02/2020/11/17/LtCO2/oco2_LtCO2_201117_B10206Ar_210607221345s.nc4\n",
      "../../data/oco2/scf/product/Lite/B10206Ar/r02/2020/11/18/LtCO2/oco2_LtCO2_201118_B10206Ar_210607221657s.nc4\n",
      "../../data/oco2/scf/product/Lite/B10206Ar/r02/2020/11/19/LtCO2/oco2_LtCO2_201119_B10206Ar_210607221816s.nc4\n",
      "../../data/oco2/scf/product/Lite/B10206Ar/r02/2020/11/20/LtCO2/oco2_LtCO2_201120_B10206Ar_210607222147s.nc4\n",
      "../../data/oco2/scf/product/Lite/B10206Ar/r02/2020/11/21/LtCO2/oco2_LtCO2_201121_B10206Ar_210607222202s.nc4\n",
      "../../data/oco2/scf/product/Lite/B10206Ar/r02/2020/11/22/LtCO2/oco2_LtCO2_201122_B10206Ar_210607222610s.nc4\n",
      "../../data/oco2/scf/product/Lite/B10206Ar/r02/2020/11/23/LtCO2/oco2_LtCO2_201123_B10206Ar_210607222641s.nc4\n",
      "../../data/oco2/scf/product/Lite/B10206Ar/r02/2020/11/24/LtCO2/oco2_LtCO2_201124_B10206Ar_210607223036s.nc4\n",
      "../../data/oco2/scf/product/Lite/B10206Ar/r02/2020/11/25/LtCO2/oco2_LtCO2_201125_B10206Ar_210607223051s.nc4\n",
      "../../data/oco2/scf/product/Lite/B10206Ar/r02/2020/11/26/LtCO2/oco2_LtCO2_201126_B10206Ar_210607223421s.nc4\n",
      "../../data/oco2/scf/product/Lite/B10206Ar/r02/2020/11/27/LtCO2/oco2_LtCO2_201127_B10206Ar_210607223537s.nc4\n",
      "../../data/oco2/scf/product/Lite/B10206Ar/r02/2020/11/28/LtCO2/oco2_LtCO2_201128_B10206Ar_210607223747s.nc4\n",
      "../../data/oco2/scf/product/Lite/B10206Ar/r02/2020/11/29/LtCO2/oco2_LtCO2_201129_B10206Ar_210607223854s.nc4\n",
      "../../data/oco2/scf/product/Lite/B10206Ar/r02/2020/11/30/LtCO2/oco2_LtCO2_201130_B10206Ar_210607224151s.nc4\n",
      "../../data/oco2/scf/product/Lite/B10206Ar/r02/2020/12/01/LtCO2/oco2_LtCO2_201201_B10206Ar_210614163903s.nc4\n",
      "../../data/oco2/scf/product/Lite/B10206Ar/r02/2020/12/02/LtCO2/oco2_LtCO2_201202_B10206Ar_210614163908s.nc4\n",
      "../../data/oco2/scf/product/Lite/B10206Ar/r02/2020/12/03/LtCO2/oco2_LtCO2_201203_B10206Ar_210614164352s.nc4\n",
      "../../data/oco2/scf/product/Lite/B10206Ar/r02/2020/12/04/LtCO2/oco2_LtCO2_201204_B10206Ar_210614164408s.nc4\n",
      "../../data/oco2/scf/product/Lite/B10206Ar/r02/2020/12/05/LtCO2/oco2_LtCO2_201205_B10206Ar_210614164845s.nc4\n",
      "../../data/oco2/scf/product/Lite/B10206Ar/r02/2020/12/06/LtCO2/oco2_LtCO2_201206_B10206Ar_210614164902s.nc4\n",
      "../../data/oco2/scf/product/Lite/B10206Ar/r02/2020/12/07/LtCO2/oco2_LtCO2_201207_B10206Ar_210614165325s.nc4\n",
      "../../data/oco2/scf/product/Lite/B10206Ar/r02/2020/12/08/LtCO2/oco2_LtCO2_201208_B10206Ar_210614165344s.nc4\n",
      "../../data/oco2/scf/product/Lite/B10206Ar/r02/2020/12/09/LtCO2/oco2_LtCO2_201209_B10206Ar_210614165715s.nc4\n",
      "../../data/oco2/scf/product/Lite/B10206Ar/r02/2020/12/10/LtCO2/oco2_LtCO2_201210_B10206Ar_210614165834s.nc4\n",
      "../../data/oco2/scf/product/Lite/B10206Ar/r02/2020/12/11/LtCO2/oco2_LtCO2_201211_B10206Ar_210614170128s.nc4\n",
      "../../data/oco2/scf/product/Lite/B10206Ar/r02/2020/12/12/LtCO2/oco2_LtCO2_201212_B10206Ar_210614170228s.nc4\n",
      "../../data/oco2/scf/product/Lite/B10206Ar/r02/2020/12/13/LtCO2/oco2_LtCO2_201213_B10206Ar_210614170448s.nc4\n",
      "../../data/oco2/scf/product/Lite/B10206Ar/r02/2020/12/14/LtCO2/oco2_LtCO2_201214_B10206Ar_210614170629s.nc4\n",
      "../../data/oco2/scf/product/Lite/B10206Ar/r02/2020/12/15/LtCO2/oco2_LtCO2_201215_B10206Ar_210614170852s.nc4\n",
      "../../data/oco2/scf/product/Lite/B10206Ar/r02/2020/12/16/LtCO2/oco2_LtCO2_201216_B10206Ar_210614171031s.nc4\n",
      "../../data/oco2/scf/product/Lite/B10206Ar/r02/2020/12/17/LtCO2/oco2_LtCO2_201217_B10206Ar_210614171228s.nc4\n",
      "../../data/oco2/scf/product/Lite/B10206Ar/r02/2020/12/18/LtCO2/oco2_LtCO2_201218_B10206Ar_210614171507s.nc4\n",
      "../../data/oco2/scf/product/Lite/B10206Ar/r02/2020/12/19/LtCO2/oco2_LtCO2_201219_B10206Ar_210614171652s.nc4\n",
      "../../data/oco2/scf/product/Lite/B10206Ar/r02/2020/12/20/LtCO2/oco2_LtCO2_201220_B10206Ar_210614171922s.nc4\n",
      "../../data/oco2/scf/product/Lite/B10206Ar/r02/2020/12/21/LtCO2/oco2_LtCO2_201221_B10206Ar_210614172110s.nc4\n",
      "../../data/oco2/scf/product/Lite/B10206Ar/r02/2020/12/22/LtCO2/oco2_LtCO2_201222_B10206Ar_210614172420s.nc4\n",
      "../../data/oco2/scf/product/Lite/B10206Ar/r02/2020/12/23/LtCO2/oco2_LtCO2_201223_B10206Ar_210614172506s.nc4\n",
      "../../data/oco2/scf/product/Lite/B10206Ar/r02/2020/12/24/LtCO2/oco2_LtCO2_201224_B10206Ar_210614172830s.nc4\n",
      "../../data/oco2/scf/product/Lite/B10206Ar/r02/2020/12/25/LtCO2/oco2_LtCO2_201225_B10206Ar_210614172951s.nc4\n",
      "../../data/oco2/scf/product/Lite/B10206Ar/r02/2020/12/26/LtCO2/oco2_LtCO2_201226_B10206Ar_210614173328s.nc4\n",
      "../../data/oco2/scf/product/Lite/B10206Ar/r02/2020/12/27/LtCO2/oco2_LtCO2_201227_B10206Ar_210614173356s.nc4\n",
      "../../data/oco2/scf/product/Lite/B10206Ar/r02/2020/12/28/LtCO2/oco2_LtCO2_201228_B10206Ar_210614173842s.nc4\n",
      "../../data/oco2/scf/product/Lite/B10206Ar/r02/2020/12/29/LtCO2/oco2_LtCO2_201229_B10206Ar_210614173900s.nc4\n",
      "../../data/oco2/scf/product/Lite/B10206Ar/r02/2020/12/30/LtCO2/oco2_LtCO2_201230_B10206Ar_210614174239s.nc4\n",
      "../../data/oco2/scf/product/Lite/B10206Ar/r02/2020/12/31/LtCO2/oco2_LtCO2_201231_B10206Ar_210614174346s.nc4\n",
      "../../data/oco2/scf/product/Lite/B10206Ar/r02/2020/10/01/LtCO2/oco2_LtCO2_201001_B10206Ar_210612225727s.nc4\n",
      "../../data/oco2/scf/product/Lite/B10206Ar/r02/2020/10/02/LtCO2/oco2_LtCO2_201002_B10206Ar_210612225732s.nc4\n",
      "../../data/oco2/scf/product/Lite/B10206Ar/r02/2020/10/03/LtCO2/oco2_LtCO2_201003_B10206Ar_210612230130s.nc4\n",
      "../../data/oco2/scf/product/Lite/B10206Ar/r02/2020/10/04/LtCO2/oco2_LtCO2_201004_B10206Ar_210612230225s.nc4\n",
      "../../data/oco2/scf/product/Lite/B10206Ar/r02/2020/10/05/LtCO2/oco2_LtCO2_201005_B10206Ar_210612230714s.nc4\n",
      "../../data/oco2/scf/product/Lite/B10206Ar/r02/2020/10/06/LtCO2/oco2_LtCO2_201006_B10206Ar_210612230758s.nc4\n",
      "../../data/oco2/scf/product/Lite/B10206Ar/r02/2020/10/07/LtCO2/oco2_LtCO2_201007_B10206Ar_210612231045s.nc4\n",
      "../../data/oco2/scf/product/Lite/B10206Ar/r02/2020/10/08/LtCO2/oco2_LtCO2_201008_B10206Ar_210612231220s.nc4\n",
      "../../data/oco2/scf/product/Lite/B10206Ar/r02/2020/10/09/LtCO2/oco2_LtCO2_201009_B10206Ar_210612231416s.nc4\n",
      "../../data/oco2/scf/product/Lite/B10206Ar/r02/2020/10/10/LtCO2/oco2_LtCO2_201010_B10206Ar_210612231617s.nc4\n",
      "../../data/oco2/scf/product/Lite/B10206Ar/r02/2020/10/11/LtCO2/oco2_LtCO2_201011_B10206Ar_210612231900s.nc4\n",
      "../../data/oco2/scf/product/Lite/B10206Ar/r02/2020/10/12/LtCO2/oco2_LtCO2_201012_B10206Ar_210612232134s.nc4\n",
      "../../data/oco2/scf/product/Lite/B10206Ar/r02/2020/10/13/LtCO2/oco2_LtCO2_201013_B10206Ar_210612232306s.nc4\n",
      "../../data/oco2/scf/product/Lite/B10206Ar/r02/2020/10/14/LtCO2/oco2_LtCO2_201014_B10206Ar_210612232550s.nc4\n",
      "../../data/oco2/scf/product/Lite/B10206Ar/r02/2020/10/15/LtCO2/oco2_LtCO2_201015_B10206Ar_210612232748s.nc4\n",
      "../../data/oco2/scf/product/Lite/B10206Ar/r02/2020/10/16/LtCO2/oco2_LtCO2_201016_B10206Ar_210612233011s.nc4\n",
      "../../data/oco2/scf/product/Lite/B10206Ar/r02/2020/10/17/LtCO2/oco2_LtCO2_201017_B10206Ar_210612233120s.nc4\n",
      "../../data/oco2/scf/product/Lite/B10206Ar/r02/2020/10/18/LtCO2/oco2_LtCO2_201018_B10206Ar_210612233427s.nc4\n",
      "../../data/oco2/scf/product/Lite/B10206Ar/r02/2020/10/19/LtCO2/oco2_LtCO2_201019_B10206Ar_210612233522s.nc4\n",
      "../../data/oco2/scf/product/Lite/B10206Ar/r02/2020/10/20/LtCO2/oco2_LtCO2_201020_B10206Ar_210612233818s.nc4\n",
      "../../data/oco2/scf/product/Lite/B10206Ar/r02/2020/10/21/LtCO2/oco2_LtCO2_201021_B10206Ar_210612233843s.nc4\n",
      "../../data/oco2/scf/product/Lite/B10206Ar/r02/2020/10/22/LtCO2/oco2_LtCO2_201022_B10206Ar_210612234312s.nc4\n",
      "../../data/oco2/scf/product/Lite/B10206Ar/r02/2020/10/23/LtCO2/oco2_LtCO2_201023_B10206Ar_210612234340s.nc4\n",
      "../../data/oco2/scf/product/Lite/B10206Ar/r02/2020/10/24/LtCO2/oco2_LtCO2_201024_B10206Ar_210612234703s.nc4\n",
      "../../data/oco2/scf/product/Lite/B10206Ar/r02/2020/10/25/LtCO2/oco2_LtCO2_201025_B10206Ar_210612234800s.nc4\n",
      "../../data/oco2/scf/product/Lite/B10206Ar/r02/2020/10/26/LtCO2/oco2_LtCO2_201026_B10206Ar_210612235117s.nc4\n",
      "../../data/oco2/scf/product/Lite/B10206Ar/r02/2020/10/27/LtCO2/oco2_LtCO2_201027_B10206Ar_210612235148s.nc4\n",
      "../../data/oco2/scf/product/Lite/B10206Ar/r02/2020/10/28/LtCO2/oco2_LtCO2_201028_B10206Ar_210612235449s.nc4\n",
      "../../data/oco2/scf/product/Lite/B10206Ar/r02/2020/10/29/LtCO2/oco2_LtCO2_201029_B10206Ar_210612235601s.nc4\n",
      "../../data/oco2/scf/product/Lite/B10206Ar/r02/2020/10/30/LtCO2/oco2_LtCO2_201030_B10206Ar_210612235806s.nc4\n",
      "../../data/oco2/scf/product/Lite/B10206Ar/r02/2020/10/31/LtCO2/oco2_LtCO2_201031_B10206Ar_210613000000s.nc4\n"
     ]
    }
   ],
   "source": [
    "\n",
    "file_path_2020= []\n",
    "\n",
    "for root, dirs, files in os.walk('../../data/oco2/scf/product/Lite/B10206Ar/r02/2020/'):\n",
    "    for filename in files:\n",
    "        print(os.path.join(root, filename))\n",
    "        \n",
    "        # Append the files into list\n",
    "        file_path_2020.append(os.path.join(root, filename))"
   ]
  },
  {
   "cell_type": "code",
   "execution_count": 39,
   "id": "fa6edcca",
   "metadata": {},
   "outputs": [
    {
     "data": {
      "text/plain": [
       "356"
      ]
     },
     "execution_count": 39,
     "metadata": {},
     "output_type": "execute_result"
    }
   ],
   "source": [
    "len(file_path_2020)"
   ]
  },
  {
   "cell_type": "code",
   "execution_count": 40,
   "id": "97e739bd",
   "metadata": {},
   "outputs": [],
   "source": [
    "xco2_2020= []\n",
    "sounding_id_2020= []\n",
    "\n",
    "for j in range(0, (len(file_path_2020)-1)):\n",
    "    df= nc.Dataset(file_path_2020[j])\n",
    "    \n",
    "    \n",
    "    # storing on pandas\n",
    "    \n",
    "    #df_2020= pd.DataFrame(df, columns=[\"Xco2\"])`````\n",
    "    xco2_2020.append(df.variables[\"xco2\"][:])\n",
    "    sounding_id_2020.append(df.variables[\"sounding_id\"][:])\n"
   ]
  },
  {
   "cell_type": "code",
   "execution_count": 41,
   "id": "b50de502",
   "metadata": {},
   "outputs": [
    {
     "data": {
      "text/plain": [
       "list"
      ]
     },
     "execution_count": 41,
     "metadata": {},
     "output_type": "execute_result"
    }
   ],
   "source": [
    "type(file_path_2020)"
   ]
  },
  {
   "cell_type": "markdown",
   "id": "28d37064",
   "metadata": {},
   "source": [
    "# Class\n",
    "- Function to READ the variables via NETCDF library\n",
    "- Reads the FILES inside the dir and create Dataframe"
   ]
  },
  {
   "cell_type": "code",
   "execution_count": 42,
   "id": "6ec6c4e3",
   "metadata": {},
   "outputs": [],
   "source": [
    "class readFiles:\n",
    "    \n",
    "    oco_files=[]\n",
    "    xco2= []\n",
    "    sounding_id= []\n",
    "    quality_flag= []\n",
    "    latitude= []\n",
    "    longitude= []\n",
    "    \n",
    "    def __init__(self, filePath):\n",
    "        self.filePath= filePath\n",
    "        # Total files in the directory\n",
    "        self.total= filePath\n",
    "        \n",
    "        \n",
    "        # RETRIEVE the files automatically on the constructor\n",
    "        for j in range(0, (len(self.total) -1)):\n",
    "            self.oco_files= nc.Dataset(self.filePath[j])\n",
    "            \n",
    "            # read the variables\n",
    "            self.xco2.append(self.oco_files.variables[\"xco2\"][:])\n",
    "            self.sounding_id.append(self.oco_files.variables[\"sounding_id\"][:])\n",
    "            self.quality_flag.append(self.oco_files.variables[\"xco2_quality_flag\"][:])\n",
    "            self.latitude.append(self.oco_files.variables[\"latitude\"][:])\n",
    "            self.longitude.append(self.oco_files.variables[\"longitude\"][:])\n",
    "    \n",
    "    # return XCO2\n",
    "    def get_xco2(self):\n",
    "        return self.xco2\n",
    "    \n",
    "    def get_sounding_id(self):\n",
    "        return self.sounding_id\n",
    "    \n",
    "    # return qual flag\n",
    "    def get_quality_flag(self):\n",
    "        return self.quality_flag\n",
    "    \n",
    "    # reutrn lat\n",
    "    def get_latitude(self):\n",
    "        return self.latitude\n",
    "    \n",
    "    # reutrn lat\n",
    "    def get_longitude(self):\n",
    "        return self.longitude"
   ]
  },
  {
   "cell_type": "markdown",
   "id": "bcb900aa",
   "metadata": {},
   "source": [
    "# TEST: CLASS OBJECT to READ FILES"
   ]
  },
  {
   "cell_type": "code",
   "execution_count": 43,
   "id": "621c1ad6",
   "metadata": {},
   "outputs": [],
   "source": [
    "\n",
    "xco2_2020_files= readFiles(file_path_2020);"
   ]
  },
  {
   "cell_type": "code",
   "execution_count": 44,
   "id": "029c49e1",
   "metadata": {},
   "outputs": [],
   "source": [
    "# Get the xco2 var from the OBJECT \n",
    "\n",
    "xco2_2020= xco2_2020_files.get_xco2()\n",
    "qual_flag_2020= xco2_2020_files.get_quality_flag()\n",
    "sounding_id_2020= xco2_2020_files.get_sounding_id()\n",
    "latitude_2020= xco2_2020_files.get_latitude()\n",
    "longitude_2020= xco2_2020_files.get_longitude()"
   ]
  },
  {
   "cell_type": "markdown",
   "id": "2538f117",
   "metadata": {},
   "source": [
    "# TOTAL RECORDS: Days"
   ]
  },
  {
   "cell_type": "code",
   "execution_count": 45,
   "id": "be1508b1",
   "metadata": {},
   "outputs": [
    {
     "data": {
      "text/plain": [
       "355"
      ]
     },
     "execution_count": 45,
     "metadata": {},
     "output_type": "execute_result"
    }
   ],
   "source": [
    "len(xco2_2020)"
   ]
  },
  {
   "cell_type": "code",
   "execution_count": 46,
   "id": "e4c6e5f9",
   "metadata": {},
   "outputs": [
    {
     "data": {
      "text/plain": [
       "(170214, 185129)"
      ]
     },
     "execution_count": 46,
     "metadata": {},
     "output_type": "execute_result"
    }
   ],
   "source": [
    "df_2020= pd.DataFrame(xco2_2020[0], columns=[\"Xco2\"])\n",
    "\n",
    "len(df_2020), len(xco2_2020[1])"
   ]
  },
  {
   "cell_type": "markdown",
   "id": "6186d273",
   "metadata": {},
   "source": [
    "# APPENDING the columns"
   ]
  },
  {
   "cell_type": "code",
   "execution_count": 48,
   "id": "fd07cb58",
   "metadata": {},
   "outputs": [
    {
     "ename": "IndexError",
     "evalue": "list index out of range",
     "output_type": "error",
     "traceback": [
      "\u001b[0;31m---------------------------------------------------------------------------\u001b[0m",
      "\u001b[0;31mIndexError\u001b[0m                                Traceback (most recent call last)",
      "\u001b[0;32m<timed exec>\u001b[0m in \u001b[0;36m<module>\u001b[0;34m\u001b[0m\n",
      "\u001b[0;31mIndexError\u001b[0m: list index out of range"
     ]
    }
   ],
   "source": [
    "%%time\n",
    "df_2020_comb= pd.DataFrame(columns=[\"Xco2\"])\n",
    "                                    #, \"quality_flag\",\"latitude\",\"longitude\",\"sounding_id\"])\n",
    "\n",
    "for j in range(365):\n",
    "#for j in range(10):\n",
    "    \n",
    "    # FIRST COLdf\n",
    "    df_2020_comb= df_2020_comb.append(pd.DataFrame(xco2_2020[j], columns=[\"Xco2\"]))\n",
    "#     df_2020_comb= df_2020_comb.append(pd.DataFrame(qual_flag_2020[j], columns=[\"quality_flag\"]))\n",
    "#     df_2020_comb= df_2020_comb.append(pd.DataFrame(latitude_2020[j], columns=[\"latitude\"]))\n",
    "#     df_2020_comb= df_2020_comb.append(pd.DataFrame(longitude_2020[j], columns=[\"longitude\"]))\n",
    "#     df_2020_comb= df_2020_comb.append(pd.DataFrame(sounding_id_2020[j], columns=[\"sounding_id\"]))"
   ]
  },
  {
   "cell_type": "code",
   "execution_count": 49,
   "id": "183103f4",
   "metadata": {
    "scrolled": false
   },
   "outputs": [
    {
     "data": {
      "text/plain": [
       "61646463"
      ]
     },
     "execution_count": 49,
     "metadata": {},
     "output_type": "execute_result"
    }
   ],
   "source": [
    "len(df_2020_comb)"
   ]
  },
  {
   "cell_type": "markdown",
   "id": "d17a31f6",
   "metadata": {},
   "source": [
    "# Adding Quality FLAG as new column"
   ]
  },
  {
   "cell_type": "code",
   "execution_count": 50,
   "id": "94f87c59",
   "metadata": {},
   "outputs": [
    {
     "ename": "IndexError",
     "evalue": "list index out of range",
     "output_type": "error",
     "traceback": [
      "\u001b[0;31m---------------------------------------------------------------------------\u001b[0m",
      "\u001b[0;31mIndexError\u001b[0m                                Traceback (most recent call last)",
      "\u001b[0;32m<timed exec>\u001b[0m in \u001b[0;36m<module>\u001b[0;34m\u001b[0m\n",
      "\u001b[0;31mIndexError\u001b[0m: list index out of range"
     ]
    }
   ],
   "source": [
    "%%time\n",
    "df_2020_comb_qual= pd.DataFrame(columns=[\"quality_flag\"])\n",
    "                                    #, \"quality_flag\",\"latitude\",\"longitude\",\"sounding_id\"])\n",
    "\n",
    "for j in range(365):\n",
    "    \n",
    "    # FIRST COL\n",
    "    df_2020_comb_qual= df_2020_comb_qual.append(pd.DataFrame(qual_flag_2020[j], columns=[\"quality_flag\"]))\n"
   ]
  },
  {
   "cell_type": "code",
   "execution_count": 51,
   "id": "454bd203",
   "metadata": {},
   "outputs": [
    {
     "data": {
      "text/html": [
       "<div>\n",
       "<style scoped>\n",
       "    .dataframe tbody tr th:only-of-type {\n",
       "        vertical-align: middle;\n",
       "    }\n",
       "\n",
       "    .dataframe tbody tr th {\n",
       "        vertical-align: top;\n",
       "    }\n",
       "\n",
       "    .dataframe thead th {\n",
       "        text-align: right;\n",
       "    }\n",
       "</style>\n",
       "<table border=\"1\" class=\"dataframe\">\n",
       "  <thead>\n",
       "    <tr style=\"text-align: right;\">\n",
       "      <th></th>\n",
       "      <th>quality_flag</th>\n",
       "    </tr>\n",
       "  </thead>\n",
       "  <tbody>\n",
       "    <tr>\n",
       "      <th>0</th>\n",
       "      <td>1</td>\n",
       "    </tr>\n",
       "    <tr>\n",
       "      <th>1</th>\n",
       "      <td>1</td>\n",
       "    </tr>\n",
       "    <tr>\n",
       "      <th>2</th>\n",
       "      <td>1</td>\n",
       "    </tr>\n",
       "    <tr>\n",
       "      <th>3</th>\n",
       "      <td>1</td>\n",
       "    </tr>\n",
       "    <tr>\n",
       "      <th>4</th>\n",
       "      <td>1</td>\n",
       "    </tr>\n",
       "    <tr>\n",
       "      <th>...</th>\n",
       "      <td>...</td>\n",
       "    </tr>\n",
       "    <tr>\n",
       "      <th>166351</th>\n",
       "      <td>1</td>\n",
       "    </tr>\n",
       "    <tr>\n",
       "      <th>166352</th>\n",
       "      <td>1</td>\n",
       "    </tr>\n",
       "    <tr>\n",
       "      <th>166353</th>\n",
       "      <td>1</td>\n",
       "    </tr>\n",
       "    <tr>\n",
       "      <th>166354</th>\n",
       "      <td>1</td>\n",
       "    </tr>\n",
       "    <tr>\n",
       "      <th>166355</th>\n",
       "      <td>1</td>\n",
       "    </tr>\n",
       "  </tbody>\n",
       "</table>\n",
       "<p>61646463 rows × 1 columns</p>\n",
       "</div>"
      ],
      "text/plain": [
       "       quality_flag\n",
       "0                 1\n",
       "1                 1\n",
       "2                 1\n",
       "3                 1\n",
       "4                 1\n",
       "...             ...\n",
       "166351            1\n",
       "166352            1\n",
       "166353            1\n",
       "166354            1\n",
       "166355            1\n",
       "\n",
       "[61646463 rows x 1 columns]"
      ]
     },
     "execution_count": 51,
     "metadata": {},
     "output_type": "execute_result"
    }
   ],
   "source": [
    "df_2020_comb_qual"
   ]
  },
  {
   "cell_type": "markdown",
   "id": "cb4775ed",
   "metadata": {},
   "source": [
    "# LONGITUDE and LATITUDE"
   ]
  },
  {
   "cell_type": "code",
   "execution_count": 52,
   "id": "4be4f349",
   "metadata": {},
   "outputs": [
    {
     "ename": "IndexError",
     "evalue": "list index out of range",
     "output_type": "error",
     "traceback": [
      "\u001b[0;31m---------------------------------------------------------------------------\u001b[0m",
      "\u001b[0;31mIndexError\u001b[0m                                Traceback (most recent call last)",
      "\u001b[0;32m<timed exec>\u001b[0m in \u001b[0;36m<module>\u001b[0;34m\u001b[0m\n",
      "\u001b[0;31mIndexError\u001b[0m: list index out of range"
     ]
    }
   ],
   "source": [
    "%%time\n",
    "df_2020_comb_lat= pd.DataFrame(columns=[\"latitude\"])\n",
    "                                    #, \"quality_flag\",\"latitude\",\"longitude\",\"sounding_id\"])\n",
    "\n",
    "for j in range(365):\n",
    "    \n",
    "    # FIRST COL\n",
    "    df_2020_comb_lat= df_2020_comb_lat.append(pd.DataFrame(latitude_2020[j], columns=[\"latitude\"]))\n",
    "\n",
    "\n",
    "len(df_2020_comb_lat)"
   ]
  },
  {
   "cell_type": "markdown",
   "id": "9a1a6335",
   "metadata": {},
   "source": [
    "# Longitude"
   ]
  },
  {
   "cell_type": "code",
   "execution_count": 53,
   "id": "8c4548b9",
   "metadata": {},
   "outputs": [
    {
     "ename": "IndexError",
     "evalue": "list index out of range",
     "output_type": "error",
     "traceback": [
      "\u001b[0;31m---------------------------------------------------------------------------\u001b[0m",
      "\u001b[0;31mIndexError\u001b[0m                                Traceback (most recent call last)",
      "\u001b[0;32m<timed exec>\u001b[0m in \u001b[0;36m<module>\u001b[0;34m\u001b[0m\n",
      "\u001b[0;31mIndexError\u001b[0m: list index out of range"
     ]
    }
   ],
   "source": [
    "%%time\n",
    "df_2020_comb_long= pd.DataFrame(columns=[\"longitude\"])\n",
    "                                    #, \"quality_flag\",\"latitude\",\"longitude\",\"sounding_id\"])\n",
    "\n",
    "for j in range(365):\n",
    "    \n",
    "    # FIRST COL\n",
    "    df_2020_comb_long= df_2020_comb_long.append(pd.DataFrame(longitude_2020[j], columns=[\"longitude\"]))\n"
   ]
  },
  {
   "cell_type": "code",
   "execution_count": 54,
   "id": "dc510230",
   "metadata": {},
   "outputs": [
    {
     "data": {
      "text/plain": [
       "61646463"
      ]
     },
     "execution_count": 54,
     "metadata": {},
     "output_type": "execute_result"
    }
   ],
   "source": [
    "len(df_2020_comb_long)"
   ]
  },
  {
   "cell_type": "markdown",
   "id": "ad0adf7e",
   "metadata": {},
   "source": [
    "# COMBINE all DATAFRAMES\n",
    "- Variables for new columns: xco2, quality_Flag, Latitude, Longitude"
   ]
  },
  {
   "cell_type": "code",
   "execution_count": 55,
   "id": "b13b01ba",
   "metadata": {},
   "outputs": [
    {
     "data": {
      "text/html": [
       "<div>\n",
       "<style scoped>\n",
       "    .dataframe tbody tr th:only-of-type {\n",
       "        vertical-align: middle;\n",
       "    }\n",
       "\n",
       "    .dataframe tbody tr th {\n",
       "        vertical-align: top;\n",
       "    }\n",
       "\n",
       "    .dataframe thead th {\n",
       "        text-align: right;\n",
       "    }\n",
       "</style>\n",
       "<table border=\"1\" class=\"dataframe\">\n",
       "  <thead>\n",
       "    <tr style=\"text-align: right;\">\n",
       "      <th></th>\n",
       "      <th>Xco2</th>\n",
       "      <th>quality_flag</th>\n",
       "      <th>latitude</th>\n",
       "      <th>longitude</th>\n",
       "    </tr>\n",
       "  </thead>\n",
       "  <tbody>\n",
       "    <tr>\n",
       "      <th>0</th>\n",
       "      <td>407.632629</td>\n",
       "      <td>1</td>\n",
       "      <td>-63.136539</td>\n",
       "      <td>-144.769806</td>\n",
       "    </tr>\n",
       "    <tr>\n",
       "      <th>1</th>\n",
       "      <td>405.346191</td>\n",
       "      <td>1</td>\n",
       "      <td>-63.118542</td>\n",
       "      <td>-144.780075</td>\n",
       "    </tr>\n",
       "    <tr>\n",
       "      <th>2</th>\n",
       "      <td>409.152313</td>\n",
       "      <td>1</td>\n",
       "      <td>-63.071033</td>\n",
       "      <td>-144.978363</td>\n",
       "    </tr>\n",
       "    <tr>\n",
       "      <th>3</th>\n",
       "      <td>409.182678</td>\n",
       "      <td>1</td>\n",
       "      <td>-63.071945</td>\n",
       "      <td>-145.012222</td>\n",
       "    </tr>\n",
       "    <tr>\n",
       "      <th>4</th>\n",
       "      <td>408.380798</td>\n",
       "      <td>1</td>\n",
       "      <td>-63.052227</td>\n",
       "      <td>-144.954651</td>\n",
       "    </tr>\n",
       "    <tr>\n",
       "      <th>...</th>\n",
       "      <td>...</td>\n",
       "      <td>...</td>\n",
       "      <td>...</td>\n",
       "      <td>...</td>\n",
       "    </tr>\n",
       "    <tr>\n",
       "      <th>166351</th>\n",
       "      <td>402.939941</td>\n",
       "      <td>1</td>\n",
       "      <td>-64.381317</td>\n",
       "      <td>-146.030823</td>\n",
       "    </tr>\n",
       "    <tr>\n",
       "      <th>166352</th>\n",
       "      <td>403.313538</td>\n",
       "      <td>1</td>\n",
       "      <td>-64.346115</td>\n",
       "      <td>-146.048264</td>\n",
       "    </tr>\n",
       "    <tr>\n",
       "      <th>166353</th>\n",
       "      <td>402.081085</td>\n",
       "      <td>1</td>\n",
       "      <td>-64.186279</td>\n",
       "      <td>-146.129028</td>\n",
       "    </tr>\n",
       "    <tr>\n",
       "      <th>166354</th>\n",
       "      <td>403.908295</td>\n",
       "      <td>1</td>\n",
       "      <td>-64.133270</td>\n",
       "      <td>-146.155426</td>\n",
       "    </tr>\n",
       "    <tr>\n",
       "      <th>166355</th>\n",
       "      <td>402.349060</td>\n",
       "      <td>1</td>\n",
       "      <td>-64.115387</td>\n",
       "      <td>-146.164276</td>\n",
       "    </tr>\n",
       "  </tbody>\n",
       "</table>\n",
       "<p>61646463 rows × 4 columns</p>\n",
       "</div>"
      ],
      "text/plain": [
       "              Xco2 quality_flag   latitude   longitude\n",
       "0       407.632629            1 -63.136539 -144.769806\n",
       "1       405.346191            1 -63.118542 -144.780075\n",
       "2       409.152313            1 -63.071033 -144.978363\n",
       "3       409.182678            1 -63.071945 -145.012222\n",
       "4       408.380798            1 -63.052227 -144.954651\n",
       "...            ...          ...        ...         ...\n",
       "166351  402.939941            1 -64.381317 -146.030823\n",
       "166352  403.313538            1 -64.346115 -146.048264\n",
       "166353  402.081085            1 -64.186279 -146.129028\n",
       "166354  403.908295            1 -64.133270 -146.155426\n",
       "166355  402.349060            1 -64.115387 -146.164276\n",
       "\n",
       "[61646463 rows x 4 columns]"
      ]
     },
     "execution_count": 55,
     "metadata": {},
     "output_type": "execute_result"
    }
   ],
   "source": [
    "combined_dataframe= pd.concat([df_2020_comb,df_2020_comb_qual,df_2020_comb_lat, df_2020_comb_long], axis= 1)\n",
    "combined_dataframe"
   ]
  },
  {
   "cell_type": "markdown",
   "id": "c952d528",
   "metadata": {},
   "source": [
    "# GOOD XCo2 good quality\n",
    "- Selection of GOOD quality FLAG for analysis"
   ]
  },
  {
   "cell_type": "code",
   "execution_count": 56,
   "id": "5d77f327",
   "metadata": {},
   "outputs": [
    {
     "name": "stdout",
     "output_type": "stream",
     "text": [
      "CPU times: user 3.41 s, sys: 482 ms, total: 3.89 s\n",
      "Wall time: 3.89 s\n"
     ]
    },
    {
     "data": {
      "text/plain": [
       "31565083"
      ]
     },
     "execution_count": 56,
     "metadata": {},
     "output_type": "execute_result"
    }
   ],
   "source": [
    "%%time\n",
    "xco2_good_quality= combined_dataframe[combined_dataframe[\"quality_flag\"]== 0]\n",
    "len(xco2_good_quality)"
   ]
  },
  {
   "cell_type": "markdown",
   "id": "da7655b9",
   "metadata": {},
   "source": [
    "# XCO2 > 419"
   ]
  },
  {
   "cell_type": "code",
   "execution_count": 62,
   "id": "9944be4e",
   "metadata": {},
   "outputs": [
    {
     "data": {
      "text/html": [
       "<div>\n",
       "<style scoped>\n",
       "    .dataframe tbody tr th:only-of-type {\n",
       "        vertical-align: middle;\n",
       "    }\n",
       "\n",
       "    .dataframe tbody tr th {\n",
       "        vertical-align: top;\n",
       "    }\n",
       "\n",
       "    .dataframe thead th {\n",
       "        text-align: right;\n",
       "    }\n",
       "</style>\n",
       "<table border=\"1\" class=\"dataframe\">\n",
       "  <thead>\n",
       "    <tr style=\"text-align: right;\">\n",
       "      <th></th>\n",
       "      <th>Xco2</th>\n",
       "      <th>quality_flag</th>\n",
       "      <th>latitude</th>\n",
       "      <th>longitude</th>\n",
       "    </tr>\n",
       "  </thead>\n",
       "  <tbody>\n",
       "    <tr>\n",
       "      <th>39915</th>\n",
       "      <td>420.254974</td>\n",
       "      <td>0</td>\n",
       "      <td>39.904865</td>\n",
       "      <td>118.599495</td>\n",
       "    </tr>\n",
       "    <tr>\n",
       "      <th>39916</th>\n",
       "      <td>419.670685</td>\n",
       "      <td>0</td>\n",
       "      <td>39.898026</td>\n",
       "      <td>118.608894</td>\n",
       "    </tr>\n",
       "    <tr>\n",
       "      <th>39922</th>\n",
       "      <td>420.561523</td>\n",
       "      <td>0</td>\n",
       "      <td>39.917988</td>\n",
       "      <td>118.602638</td>\n",
       "    </tr>\n",
       "    <tr>\n",
       "      <th>8204</th>\n",
       "      <td>419.822754</td>\n",
       "      <td>0</td>\n",
       "      <td>-77.534050</td>\n",
       "      <td>161.287567</td>\n",
       "    </tr>\n",
       "    <tr>\n",
       "      <th>27214</th>\n",
       "      <td>419.059906</td>\n",
       "      <td>0</td>\n",
       "      <td>44.447720</td>\n",
       "      <td>93.903732</td>\n",
       "    </tr>\n",
       "    <tr>\n",
       "      <th>...</th>\n",
       "      <td>...</td>\n",
       "      <td>...</td>\n",
       "      <td>...</td>\n",
       "      <td>...</td>\n",
       "    </tr>\n",
       "    <tr>\n",
       "      <th>62483</th>\n",
       "      <td>420.213409</td>\n",
       "      <td>0</td>\n",
       "      <td>39.337490</td>\n",
       "      <td>112.504196</td>\n",
       "    </tr>\n",
       "    <tr>\n",
       "      <th>62486</th>\n",
       "      <td>419.116699</td>\n",
       "      <td>0</td>\n",
       "      <td>39.306664</td>\n",
       "      <td>112.536140</td>\n",
       "    </tr>\n",
       "    <tr>\n",
       "      <th>62501</th>\n",
       "      <td>419.036377</td>\n",
       "      <td>0</td>\n",
       "      <td>39.338543</td>\n",
       "      <td>112.531464</td>\n",
       "    </tr>\n",
       "    <tr>\n",
       "      <th>62564</th>\n",
       "      <td>419.372345</td>\n",
       "      <td>0</td>\n",
       "      <td>39.549229</td>\n",
       "      <td>112.444443</td>\n",
       "    </tr>\n",
       "    <tr>\n",
       "      <th>41635</th>\n",
       "      <td>419.526215</td>\n",
       "      <td>0</td>\n",
       "      <td>53.315346</td>\n",
       "      <td>121.091354</td>\n",
       "    </tr>\n",
       "  </tbody>\n",
       "</table>\n",
       "<p>3757 rows × 4 columns</p>\n",
       "</div>"
      ],
      "text/plain": [
       "             Xco2 quality_flag   latitude   longitude\n",
       "39915  420.254974            0  39.904865  118.599495\n",
       "39916  419.670685            0  39.898026  118.608894\n",
       "39922  420.561523            0  39.917988  118.602638\n",
       "8204   419.822754            0 -77.534050  161.287567\n",
       "27214  419.059906            0  44.447720   93.903732\n",
       "...           ...          ...        ...         ...\n",
       "62483  420.213409            0  39.337490  112.504196\n",
       "62486  419.116699            0  39.306664  112.536140\n",
       "62501  419.036377            0  39.338543  112.531464\n",
       "62564  419.372345            0  39.549229  112.444443\n",
       "41635  419.526215            0  53.315346  121.091354\n",
       "\n",
       "[3757 rows x 4 columns]"
      ]
     },
     "execution_count": 62,
     "metadata": {},
     "output_type": "execute_result"
    }
   ],
   "source": [
    "xco2_good_quality[xco2_good_quality[\"Xco2\"] > 419]"
   ]
  },
  {
   "cell_type": "markdown",
   "id": "906ee251",
   "metadata": {},
   "source": [
    "# Scatter Plots\n",
    "## 2020"
   ]
  },
  {
   "cell_type": "markdown",
   "id": "0774c4dc",
   "metadata": {},
   "source": [
    "# TOTAL"
   ]
  },
  {
   "cell_type": "code",
   "execution_count": 57,
   "id": "5ca211ea",
   "metadata": {},
   "outputs": [
    {
     "data": {
      "image/png": "[encoded data removed]",
      "text/plain": [
       "<Figure size 576x432 with 1 Axes>"
      ]
     },
     "metadata": {},
     "output_type": "display_data"
    }
   ],
   "source": [
    "# %%time\n",
    "plt.scatter(x=np.arange(0, len(combined_dataframe)), y= combined_dataframe[\"Xco2\"], c='red', alpha=0.25)\n",
    "plt.axhline(y= 419, color='blue')\n",
    "plt.gcf().set_size_inches(8,6);"
   ]
  },
  {
   "cell_type": "markdown",
   "id": "09c20ebf",
   "metadata": {},
   "source": [
    "# GOOD quality Flag -> 0"
   ]
  },
  {
   "cell_type": "code",
   "execution_count": 58,
   "id": "b04acf5d",
   "metadata": {},
   "outputs": [
    {
     "name": "stdout",
     "output_type": "stream",
     "text": [
      "CPU times: user 3.55 s, sys: 185 ms, total: 3.74 s\n",
      "Wall time: 3.75 s\n"
     ]
    },
    {
     "data": {
      "image/png": "[encoded data removed]",
      "text/plain": [
       "<Figure size 720x576 with 1 Axes>"
      ]
     },
     "metadata": {},
     "output_type": "display_data"
    }
   ],
   "source": [
    "%%time\n",
    "plt.scatter(x=np.arange(0, len(xco2_good_quality)), y= xco2_good_quality[\"Xco2\"], c='red', alpha=0.30 )\n",
    "plt.axhline(y= 419, color='blue', label= '419 ppm')\n",
    "plt.yticks(np.arange(375, 445, 10), fontsize= 20)\n",
    "plt.title('2020, OCO-2\\n', fontsize= 24)\n",
    "plt.legend(loc= 'upper right', prop={'size': 20})\n",
    "plt.ylabel('XCO2 (ppm)', fontsize= 24)\n",
    "plt.gcf().set_size_inches(10,8);"
   ]
  },
  {
   "cell_type": "markdown",
   "id": "35bfbb03",
   "metadata": {},
   "source": [
    "# Scatter plots the datapoints that higher than 419"
   ]
  },
  {
   "cell_type": "code",
   "execution_count": 59,
   "id": "34536ef9",
   "metadata": {},
   "outputs": [
    {
     "data": {
      "text/html": [
       "<div>\n",
       "<style scoped>\n",
       "    .dataframe tbody tr th:only-of-type {\n",
       "        vertical-align: middle;\n",
       "    }\n",
       "\n",
       "    .dataframe tbody tr th {\n",
       "        vertical-align: top;\n",
       "    }\n",
       "\n",
       "    .dataframe thead th {\n",
       "        text-align: right;\n",
       "    }\n",
       "</style>\n",
       "<table border=\"1\" class=\"dataframe\">\n",
       "  <thead>\n",
       "    <tr style=\"text-align: right;\">\n",
       "      <th></th>\n",
       "      <th>Xco2</th>\n",
       "      <th>quality_flag</th>\n",
       "      <th>latitude</th>\n",
       "      <th>longitude</th>\n",
       "    </tr>\n",
       "  </thead>\n",
       "  <tbody>\n",
       "    <tr>\n",
       "      <th>3978</th>\n",
       "      <td>409.475403</td>\n",
       "      <td>0</td>\n",
       "      <td>-51.849205</td>\n",
       "      <td>-149.901810</td>\n",
       "    </tr>\n",
       "    <tr>\n",
       "      <th>3985</th>\n",
       "      <td>409.189026</td>\n",
       "      <td>0</td>\n",
       "      <td>-51.828705</td>\n",
       "      <td>-149.886642</td>\n",
       "    </tr>\n",
       "    <tr>\n",
       "      <th>3986</th>\n",
       "      <td>409.162323</td>\n",
       "      <td>0</td>\n",
       "      <td>-51.831013</td>\n",
       "      <td>-149.908356</td>\n",
       "    </tr>\n",
       "  </tbody>\n",
       "</table>\n",
       "</div>"
      ],
      "text/plain": [
       "            Xco2 quality_flag   latitude   longitude\n",
       "3978  409.475403            0 -51.849205 -149.901810\n",
       "3985  409.189026            0 -51.828705 -149.886642\n",
       "3986  409.162323            0 -51.831013 -149.908356"
      ]
     },
     "execution_count": 59,
     "metadata": {},
     "output_type": "execute_result"
    }
   ],
   "source": [
    "xco2_good_quality.head(3)"
   ]
  },
  {
   "cell_type": "code",
   "execution_count": 60,
   "id": "ada57044",
   "metadata": {},
   "outputs": [],
   "source": [
    "xco2_max_419= xco2_good_quality[xco2_good_quality[\"Xco2\"] >419]"
   ]
  },
  {
   "cell_type": "code",
   "execution_count": 61,
   "id": "59c80329",
   "metadata": {},
   "outputs": [
    {
     "data": {
      "image/png": "[encoded data removed]",
      "text/plain": [
       "<Figure size 576x432 with 1 Axes>"
      ]
     },
     "metadata": {},
     "output_type": "display_data"
    }
   ],
   "source": [
    "plt.scatter(np.arange(0, len(xco2_max_419)), xco2_max_419[\"Xco2\"], alpha= 0.25)\n",
    "plt.gcf().set_size_inches(8,6);"
   ]
  },
  {
   "cell_type": "code",
   "execution_count": null,
   "id": "0169f86b",
   "metadata": {},
   "outputs": [],
   "source": []
  }
 ],
 "metadata": {
  "kernelspec": {
   "display_name": "Python 3 (ipykernel)",
   "language": "python",
   "name": "python3"
  },
  "language_info": {
   "codemirror_mode": {
    "name": "ipython",
    "version": 3
   },
   "file_extension": ".py",
   "mimetype": "text/x-python",
   "name": "python",
   "nbconvert_exporter": "python",
   "pygments_lexer": "ipython3",
   "version": "3.8.10"
  }
 },
 "nbformat": 4,
 "nbformat_minor": 5
}
