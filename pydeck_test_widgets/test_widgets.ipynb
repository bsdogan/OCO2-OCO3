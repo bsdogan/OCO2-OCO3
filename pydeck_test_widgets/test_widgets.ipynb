{
 "cells": [
  {
   "cell_type": "markdown",
   "id": "87faba37",
   "metadata": {},
   "source": [
    "# Testing widgets"
   ]
  },
  {
   "cell_type": "code",
   "execution_count": 1,
   "id": "757750e3",
   "metadata": {},
   "outputs": [],
   "source": [
    "import ipywidgets as wdg"
   ]
  },
  {
   "cell_type": "code",
   "execution_count": 2,
   "id": "16dde465",
   "metadata": {},
   "outputs": [],
   "source": [
    "# clear the outpu\n",
    "from IPython.display import clear_output"
   ]
  },
  {
   "cell_type": "code",
   "execution_count": 3,
   "id": "49ae4ecb",
   "metadata": {},
   "outputs": [
    {
     "data": {
      "application/vnd.jupyter.widget-view+json": {
       "model_id": "fe5d0127ec7a435aa15f5f19208c7aec",
       "version_major": 2,
       "version_minor": 0
      },
      "text/plain": [
       "HTML(value='XCO2 values', description='Some HTML', placeholder='Some HTML')"
      ]
     },
     "metadata": {},
     "output_type": "display_data"
    }
   ],
   "source": [
    "wdg.HTML(\n",
    "    value=\"XCO2 values\",\n",
    "    placeholder= \"Some HTML\",\n",
    "    description= \"Some HTML\"\n",
    ")"
   ]
  },
  {
   "cell_type": "code",
   "execution_count": 4,
   "id": "abbc494f",
   "metadata": {},
   "outputs": [
    {
     "data": {
      "application/vnd.jupyter.widget-view+json": {
       "model_id": "5a790d1e2eca454e9dbfc31e91cb13cb",
       "version_major": 2,
       "version_minor": 0
      },
      "text/plain": [
       "DatePicker(value=None, description='Pick a Date')"
      ]
     },
     "metadata": {},
     "output_type": "display_data"
    }
   ],
   "source": [
    "# date picker\n",
    "date_pick =wdg.DatePicker(\n",
    "    description= 'Pick a Date',\n",
    "    disabled= False\n",
    ")\n",
    "\n",
    "date_pick"
   ]
  },
  {
   "cell_type": "markdown",
   "id": "a4c05b61",
   "metadata": {},
   "source": [
    "# SAMPLE dataset from 2014_2017_cali\n",
    "### OBJECTIVE:\n",
    "- To test widgets on the PYDECK graph"
   ]
  },
  {
   "cell_type": "code",
   "execution_count": 5,
   "id": "4a74f456",
   "metadata": {},
   "outputs": [],
   "source": [
    "import pydeck as pdk\n",
    "import pandas as pd\n",
    "import numpy as np\n",
    "import netCDF4 as nc\n",
    "import matplotlib.pyplot as plt\n",
    "import seaborn as sns; sns.set()\n",
    "\n",
    "from IPython.display import display"
   ]
  },
  {
   "cell_type": "code",
   "execution_count": 6,
   "id": "629727ef",
   "metadata": {},
   "outputs": [],
   "source": [
    "df_oco2=pd.read_csv('sample_data_2014_2017.csv')"
   ]
  },
  {
   "cell_type": "code",
   "execution_count": 7,
   "id": "68ace689",
   "metadata": {},
   "outputs": [],
   "source": [
    "# df_oco2.to_csv(\"cali_oco2.csv\", index= False)"
   ]
  },
  {
   "cell_type": "code",
   "execution_count": 8,
   "id": "865b9e8c",
   "metadata": {},
   "outputs": [
    {
     "data": {
      "text/html": [
       "<div>\n",
       "<style scoped>\n",
       "    .dataframe tbody tr th:only-of-type {\n",
       "        vertical-align: middle;\n",
       "    }\n",
       "\n",
       "    .dataframe tbody tr th {\n",
       "        vertical-align: top;\n",
       "    }\n",
       "\n",
       "    .dataframe thead th {\n",
       "        text-align: right;\n",
       "    }\n",
       "</style>\n",
       "<table border=\"1\" class=\"dataframe\">\n",
       "  <thead>\n",
       "    <tr style=\"text-align: right;\">\n",
       "      <th></th>\n",
       "      <th>Xco2</th>\n",
       "      <th>Latitude</th>\n",
       "      <th>Longitude</th>\n",
       "      <th>Year</th>\n",
       "      <th>Month</th>\n",
       "      <th>Day</th>\n",
       "    </tr>\n",
       "  </thead>\n",
       "  <tbody>\n",
       "    <tr>\n",
       "      <th>0</th>\n",
       "      <td>398.08090</td>\n",
       "      <td>32.026478</td>\n",
       "      <td>-119.082306</td>\n",
       "      <td>2014</td>\n",
       "      <td>11</td>\n",
       "      <td>1</td>\n",
       "    </tr>\n",
       "    <tr>\n",
       "      <th>1</th>\n",
       "      <td>397.96307</td>\n",
       "      <td>32.014620</td>\n",
       "      <td>-119.074036</td>\n",
       "      <td>2014</td>\n",
       "      <td>11</td>\n",
       "      <td>1</td>\n",
       "    </tr>\n",
       "    <tr>\n",
       "      <th>2</th>\n",
       "      <td>397.37230</td>\n",
       "      <td>32.002600</td>\n",
       "      <td>-119.065830</td>\n",
       "      <td>2014</td>\n",
       "      <td>11</td>\n",
       "      <td>1</td>\n",
       "    </tr>\n",
       "  </tbody>\n",
       "</table>\n",
       "</div>"
      ],
      "text/plain": [
       "        Xco2   Latitude   Longitude  Year  Month  Day\n",
       "0  398.08090  32.026478 -119.082306  2014     11    1\n",
       "1  397.96307  32.014620 -119.074036  2014     11    1\n",
       "2  397.37230  32.002600 -119.065830  2014     11    1"
      ]
     },
     "execution_count": 8,
     "metadata": {},
     "output_type": "execute_result"
    }
   ],
   "source": [
    "df_oco2.head(3)"
   ]
  },
  {
   "cell_type": "code",
   "execution_count": 9,
   "id": "427a863b",
   "metadata": {},
   "outputs": [
    {
     "data": {
      "text/plain": [
       "array([2014, 2015, 2016, 2017], dtype=int64)"
      ]
     },
     "execution_count": 9,
     "metadata": {},
     "output_type": "execute_result"
    }
   ],
   "source": [
    "df_oco2['Year'].unique()"
   ]
  },
  {
   "cell_type": "code",
   "execution_count": 11,
   "id": "d5514b9d",
   "metadata": {},
   "outputs": [
    {
     "data": {
      "text/plain": [
       "<AxesSubplot:ylabel='Xco2'>"
      ]
     },
     "execution_count": 11,
     "metadata": {},
     "output_type": "execute_result"
    },
    {
     "data": {
      "image/png": "[encoded data removed]",
      "text/plain": [
       "<Figure size 432x288 with 1 Axes>"
      ]
     },
     "metadata": {},
     "output_type": "display_data"
    }
   ],
   "source": [
    "sns.scatterplot(data= df_oco2, x= np.arange(0, len(df_oco2)), y= \"Xco2\", hue=\"Year\")"
   ]
  },
  {
   "cell_type": "markdown",
   "id": "bc6cc731",
   "metadata": {},
   "source": [
    "# Widgets from month: TESTING"
   ]
  },
  {
   "cell_type": "code",
   "execution_count": 13,
   "id": "bc255d14",
   "metadata": {},
   "outputs": [],
   "source": [
    "# month\n",
    "ALL= 'ALL'\n",
    "\n",
    "def by_month(d):\n",
    "\n",
    "#    my_date= np.array(d)\n",
    "    my_date= d.unique().tolist()\n",
    "    my_date.sort()\n",
    "    my_date.insert(0, ALL)\n",
    "    \n",
    "    return my_date\n"
   ]
  },
  {
   "cell_type": "code",
   "execution_count": null,
   "id": "a8061ca6",
   "metadata": {},
   "outputs": [],
   "source": []
  },
  {
   "cell_type": "code",
   "execution_count": 16,
   "id": "02621364",
   "metadata": {},
   "outputs": [
    {
     "data": {
      "application/vnd.jupyter.widget-view+json": {
       "model_id": "9d024358de504cf4879448ff92a3c1a5",
       "version_major": 2,
       "version_minor": 0
      },
      "text/plain": [
       "Dropdown(options=('ALL', 1, 2, 3, 4, 5, 6, 7, 8, 9, 10, 11, 12), value='ALL')"
      ]
     },
     "metadata": {},
     "output_type": "display_data"
    }
   ],
   "source": [
    "dropdown_month= wdg.Dropdown(options= by_month(df_oco2.Month))\n",
    "# capture output\n",
    "#month_output= wdg.Output()\n",
    "\n",
    "month_output= wdg.Output()\n",
    "\n",
    "# handler, binding the handler to the dropdown\n",
    "def dropdown_month_eventhandler(change):\n",
    "#    clear_output()\n",
    "    month_output.clear_output()\n",
    "\n",
    "    # clearing the output in each iteration of option\n",
    "     \n",
    "    with month_output:\n",
    "        \n",
    "        if (change.new == ALL):           \n",
    "# #         clear_output()\n",
    "             display(df_oco2.tail())    \n",
    "           \n",
    "        # display by the selected OPTION(here, month selected)\n",
    "        # 'change.new' IN-BUILT function to select \n",
    "        else:\n",
    "            display(df_oco2[df_oco2.Month == change.new])\n",
    "\n",
    "            \n",
    "#     if (wdg.Output()):\n",
    "#         clear_output()\n",
    "    \n",
    "#     else:\n",
    "#         display(df_oco2[df_oco2.Month == change.new])\n",
    "\n",
    "#    display(df_oco2[df_oco2.Month == change.new])\n",
    "\n",
    "    \n",
    "\n",
    "dropdown_month.observe(dropdown_month_eventhandler, names= 'value')\n",
    "\n",
    "display(dropdown_month)"
   ]
  },
  {
   "cell_type": "code",
   "execution_count": 17,
   "id": "68688f95",
   "metadata": {},
   "outputs": [
    {
     "data": {
      "application/vnd.jupyter.widget-view+json": {
       "model_id": "add97c63517541eea08a1f1b89b8bedb",
       "version_major": 2,
       "version_minor": 0
      },
      "text/plain": [
       "Output()"
      ]
     },
     "metadata": {},
     "output_type": "display_data"
    }
   ],
   "source": [
    "display(month_output)"
   ]
  },
  {
   "cell_type": "code",
   "execution_count": null,
   "id": "b5f22ef2",
   "metadata": {},
   "outputs": [],
   "source": [
    "# display(month_output)"
   ]
  },
  {
   "cell_type": "code",
   "execution_count": null,
   "id": "a4f730bd",
   "metadata": {},
   "outputs": [],
   "source": [
    "# Xco2 Color range FOR california region has XCO2 range from 400- 417\n",
    "# Ranges: 395-405, 400-410, 410-420, 420> \n",
    "\n",
    "def xco2_color(c):\n",
    "    \n",
    "#     if ((c> 400.00) & (c < 405.00)):\n",
    "#         return [10, 230, 120]\n",
    "    \n",
    "#     elif((c> 405.00) & (c < 410.00)):\n",
    "#         return [20, 200, 160]\n",
    "     #elif (c> 415.00) & (c < 420.00):\n",
    "    r= np.arange(400,410)\n",
    "    \n",
    "    if (c < 405.00):\n",
    "        #return [10, 230, 120]\n",
    "        return [255, 215, 0]\n",
    "    \n",
    "    elif((c > 405.00) & (c < 410.00)):\n",
    "        return [0, 201, 87]\n",
    "    \n",
    "    elif((c > 410.00) & (c < 415.00)):\n",
    "        #return [200, 100, 20]\n",
    "        return [255,215,0]\n",
    "\n",
    "    elif(c>415):\n",
    "        # red\n",
    "        return [255,48,48]\n",
    "    #return [230, 158, 10]"
   ]
  },
  {
   "cell_type": "code",
   "execution_count": null,
   "id": "7fc4b6e6",
   "metadata": {},
   "outputs": [],
   "source": [
    "df_oco2['xco2_color']= df_oco2['Xco2'].apply(xco2_color)"
   ]
  },
  {
   "cell_type": "code",
   "execution_count": null,
   "id": "eb2c09a5",
   "metadata": {},
   "outputs": [],
   "source": [
    "MAP_API_KEY= 'pk.eyJ1Ijoic2FnYXJsaW1idTAiLCJhIjoiY2t2MXhvd3lpNnFhZzJwdDlhbWU5emRyNSJ9.TlYL-IIZB9gEkX31muNvdQ'\n",
    "\n",
    "# import os\n",
    "\n",
    "# MAP_API_KEY= os.environ.get('YOUR PRIVATE_API_KEY')"
   ]
  },
  {
   "cell_type": "code",
   "execution_count": null,
   "id": "9d8a42d4",
   "metadata": {},
   "outputs": [],
   "source": [
    "# VIEW STATE: to \n",
    "view= pdk.data_utils.compute_view(df_oco2[[\"Longitude\",\"Latitude\"]])\n",
    "# view= pdk.ViewState(latitude= 32.80, longitude= -97, pitch= 50, zoom =1)"
   ]
  },
  {
   "cell_type": "markdown",
   "id": "c4687537",
   "metadata": {},
   "source": [
    "# Scatter plot lAYER"
   ]
  },
  {
   "cell_type": "code",
   "execution_count": null,
   "id": "3837fd44",
   "metadata": {
    "scrolled": false
   },
   "outputs": [],
   "source": [
    "# Layer\n",
    "scatterPlot_layer= pdk.Layer(\n",
    "    #\"ColumnLayer\",\n",
    "    \"ScatterplotLayer\",\n",
    "#    \"PathLayer\",\n",
    "#    \"ArcLayer\",\n",
    "    data= df_oco2,  \n",
    "    opacity= 0.8,\n",
    "    stroked= True,\n",
    "    filled= True,\n",
    "    radius_scale= 30,\n",
    "    radius_min_pixels= 2,\n",
    "    radius_max_pixels= 100,\n",
    "    line_width_min_pixels= 1,\n",
    "\n",
    "    get_position= \"coordinates\",\n",
    "\n",
    "    get_fill_color= \"xco2_color\",\n",
    "    # hover\n",
    "    pickable= True\n",
    ")\n",
    "\n",
    "\n",
    "tooltip_a={\n",
    "    \"html\": \"<b>XCO2 => {Xco2}</b>\",\n",
    "#    \"html\": \"<b>quality=> {quality_flag}</b>\",\n",
    "    \"style\": {\"background\": \"grey\", \"color\":\"black\", \"font-family\":\"Arial\"}\n",
    "}\n",
    "\n",
    "\n",
    "# DECK\n",
    "r= pdk.Deck(\n",
    "    layers=[scatterPlot_layer],\n",
    "    #layers=[scatterPlot_layer],\n",
    "    initial_view_state=view,\n",
    "    map_provider=\"mapbox\",\n",
    "#    map_style= pdk.map_styles.SATELLITE,\n",
    "    map_style= 'mapbox://styles/mapbox/light-v10',\n",
    "    mapbox_key= MAP_API_KEY,\n",
    "    # data point hover info\n",
    "    tooltip= [tooltip_a]\n",
    "\n",
    ")\n",
    "\n",
    "#Widgets\n",
    "select_months= 'Months'\n",
    "\n",
    "# function for month iteration\n",
    "def unique_month(arr):\n",
    "    by_months= arr.unique().tolist()\n",
    "    by_months.sort()\n",
    "    by_months.insert(0, select_months)\n",
    "    \n",
    "    return by_months\n",
    "    \n",
    "    \n",
    "selector= wdg.Dropdown(\n",
    "    options= df_oco2.Month.unique().tolist(), \n",
    "    value= 1,\n",
    "    description= 'Months:',\n",
    "    disabled= False,\n",
    ")\n",
    "\n",
    "# rendering the selector\n",
    "def render():\n",
    "    global r\n",
    "    global selector\n",
    "    display(selector)\n",
    "    \n",
    "    date= np.arange(1,13)\n",
    "    r.layers[0].data = df_oco2[df_oco2['Month'] == 4]\n",
    "    \n",
    "    r.update()   \n",
    "    display(r.to_html('test.html'))\n",
    "\n",
    "\n",
    "def on_selection(change):\n",
    "    global r\n",
    "    global df_oco2\n",
    "    \n",
    "    r.layers[0].data= df_oco2[df_oco2['Month'] == change['new']]\n",
    "    r.update()\n",
    "    \n",
    "        \n",
    "selector.observe(on_selection, names= 'value')  \n",
    "render()\n",
    "\n",
    "# deck_output= wdg.Output()\n",
    "\n",
    "#r.to_html(\"xco2_test_widget.html\")"
   ]
  },
  {
   "cell_type": "code",
   "execution_count": null,
   "id": "7a23bce3",
   "metadata": {},
   "outputs": [],
   "source": [
    "# display(r.to_html())"
   ]
  },
  {
   "cell_type": "code",
   "execution_count": null,
   "id": "e6cb5d8b",
   "metadata": {
    "scrolled": true
   },
   "outputs": [],
   "source": []
  },
  {
   "cell_type": "markdown",
   "id": "5c7de382",
   "metadata": {},
   "source": [
    "# Adding CONTOUR LAYER: \n",
    "* To detect XCO2 with higher values"
   ]
  },
  {
   "cell_type": "code",
   "execution_count": null,
   "id": "1f5da804",
   "metadata": {},
   "outputs": [],
   "source": [
    "# df_csv_oco2= pd.read_csv(\"cali_oco2.csv\")\n",
    "\n",
    "# df_csv_oco2= df_csv_oco2.drop(columns= [\"DateTime\", \"Day\",\"Date\" ])\n",
    "# df_csv_oco2.head(3)"
   ]
  },
  {
   "cell_type": "code",
   "execution_count": null,
   "id": "301afe3f",
   "metadata": {},
   "outputs": [],
   "source": [
    "df_oco2[\"Xco2\"].describe()"
   ]
  },
  {
   "cell_type": "markdown",
   "id": "e86d0397",
   "metadata": {},
   "source": [
    "# Dictionary: contour files to hold XOC2> 415"
   ]
  },
  {
   "cell_type": "code",
   "execution_count": null,
   "id": "43caa456",
   "metadata": {},
   "outputs": [],
   "source": [
    "high_xco2_val= np.array(df_oco2[\"Xco2\"][df_oco2[\"Xco2\"] >416])\n",
    "len(high_xco2_val)\n",
    "\n",
    "\n",
    "my_dictionary=[]\n",
    "keys=[\"threshold\", \"color\", \"strokeWidth\"]\n",
    "\n",
    "high_xco2= range(len(df_oco2[df_oco2[\"Xco2\"] >415]))\n",
    "stroke_width= 8\n",
    "\n",
    "for j in range(0, len(high_xco2_val)):\n",
    "\n",
    "    my_dictionary.append({\"threshold\":high_xco2_val[j], \"color\": [153,50,204], \"strokeWidth\": stroke_width})\n"
   ]
  },
  {
   "cell_type": "code",
   "execution_count": null,
   "id": "3374ad24",
   "metadata": {
    "scrolled": true
   },
   "outputs": [],
   "source": [
    "my_dictionary"
   ]
  },
  {
   "cell_type": "code",
   "execution_count": null,
   "id": "121cb8bc",
   "metadata": {},
   "outputs": [],
   "source": [
    "# df_csv_oco2[\"Xco2\"].quantile([0.95])"
   ]
  },
  {
   "cell_type": "code",
   "execution_count": null,
   "id": "7815005e",
   "metadata": {},
   "outputs": [],
   "source": [
    "min_xco2= np.linspace(400, 405)"
   ]
  },
  {
   "cell_type": "code",
   "execution_count": null,
   "id": "df8f3601",
   "metadata": {},
   "outputs": [],
   "source": [
    "p405= df_oco2[\"Xco2\"].min()\n",
    "p410= df_oco2[\"Xco2\"].mean()\n",
    "p415= df_oco2[\"Xco2\"].max()"
   ]
  },
  {
   "cell_type": "code",
   "execution_count": null,
   "id": "da869404",
   "metadata": {},
   "outputs": [],
   "source": [
    "df_oco2[\"Xco2\"].quantile([0.25])"
   ]
  },
  {
   "cell_type": "code",
   "execution_count": null,
   "id": "ec736c34",
   "metadata": {},
   "outputs": [],
   "source": [
    "# Range of XOC2, higher xco2\n",
    "#p405, p410, p415= df_oco2[\"Xco2\"].quantile([0.25, 0.50,0.95])\n",
    "\n",
    "# Stroke width\n",
    "stroke_width= 8\n",
    "# contours\n",
    "contour_xco2=[\n",
    "    {\"threshold\":p405, \"color\":[240,255, 255], \"strokeWidth\": stroke_width},\n",
    "    {\"threshold\":p410, \"color\":[240,255, 255], \"strokeWidth\": stroke_width},\n",
    "    {\"threshold\":p415, \"color\":[153,50,204], \"strokeWidth\": stroke_width},\n",
    "]"
   ]
  },
  {
   "cell_type": "code",
   "execution_count": null,
   "id": "4dadd2a8",
   "metadata": {},
   "outputs": [],
   "source": [
    "contour_xco2"
   ]
  },
  {
   "cell_type": "code",
   "execution_count": null,
   "id": "224f5b17",
   "metadata": {},
   "outputs": [],
   "source": [
    "plt.hist(df_oco2[\"Xco2\"], bins=40)\n",
    "plt.axvline(df_oco2[\"Xco2\"].mean(), c='r');"
   ]
  },
  {
   "cell_type": "code",
   "execution_count": null,
   "id": "3ea04d0d",
   "metadata": {},
   "outputs": [],
   "source": [
    "# in meters\n",
    "cell_size= 3000\n",
    "\n",
    "xco2_contour= pdk.Layer(\n",
    "    \"ContourLayer\",\n",
    "    data= df_oco2,\n",
    "    #get_position= [\"Longitude\", \"Latitude\"],\n",
    "    get_position= \"coordinates\",\n",
    "    #contours= contour_xco2,\n",
    "    contours= contour_xco2,\n",
    "    cell_size= cell_size,\n",
    "    #aggregation= pdk.types.String(\"MEAN\"),\n",
    "    get_weight= \"Xco2\",\n",
    "   # pickable= True,\n",
    "\n",
    ")\n",
    "\n",
    "\n",
    "d= pdk.Deck(\n",
    "    layers=[ xco2_contour,scatterPlot_layer],\n",
    "    initial_view_state=view,\n",
    "    map_provider=\"mapbox\",\n",
    "#    map_style= pdk.map_styles.SATELLITE,\n",
    "    map_style= 'mapbox://styles/mapbox/light-v10',\n",
    "    mapbox_key= MAP_API_KEY,\n",
    "    # data point hover info\n",
    "#    tooltip= [tooltip_a]\n",
    "\n",
    ")\n",
    "d.to_html(\"contour_test.html\")"
   ]
  },
  {
   "cell_type": "code",
   "execution_count": null,
   "id": "4b1640c5",
   "metadata": {},
   "outputs": [],
   "source": [
    "# help(pdk.Layer)"
   ]
  },
  {
   "cell_type": "code",
   "execution_count": null,
   "id": "77564c4c",
   "metadata": {},
   "outputs": [],
   "source": []
  },
  {
   "cell_type": "code",
   "execution_count": null,
   "id": "e6ca5097",
   "metadata": {},
   "outputs": [],
   "source": []
  },
  {
   "cell_type": "code",
   "execution_count": null,
   "id": "69d3278c",
   "metadata": {},
   "outputs": [],
   "source": []
  },
  {
   "cell_type": "code",
   "execution_count": null,
   "id": "6ed73e37",
   "metadata": {},
   "outputs": [],
   "source": [
    "# selector= wdg.Dropdown(\n",
    "#     options= list(set(np.array(df_oco2.Month))),\n",
    "#     value= '1',\n",
    "#     description= 'Month',\n",
    "#     disabled= False,\n",
    "# )\n",
    "\n",
    "# selector= wdg.IntSlider(\n",
    "    \n",
    "# )"
   ]
  },
  {
   "cell_type": "markdown",
   "id": "64441650",
   "metadata": {},
   "source": [
    "# SINGLE month"
   ]
  },
  {
   "cell_type": "code",
   "execution_count": null,
   "id": "cafbd713",
   "metadata": {},
   "outputs": [],
   "source": [
    "testing_months= np.arange(5,9)\n",
    "testing_months"
   ]
  },
  {
   "cell_type": "code",
   "execution_count": null,
   "id": "71cd5e18",
   "metadata": {},
   "outputs": [],
   "source": [
    "# TEST\n",
    "df_single_month= df_oco2[df_oco2['Month'].isin(testing_months)]\n",
    "df_single_month= df_single_month.drop(columns=[\"DateTime\", \"Date\"])\n",
    "df_single_month.head(2)"
   ]
  },
  {
   "cell_type": "markdown",
   "id": "c05540d7",
   "metadata": {},
   "source": []
  },
  {
   "cell_type": "markdown",
   "id": "c9f57736",
   "metadata": {},
   "source": [
    "# CONTNOUR LAYER from pydeck"
   ]
  },
  {
   "cell_type": "code",
   "execution_count": null,
   "id": "282676fc",
   "metadata": {},
   "outputs": [],
   "source": [
    "# df_single_month[\"Xco2\"].quantile([.25])"
   ]
  },
  {
   "cell_type": "code",
   "execution_count": null,
   "id": "e31ee586",
   "metadata": {},
   "outputs": [],
   "source": [
    "high_xco2_summer= np.array(df_single_month[\"Xco2\"][df_single_month[\"Xco2\"] >415])\n",
    "len(high_xco2_summer)"
   ]
  },
  {
   "cell_type": "code",
   "execution_count": null,
   "id": "8aec2846",
   "metadata": {},
   "outputs": [],
   "source": [
    "# quantiles\n",
    "p1, p2, p3= df_single_month[\"Xco2\"].quantile([0.75, 0.9, 0.99])\n",
    "p1, p2, p3"
   ]
  },
  {
   "cell_type": "code",
   "execution_count": null,
   "id": "5c495e7f",
   "metadata": {},
   "outputs": [],
   "source": [
    "my_dictonary_sum=[]\n",
    "keys=[\"threshold\", \"color\", \"strokeWidth\"]\n",
    "\n",
    "#high_xco2= range(len(df_oco2[df_oco2[\"Xco2\"] >415]))\n",
    "stroke_width= 5\n",
    "\n",
    "for j in range(0, len(high_xco2_summer)):\n",
    "\n",
    "    my_dictonary_sum.append({\"threshold\":high_xco2_summer[j], \"color\": [0, 238,224], \"strokeWidth\": stroke_width})\n"
   ]
  },
  {
   "cell_type": "code",
   "execution_count": null,
   "id": "28b8aa60",
   "metadata": {},
   "outputs": [],
   "source": [
    "my_dictonary_sum[:5]"
   ]
  },
  {
   "cell_type": "code",
   "execution_count": null,
   "id": "d7d9342e",
   "metadata": {},
   "outputs": [],
   "source": [
    "# Layer\n",
    "scatterPlot_layer= pdk.Layer(\n",
    "    #\"ColumnLayer\",\n",
    "    \"ScatterplotLayer\",\n",
    "#    \"PathLayer\",\n",
    "#    \"ArcLayer\",\n",
    "    data= df_single_month,  \n",
    "    opacity= 0.8,\n",
    "    stroked= True,\n",
    "    filled= True,\n",
    "    radius_scale= 30,\n",
    "    radius_min_pixels= 2,\n",
    "    radius_max_pixels= 100,\n",
    "    line_width_min_pixels= 1,\n",
    "\n",
    "    get_position= \"coordinates\",\n",
    "\n",
    "    get_fill_color= \"xco2_color\",\n",
    "    # hover\n",
    "    pickable= True\n",
    ")\n",
    "\n",
    "# COUNTOUR\n",
    "# in meters\n",
    "cell_size= 1000\n",
    "\n",
    "xco2_contour_summer= pdk.Layer(\n",
    "    \"ContourLayer\",\n",
    "    data= df_single_month,\n",
    "    #get_position= [\"Longitude\", \"Latitude\"],\n",
    "    get_position= \"coordinates\",\n",
    "    #contours= contour_xco2,\n",
    "    contours= my_dictonary_sum,\n",
    "    cell_size= cell_size,\n",
    "    #aggregation= pdk.types.String(\"MEAN\"),\n",
    "    get_weight= \"Xco2\",\n",
    "   # pickable= True,\n",
    "\n",
    ")\n",
    "\n",
    "\n",
    "\n",
    "tooltip_a={\n",
    "    \"html\": \"<b>XCO2 => {Xco2}</b>\",\n",
    "#    \"html\": \"<b>quality=> {quality_flag}</b>\",\n",
    "    \"style\": {\"background\": \"grey\", \"color\":\"black\", \"font-family\":\"Arial\"}\n",
    "}\n",
    "\n",
    "\n",
    "# DECK\n",
    "summer_xoc2= pdk.Deck(\n",
    "    layers=[scatterPlot_layer, xco2_contour_summer],\n",
    "    #layers=[scatterPlot_layer],\n",
    "    initial_view_state=view,\n",
    "    map_provider=\"mapbox\",\n",
    "#    map_style= pdk.map_styles.SATELLITE,\n",
    "    map_style= 'mapbox://styles/mapbox/light-v10',\n",
    "    mapbox_key= MAP_API_KEY,\n",
    "    # data point hover info\n",
    "    tooltip= [tooltip_a]\n",
    "\n",
    ")\n",
    "\n",
    "#Widgets\n",
    "# slider= widgets.IntSlider(value= 1, min= 1, max= 12, step = 1)\n",
    "# play= widgets.Play(value= 1, min= 1, max= 12, step= 1, description= 'Months',\n",
    "#                   interval= 1_000)\n",
    "# widgets.jslink((play, 'value'), (slider, 'value'))\n",
    "# layout= widgets.HBox([slider, play])\n",
    "\n",
    "\n",
    "# # function: that passes slider to change MONTHS\n",
    "# def update_plot(Month):\n",
    "#     # pass the data from JSON file\n",
    "#     scatterPlot_layer.data= df_oco2_json[df_oco2_json['Month'] == Month]\n",
    "#     return r.update()\n",
    "\n",
    "# # creating an interaction with widgets\n",
    "# #interact= widgets.interactive_output(update_plot, {'Month': slider});\n",
    "\n",
    "# interact= widgets.interactive_output(update_plot, {'Month': slider});\n",
    "# display(layout, interact)\n",
    "\n",
    "\n",
    "# display and update the map layer\n",
    "\n",
    "\n",
    "\n",
    "\n",
    "summer_xoc2.to_html(\"summer_xco2.html\")"
   ]
  },
  {
   "cell_type": "code",
   "execution_count": null,
   "id": "92deca78",
   "metadata": {},
   "outputs": [],
   "source": []
  },
  {
   "cell_type": "code",
   "execution_count": null,
   "id": "2cf1c492",
   "metadata": {},
   "outputs": [],
   "source": []
  },
  {
   "cell_type": "code",
   "execution_count": null,
   "id": "64921427",
   "metadata": {},
   "outputs": [],
   "source": []
  },
  {
   "cell_type": "code",
   "execution_count": null,
   "id": "a9327ab5",
   "metadata": {},
   "outputs": [],
   "source": []
  },
  {
   "cell_type": "code",
   "execution_count": null,
   "id": "05d7ad6a",
   "metadata": {},
   "outputs": [],
   "source": []
  }
 ],
 "metadata": {
  "kernelspec": {
   "display_name": "Python 3 (ipykernel)",
   "language": "python",
   "name": "python3"
  },
  "language_info": {
   "codemirror_mode": {
    "name": "ipython",
    "version": 3
   },
   "file_extension": ".py",
   "mimetype": "text/x-python",
   "name": "python",
   "nbconvert_exporter": "python",
   "pygments_lexer": "ipython3",
   "version": "3.8.10"
  }
 },
 "nbformat": 4,
 "nbformat_minor": 5
}
