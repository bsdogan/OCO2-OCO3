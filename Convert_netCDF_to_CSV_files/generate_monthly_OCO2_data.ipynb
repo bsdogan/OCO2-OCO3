{
 "cells": [
  {
   "cell_type": "markdown",
   "id": "799d468a",
   "metadata": {},
   "source": [
    "### Objective:\n",
    "- Read the entire files and generate monthly datasets \n",
    "- FROM YEAR 2014-2022"
   ]
  },
  {
   "cell_type": "code",
   "execution_count": 1,
   "id": "c979f246",
   "metadata": {},
   "outputs": [],
   "source": [
    "import numpy as np\n",
    "import pandas as pd\n",
    "import dask.dataframe as dd\n",
    "import os"
   ]
  },
  {
   "cell_type": "markdown",
   "id": "097718f4",
   "metadata": {},
   "source": [
    "### READ all the csv files using DASK library"
   ]
  },
  {
   "cell_type": "code",
   "execution_count": 2,
   "id": "156f2fa2",
   "metadata": {},
   "outputs": [],
   "source": [
    "oco2_comb= dd.read_csv('../../../Cluster_machine/OCO2/B_11_new_version/2022_csv/*.txt')"
   ]
  },
  {
   "cell_type": "code",
   "execution_count": 3,
   "id": "9f00e52b",
   "metadata": {},
   "outputs": [
    {
     "data": {
      "text/html": [
       "<div><strong>Dask DataFrame Structure:</strong></div>\n",
       "<div>\n",
       "<style scoped>\n",
       "    .dataframe tbody tr th:only-of-type {\n",
       "        vertical-align: middle;\n",
       "    }\n",
       "\n",
       "    .dataframe tbody tr th {\n",
       "        vertical-align: top;\n",
       "    }\n",
       "\n",
       "    .dataframe thead th {\n",
       "        text-align: right;\n",
       "    }\n",
       "</style>\n",
       "<table border=\"1\" class=\"dataframe\">\n",
       "  <thead>\n",
       "    <tr style=\"text-align: right;\">\n",
       "      <th></th>\n",
       "      <th>Xco2</th>\n",
       "      <th>Latitude</th>\n",
       "      <th>Longitude</th>\n",
       "      <th>quality_flag</th>\n",
       "      <th>DateTime</th>\n",
       "      <th>Year</th>\n",
       "      <th>Month</th>\n",
       "      <th>Day</th>\n",
       "    </tr>\n",
       "    <tr>\n",
       "      <th>npartitions=359</th>\n",
       "      <th></th>\n",
       "      <th></th>\n",
       "      <th></th>\n",
       "      <th></th>\n",
       "      <th></th>\n",
       "      <th></th>\n",
       "      <th></th>\n",
       "      <th></th>\n",
       "    </tr>\n",
       "  </thead>\n",
       "  <tbody>\n",
       "    <tr>\n",
       "      <th></th>\n",
       "      <td>float64</td>\n",
       "      <td>float64</td>\n",
       "      <td>float64</td>\n",
       "      <td>int64</td>\n",
       "      <td>object</td>\n",
       "      <td>int64</td>\n",
       "      <td>int64</td>\n",
       "      <td>int64</td>\n",
       "    </tr>\n",
       "    <tr>\n",
       "      <th></th>\n",
       "      <td>...</td>\n",
       "      <td>...</td>\n",
       "      <td>...</td>\n",
       "      <td>...</td>\n",
       "      <td>...</td>\n",
       "      <td>...</td>\n",
       "      <td>...</td>\n",
       "      <td>...</td>\n",
       "    </tr>\n",
       "    <tr>\n",
       "      <th>...</th>\n",
       "      <td>...</td>\n",
       "      <td>...</td>\n",
       "      <td>...</td>\n",
       "      <td>...</td>\n",
       "      <td>...</td>\n",
       "      <td>...</td>\n",
       "      <td>...</td>\n",
       "      <td>...</td>\n",
       "    </tr>\n",
       "    <tr>\n",
       "      <th></th>\n",
       "      <td>...</td>\n",
       "      <td>...</td>\n",
       "      <td>...</td>\n",
       "      <td>...</td>\n",
       "      <td>...</td>\n",
       "      <td>...</td>\n",
       "      <td>...</td>\n",
       "      <td>...</td>\n",
       "    </tr>\n",
       "    <tr>\n",
       "      <th></th>\n",
       "      <td>...</td>\n",
       "      <td>...</td>\n",
       "      <td>...</td>\n",
       "      <td>...</td>\n",
       "      <td>...</td>\n",
       "      <td>...</td>\n",
       "      <td>...</td>\n",
       "      <td>...</td>\n",
       "    </tr>\n",
       "  </tbody>\n",
       "</table>\n",
       "</div>\n",
       "<div>Dask Name: read-csv, 359 tasks</div>"
      ],
      "text/plain": [
       "Dask DataFrame Structure:\n",
       "                    Xco2 Latitude Longitude quality_flag DateTime   Year  Month    Day\n",
       "npartitions=359                                                                       \n",
       "                 float64  float64   float64        int64   object  int64  int64  int64\n",
       "                     ...      ...       ...          ...      ...    ...    ...    ...\n",
       "...                  ...      ...       ...          ...      ...    ...    ...    ...\n",
       "                     ...      ...       ...          ...      ...    ...    ...    ...\n",
       "                     ...      ...       ...          ...      ...    ...    ...    ...\n",
       "Dask Name: read-csv, 359 tasks"
      ]
     },
     "execution_count": 3,
     "metadata": {},
     "output_type": "execute_result"
    }
   ],
   "source": [
    "oco2_comb"
   ]
  },
  {
   "cell_type": "code",
   "execution_count": 4,
   "id": "b0da0a30",
   "metadata": {},
   "outputs": [
    {
     "name": "stdout",
     "output_type": "stream",
     "text": [
      "CPU times: total: 39.5 s\n",
      "Wall time: 17.2 s\n"
     ]
    }
   ],
   "source": [
    "%%time\n",
    "df_oco2= oco2_comb.compute()"
   ]
  },
  {
   "cell_type": "markdown",
   "id": "2302fd19",
   "metadata": {},
   "source": [
    "### Save as CSV files"
   ]
  },
  {
   "cell_type": "code",
   "execution_count": 5,
   "id": "37cf721a",
   "metadata": {},
   "outputs": [
    {
     "data": {
      "text/html": [
       "<div>\n",
       "<style scoped>\n",
       "    .dataframe tbody tr th:only-of-type {\n",
       "        vertical-align: middle;\n",
       "    }\n",
       "\n",
       "    .dataframe tbody tr th {\n",
       "        vertical-align: top;\n",
       "    }\n",
       "\n",
       "    .dataframe thead th {\n",
       "        text-align: right;\n",
       "    }\n",
       "</style>\n",
       "<table border=\"1\" class=\"dataframe\">\n",
       "  <thead>\n",
       "    <tr style=\"text-align: right;\">\n",
       "      <th></th>\n",
       "      <th>Xco2</th>\n",
       "      <th>Latitude</th>\n",
       "      <th>Longitude</th>\n",
       "      <th>quality_flag</th>\n",
       "      <th>DateTime</th>\n",
       "      <th>Year</th>\n",
       "      <th>Month</th>\n",
       "      <th>Day</th>\n",
       "    </tr>\n",
       "  </thead>\n",
       "  <tbody>\n",
       "    <tr>\n",
       "      <th>0</th>\n",
       "      <td>414.74760</td>\n",
       "      <td>-4.600250</td>\n",
       "      <td>-157.15690</td>\n",
       "      <td>0</td>\n",
       "      <td>2022-01-01 00:00:09.310</td>\n",
       "      <td>2022</td>\n",
       "      <td>1</td>\n",
       "      <td>1</td>\n",
       "    </tr>\n",
       "    <tr>\n",
       "      <th>1</th>\n",
       "      <td>415.46606</td>\n",
       "      <td>-4.581612</td>\n",
       "      <td>-157.16101</td>\n",
       "      <td>0</td>\n",
       "      <td>2022-01-01 00:00:09.710</td>\n",
       "      <td>2022</td>\n",
       "      <td>1</td>\n",
       "      <td>1</td>\n",
       "    </tr>\n",
       "    <tr>\n",
       "      <th>2</th>\n",
       "      <td>415.90600</td>\n",
       "      <td>-4.592261</td>\n",
       "      <td>-157.15874</td>\n",
       "      <td>0</td>\n",
       "      <td>2022-01-01 00:00:09.720</td>\n",
       "      <td>2022</td>\n",
       "      <td>1</td>\n",
       "      <td>1</td>\n",
       "    </tr>\n",
       "  </tbody>\n",
       "</table>\n",
       "</div>"
      ],
      "text/plain": [
       "        Xco2  Latitude  Longitude  quality_flag                 DateTime  \\\n",
       "0  414.74760 -4.600250 -157.15690             0  2022-01-01 00:00:09.310   \n",
       "1  415.46606 -4.581612 -157.16101             0  2022-01-01 00:00:09.710   \n",
       "2  415.90600 -4.592261 -157.15874             0  2022-01-01 00:00:09.720   \n",
       "\n",
       "   Year  Month  Day  \n",
       "0  2022      1    1  \n",
       "1  2022      1    1  \n",
       "2  2022      1    1  "
      ]
     },
     "execution_count": 5,
     "metadata": {},
     "output_type": "execute_result"
    }
   ],
   "source": [
    "df_oco2.head(3)"
   ]
  },
  {
   "cell_type": "code",
   "execution_count": 6,
   "id": "05598e8f",
   "metadata": {},
   "outputs": [
    {
     "data": {
      "text/plain": [
       "array([2022], dtype=int64)"
      ]
     },
     "execution_count": 6,
     "metadata": {},
     "output_type": "execute_result"
    }
   ],
   "source": [
    "df_oco2[\"Year\"].unique()"
   ]
  },
  {
   "cell_type": "code",
   "execution_count": 7,
   "id": "ad544a6f",
   "metadata": {},
   "outputs": [],
   "source": [
    "df_2022= df_oco2[df_oco2[\"Year\"] == 2022]"
   ]
  },
  {
   "cell_type": "markdown",
   "id": "e3d51070",
   "metadata": {},
   "source": [
    "### SAVE the org. files in a CSV\n",
    "- NOTE: Due computation constraint, excel/csv file not generate entire data\n",
    "- We can do furthre data-preprocessing"
   ]
  },
  {
   "cell_type": "code",
   "execution_count": 8,
   "id": "d2b9eb31",
   "metadata": {},
   "outputs": [],
   "source": [
    "%%time\n",
    "df_2022.to_csv(\"../DATA_2016_2020_csv__and_OCO2_overPASS/GLOBAL_oco2_B11_version/2022/oco2_B11_2022.csv\", index= False)"
   ]
  },
  {
   "cell_type": "code",
   "execution_count": 9,
   "id": "8f0e74f6",
   "metadata": {},
   "outputs": [],
   "source": [
    "# class monthly:\n",
    "    \n",
    "#     def __init__(self, data):\n",
    "#         self.data= data\n",
    "    \n",
    "#     def get_details(self):\n",
    "#         print(self.data.describe())\n",
    "    \n",
    "#     def get_length(self):\n",
    "#         print(len(self.data))"
   ]
  },
  {
   "cell_type": "markdown",
   "id": "d0e908ab",
   "metadata": {},
   "source": [
    "## Function: Generate Monthly files \n",
    "- initially files are daily generated which are combined and generated for monthly basis"
   ]
  },
  {
   "cell_type": "code",
   "execution_count": 10,
   "id": "230e3c64",
   "metadata": {},
   "outputs": [],
   "source": [
    "def create_monthly(path):\n",
    "    df= pd.read_csv(path)\n",
    "    \n",
    "    # GET MONTHLY unique\n",
    "    months= sorted(df[\"Month\"].unique())\n",
    "    year= str(df[\"Year\"].unique()[0])\n",
    "    \n",
    "    ## make new directory\n",
    "    new_dir= os.mkdir(year)            \n",
    "    df_new=pd.DataFrame()\n",
    "    \n",
    "    # loop by month\n",
    "    for j in months:\n",
    "        df_new= df[df[\"Month\"] == j]\n",
    "        \n",
    "        df_new.to_csv(str(year)+'/'+year+'_'+str(j)+'.csv', index= False)\n"
   ]
  },
  {
   "cell_type": "markdown",
   "id": "af71af95",
   "metadata": {},
   "source": [
    "### Loacte to path"
   ]
  },
  {
   "cell_type": "code",
   "execution_count": 11,
   "id": "f8c84f26",
   "metadata": {},
   "outputs": [],
   "source": [
    "# path_a= '../CALI_2016_2020_csv_combined/GLOBAL_oco2/'\n",
    "path_a= '../DATA_2016_2020_csv__and_OCO2_overPASS/GLOBAL_oco2_B11_version/2022'"
   ]
  },
  {
   "cell_type": "code",
   "execution_count": 12,
   "id": "e3f46ad9",
   "metadata": {},
   "outputs": [
    {
     "data": {
      "text/plain": [
       "['../DATA_2016_2020_csv__and_OCO2_overPASS/GLOBAL_oco2_B11_version/2022\\\\oco2_B11_2022.csv']"
      ]
     },
     "execution_count": 12,
     "metadata": {},
     "output_type": "execute_result"
    }
   ],
   "source": [
    "# PATH to files\n",
    "file_names= []\n",
    "\n",
    "for file in os.listdir(path_a):\n",
    "    # Check whether file is in text format or not\n",
    "    if file.endswith(\".csv\"):\n",
    "        file_path = f\"{path_a}\\{file}\"\n",
    "      \n",
    "        # Store the path location of each individual files\n",
    "        file_names.append(file_path)\n",
    "        \n",
    "        \n",
    "# check first 10 files path\n",
    "file_names[:3]"
   ]
  },
  {
   "cell_type": "code",
   "execution_count": 13,
   "id": "169373b6",
   "metadata": {},
   "outputs": [
    {
     "data": {
      "text/plain": [
       "1"
      ]
     },
     "execution_count": 13,
     "metadata": {},
     "output_type": "execute_result"
    }
   ],
   "source": [
    "## TOTAL \n",
    "len(file_names)"
   ]
  },
  {
   "cell_type": "code",
   "execution_count": 14,
   "id": "265faf80",
   "metadata": {},
   "outputs": [],
   "source": [
    "for j in range(0, len(file_names)):\n",
    "    create_monthly(file_names[j])"
   ]
  }
 ],
 "metadata": {
  "kernelspec": {
   "display_name": "Python 3 (ipykernel)",
   "language": "python",
   "name": "python3"
  },
  "language_info": {
   "codemirror_mode": {
    "name": "ipython",
    "version": 3
   },
   "file_extension": ".py",
   "mimetype": "text/x-python",
   "name": "python",
   "nbconvert_exporter": "python",
   "pygments_lexer": "ipython3",
   "version": "3.9.12"
  }
 },
 "nbformat": 4,
 "nbformat_minor": 5
}
