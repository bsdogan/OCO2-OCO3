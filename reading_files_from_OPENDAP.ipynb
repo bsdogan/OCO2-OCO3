{
 "cells": [
  {
   "cell_type": "markdown",
   "id": "23b5f555",
   "metadata": {},
   "source": [
    "# Extracting files directly from OPENDAC website\n",
    "\n",
    "### libraries : netCDF4, pydap.client (READ netCDF files)\n",
    "### Library: 'BeautifulSoup' to read the contents of the webpage\n",
    "* Reading the contents from the desired web page (here, OCO2)\n",
    "* We pass the parameters: Instrument and year\n",
    "* Save the links of different datasets in a list\n",
    "* open up the lists using <b>netCDF</b>\n",
    "\n",
    "### Website: \n",
    "https://oco2.gesdisc.eosdis.nasa.gov/opendap/\n",
    "\n",
    "# Data Retrieving parameter:\n",
    "### Instrument and version: \n",
    "* OCO2_L2_Lite_FP.10r\n",
    "### Year: 2020"
   ]
  },
  {
   "cell_type": "code",
   "execution_count": null,
   "id": "6bf1fdd0",
   "metadata": {},
   "outputs": [],
   "source": []
  },
  {
   "cell_type": "code",
   "execution_count": 1,
   "id": "2f20089c",
   "metadata": {},
   "outputs": [],
   "source": [
    "from pydap import client\n",
    "import netCDF4 as nc\n",
    "\n",
    "# for data-preprocessing\n",
    "import pandas as pd\n",
    "import numpy as np\n",
    "import matplotlib.pyplot"
   ]
  },
  {
   "cell_type": "code",
   "execution_count": 2,
   "id": "fb7499ed",
   "metadata": {},
   "outputs": [],
   "source": [
    "# TESTING with netcdf file, SINGLE dataset\n",
    "# read files from netCDF\n",
    "# Reading Single file from the link"
   ]
  },
  {
   "cell_type": "code",
   "execution_count": 3,
   "id": "b97df923",
   "metadata": {},
   "outputs": [],
   "source": [
    "my_df= nc.Dataset('https://oco2.gesdisc.eosdis.nasa.gov/opendap/OCO2_L2_Lite_FP.10r/2020/oco2_LtCO2_200109_B10206Ar_200728203551s.nc4')"
   ]
  },
  {
   "cell_type": "code",
   "execution_count": 4,
   "id": "14556c7e",
   "metadata": {},
   "outputs": [
    {
     "data": {
      "text/plain": [
       "148936"
      ]
     },
     "execution_count": 4,
     "metadata": {},
     "output_type": "execute_result"
    }
   ],
   "source": [
    "len(my_df.variables['xco2'])"
   ]
  },
  {
   "cell_type": "code",
   "execution_count": 5,
   "id": "af144843",
   "metadata": {},
   "outputs": [],
   "source": [
    "data_set= client.open_url('https://oco2.gesdisc.eosdis.nasa.gov/opendap/OCO2_L2_Lite_FP.10r/2020/oco2_LtCO2_200109_B10206Ar_200728203551s.nc4')"
   ]
  },
  {
   "cell_type": "code",
   "execution_count": 6,
   "id": "f79dbc02",
   "metadata": {},
   "outputs": [],
   "source": [
    "# data_set[\"xco2\"][:]"
   ]
  },
  {
   "cell_type": "code",
   "execution_count": null,
   "id": "ebac35d2",
   "metadata": {},
   "outputs": [],
   "source": []
  },
  {
   "cell_type": "code",
   "execution_count": 7,
   "id": "ef850dc3",
   "metadata": {
    "scrolled": true
   },
   "outputs": [
    {
     "data": {
      "text/plain": [
       "dict_keys(['xco2_apriori', 'file_index', 'xco2_qf_simple_bitflag', 'pressure_levels', 'xco2', 'time', 'pressure_weight', 'Preprocessors_co2_ratio', 'Preprocessors_max_declocking_sco2', 'Preprocessors_max_declocking_o2a', 'Preprocessors_xco2_strong_idp', 'Preprocessors_max_declocking_wco2', 'Preprocessors_dp_abp', 'Preprocessors_co2_ratio_offset_per_footprint', 'Preprocessors_h2o_ratio', 'Preprocessors_xco2_weak_idp', 'Preprocessors_h2o_ratio_offset_per_footprint', 'solar_zenith_angle', 'longitude', 'xco2_qf_bitflag', 'latitude', 'sensor_zenith_angle', 'Meteorology_psurf_apriori_o2a', 'Meteorology_psurf_apriori_wco2', 'Meteorology_psurf_apriori_sco2', 'Meteorology_windspeed_u_met', 'Meteorology_windspeed_v_met', 'xco2_quality_flag', 'xco2_averaging_kernel', 'date', 'Retrieval_dp_o2a', 'Retrieval_dust_height', 'Retrieval_aod_water', 'Retrieval_s32', 'Retrieval_chi2_sco2', 'Retrieval_aod_dust', 'Retrieval_albedo_slope_wco2', 'Retrieval_aod_bc', 'Retrieval_aod_strataer', 'Retrieval_aod_seasalt', 'Retrieval_rms_rel_o2a', 'Retrieval_windspeed_apriori', 'Retrieval_albedo_slope_sco2', 'Retrieval_tcwv_apriori', 'Retrieval_co2_grad_del', 'Retrieval_fs', 'Retrieval_psurf_apriori', 'Retrieval_SigmaB', 'Retrieval_fs_rel', 'Retrieval_albedo_wco2', 'Retrieval_tcwv', 'Retrieval_tcwv_uncertainty', 'Retrieval_albedo_quad_wco2', 'Retrieval_albedo_quad_o2a', 'Retrieval_albedo_o2a', 'Retrieval_deltaT', 'Retrieval_snow_flag', 'Retrieval_h2o_scale', 'Retrieval_dp_sco2', 'Retrieval_dp', 'Retrieval_windspeed', 'Retrieval_albedo_quad_sco2', 'Retrieval_dpfrac', 'Retrieval_t700', 'Retrieval_chi2_o2a', 'Retrieval_aod_ice', 'Retrieval_iterations', 'Retrieval_water_height', 'Retrieval_ice_height', 'Retrieval_rms_rel_wco2', 'Retrieval_aod_sulfate', 'Retrieval_dws', 'Retrieval_albedo_slope_o2a', 'Retrieval_rms_rel_sco2', 'Retrieval_eof3_3_rel', 'Retrieval_diverging_steps', 'Retrieval_albedo_sco2', 'Retrieval_chi2_wco2', 'Retrieval_surface_type', 'Retrieval_s31', 'Retrieval_psurf', 'Retrieval_aod_total', 'Retrieval_aod_oc', 'Retrieval_xco2_raw', 'Sounding_snr_sco2', 'Sounding_operation_mode', 'Sounding_snr_wco2', 'Sounding_glint_angle', 'Sounding_altitude_stddev', 'Sounding_sensor_azimuth_angle', 'Sounding_airmass', 'Sounding_land_water_indicator', 'Sounding_polarization_angle', 'Sounding_snr_o2a', 'Sounding_solar_azimuth_angle', 'Sounding_path', 'Sounding_altitude', 'Sounding_l1b_type', 'Sounding_footprint', 'Sounding_land_fraction', 'Sounding_orbit', 'xco2_uncertainty', 'co2_profile_apriori', 'vertices', 'bands', 'epoch_dimension', 'footprints', 'levels', 'source_files', 'vertex_latitude', 'vertex_longitude'])"
      ]
     },
     "execution_count": 7,
     "metadata": {},
     "output_type": "execute_result"
    }
   ],
   "source": [
    "my_df.variables.keys()"
   ]
  },
  {
   "cell_type": "markdown",
   "id": "7c2c2693",
   "metadata": {},
   "source": [
    "# Reading the contents from the WEB page and retrieving only the links\n",
    "### Libraries: BeautifulSoup to read webElements\n",
    "- Collecting the lists and using the links to open datasets using <b>NETCDF</b>\n",
    "\n",
    "## WEB PAGE:\n",
    "- Here, we can pass the user input for <b>Instrument and Year</b>\n",
    "* url= 'https://oco2.gesdisc.eosdis.nasa.gov/opendap/'+str(instrument)+'/'+ str(year)+'/contents.html'"
   ]
  },
  {
   "cell_type": "code",
   "execution_count": 8,
   "id": "484be5f5",
   "metadata": {},
   "outputs": [],
   "source": [
    "import requests\n",
    "\n",
    "import urllib3\n",
    "from bs4 import BeautifulSoup"
   ]
  },
  {
   "cell_type": "code",
   "execution_count": 9,
   "id": "430c4fbc",
   "metadata": {},
   "outputs": [],
   "source": [
    "url= 'https://oco2.gesdisc.eosdis.nasa.gov/opendap/OCO2_L2_Lite_FP.10r/2020/contents.html'"
   ]
  },
  {
   "cell_type": "markdown",
   "id": "4e141b25",
   "metadata": {},
   "source": [
    "# USER INPUT: \n",
    "* Instrument and Version\n",
    "* Year"
   ]
  },
  {
   "cell_type": "code",
   "execution_count": 10,
   "id": "e74ce5c6",
   "metadata": {},
   "outputs": [
    {
     "name": "stdout",
     "output_type": "stream",
     "text": [
      "OCO2_L2_Lite_FP.10r\n",
      "2020\n"
     ]
    }
   ],
   "source": [
    "# Pass the following parameters for this test\n",
    "# Instrument: current testing(Pass) -> OCO2_L2_Lite_FP.10r\n",
    "# year: 2020\n",
    "\n",
    "instrument= input()\n",
    "year=input()"
   ]
  },
  {
   "cell_type": "markdown",
   "id": "0fde71a8",
   "metadata": {},
   "source": [
    "# Your Passed Parameters:\n",
    "* Instrument\n",
    "* Year"
   ]
  },
  {
   "cell_type": "code",
   "execution_count": 11,
   "id": "e11c8dd9",
   "metadata": {},
   "outputs": [
    {
     "data": {
      "text/plain": [
       "('OCO2_L2_Lite_FP.10r', '2020')"
      ]
     },
     "execution_count": 11,
     "metadata": {},
     "output_type": "execute_result"
    }
   ],
   "source": [
    "instrument,year"
   ]
  },
  {
   "cell_type": "markdown",
   "id": "45dc9b0b",
   "metadata": {},
   "source": [
    "# READ contents from the URL:\n",
    "* By passing the parameters from the USER input"
   ]
  },
  {
   "cell_type": "code",
   "execution_count": 12,
   "id": "ef58568b",
   "metadata": {},
   "outputs": [],
   "source": [
    "my_url= 'https://oco2.gesdisc.eosdis.nasa.gov/opendap/'+str(instrument)+'/'+ str(year)+'/contents.html'"
   ]
  },
  {
   "cell_type": "code",
   "execution_count": 13,
   "id": "a2cd1967",
   "metadata": {},
   "outputs": [
    {
     "data": {
      "text/plain": [
       "'https://oco2.gesdisc.eosdis.nasa.gov/opendap/OCO2_L2_Lite_FP.10r/2020/contents.html'"
      ]
     },
     "execution_count": 13,
     "metadata": {},
     "output_type": "execute_result"
    }
   ],
   "source": [
    "my_url"
   ]
  },
  {
   "cell_type": "code",
   "execution_count": 14,
   "id": "b7262d29",
   "metadata": {},
   "outputs": [
    {
     "data": {
      "text/plain": [
       "'https://oco2.gesdisc.eosdis.nasa.gov/opendap/OCO2_L2_Lite_FP.10r/2020/contents.html'"
      ]
     },
     "execution_count": 14,
     "metadata": {},
     "output_type": "execute_result"
    }
   ],
   "source": [
    "## Example\n",
    "url"
   ]
  },
  {
   "cell_type": "code",
   "execution_count": 15,
   "id": "9a2009cd",
   "metadata": {},
   "outputs": [],
   "source": [
    "# Get the content from the webpage\n",
    "reqs= requests.get(my_url)\n",
    "\n",
    "# selecting the lxml parser\n",
    "soup= BeautifulSoup(reqs.text, 'lxml')"
   ]
  },
  {
   "cell_type": "code",
   "execution_count": 16,
   "id": "872c5fa1",
   "metadata": {},
   "outputs": [],
   "source": [
    "# SOUP var, Here, returns the entire HTML contents"
   ]
  },
  {
   "cell_type": "code",
   "execution_count": 33,
   "id": "d21ba361",
   "metadata": {},
   "outputs": [
    {
     "data": {
      "text/plain": [
       "bs4.BeautifulSoup"
      ]
     },
     "execution_count": 33,
     "metadata": {},
     "output_type": "execute_result"
    }
   ],
   "source": [
    "# HTML contents\n",
    "type(soup)"
   ]
  },
  {
   "cell_type": "markdown",
   "id": "a16d4b69",
   "metadata": {},
   "source": [
    "# Filtering: to Get contents from the tag \n",
    "* \"\\<a>\" only, which lists the contents\n",
    "### Cleaning and saving the LINKS for the datasets only"
   ]
  },
  {
   "cell_type": "code",
   "execution_count": 30,
   "id": "2b975ef2",
   "metadata": {},
   "outputs": [],
   "source": [
    "# total links\n",
    "oco2_links= []\n",
    "\n",
    "for link in soup.find_all('a'):\n",
    "    #print(link.get('href'))\n",
    "    oco2_links.append(link.get('href'))"
   ]
  },
  {
   "cell_type": "markdown",
   "id": "78ffb0de",
   "metadata": {},
   "source": [
    "# Get the links ending with 'html' only\n",
    "### Rest of the links have different purpose\n",
    "### NOTE: another important link ending with 'info' gives information on Product\n"
   ]
  },
  {
   "cell_type": "code",
   "execution_count": 29,
   "id": "c39f1096",
   "metadata": {},
   "outputs": [],
   "source": [
    "\n",
    "# storing the html links\n",
    "dataset_links=[]\n",
    "\n",
    "for k in range(0, len(oco2_links)):\n",
    "    if oco2_links[k].endswith(\".html\"):\n",
    "        #print(oco2_links[k])\n",
    "        \n",
    "        # Strip the 'html' from the links \n",
    "        dataset_links.append(oco2_links[k].strip('.html'))"
   ]
  },
  {
   "cell_type": "code",
   "execution_count": 20,
   "id": "d2e14325",
   "metadata": {},
   "outputs": [],
   "source": [
    "# to avoid duplicate records\n",
    "p=0\n",
    "complete_oco2_links=[]\n",
    "\n",
    "for i in range(0, len(dataset_links)):\n",
    "    try:\n",
    "        complete_oco2_links.append(dataset_links[i+p])\n",
    "        p+=1\n",
    "    # Ignoring the Out of Index error\n",
    "    except IndexError as e:\n",
    "        continue"
   ]
  },
  {
   "cell_type": "code",
   "execution_count": 21,
   "id": "31b422d3",
   "metadata": {},
   "outputs": [
    {
     "data": {
      "text/plain": [
       "(712, 356)"
      ]
     },
     "execution_count": 21,
     "metadata": {},
     "output_type": "execute_result"
    }
   ],
   "source": [
    "# TESTING: for duplicate records, output: half\n",
    "len(dataset_links),len(complete_oco2_links)"
   ]
  },
  {
   "cell_type": "markdown",
   "id": "37bb24c5",
   "metadata": {},
   "source": [
    "# Other Important links:\n",
    "* Information on the product"
   ]
  },
  {
   "cell_type": "markdown",
   "id": "e63014c3",
   "metadata": {},
   "source": [
    "# Using the lists to Retrieve datasets\n",
    "* Using <b>netCDF</b> library to get the data"
   ]
  },
  {
   "cell_type": "code",
   "execution_count": 22,
   "id": "70e535fe",
   "metadata": {},
   "outputs": [
    {
     "name": "stdout",
     "output_type": "stream",
     "text": [
      "****\n"
     ]
    },
    {
     "data": {
      "text/plain": [
       "(['oco2_LtCO2_200101_B10206Ar_200728183348s.nc4',\n",
       "  'oco2_LtCO2_200102_B10206Ar_200728203252s.nc4',\n",
       "  'oco2_LtCO2_200103_B10206Ar_200728203534s.nc4',\n",
       "  'oco2_LtCO2_200108_B10206Ar_200728203546s.nc4',\n",
       "  'oco2_LtCO2_200109_B10206Ar_200728203551s.nc4'],\n",
       " None,\n",
       " ['oco2_LtCO2_201228_B10206Ar_210922003931s.nc4',\n",
       "  'oco2_LtCO2_201229_B10206Ar_210922003948s.nc4',\n",
       "  'oco2_LtCO2_201230_B10206Ar_210922004428s.nc4',\n",
       "  'oco2_LtCO2_201231_B10206Ar_210922004512s.nc4'])"
      ]
     },
     "execution_count": 22,
     "metadata": {},
     "output_type": "execute_result"
    }
   ],
   "source": [
    "# CHECK: JAN to DEC dates on the filenames\n",
    "\n",
    "complete_oco2_links[:5], print('****') ,complete_oco2_links[-4:]"
   ]
  },
  {
   "cell_type": "markdown",
   "id": "d6fa4e04",
   "metadata": {},
   "source": [
    "### TEST\n",
    "* Attaching the full link + dataset\n",
    "* my_url= 'https://oco2.gesdisc.eosdis.nasa.gov/opendap/'+str(instrument)+'/'+ str(year)+ complete_oco2_links[0]"
   ]
  },
  {
   "cell_type": "code",
   "execution_count": 23,
   "id": "8eb97da2",
   "metadata": {},
   "outputs": [
    {
     "data": {
      "text/plain": [
       "'oco2_LtCO2_200101_B10206Ar_200728183348s.nc4'"
      ]
     },
     "execution_count": 23,
     "metadata": {},
     "output_type": "execute_result"
    }
   ],
   "source": [
    "complete_oco2_links[0]"
   ]
  },
  {
   "cell_type": "code",
   "execution_count": 24,
   "id": "e6d68af1",
   "metadata": {
    "scrolled": true
   },
   "outputs": [
    {
     "data": {
      "text/plain": [
       "dict_keys(['xco2_apriori', 'file_index', 'xco2_qf_simple_bitflag', 'pressure_levels', 'xco2', 'time', 'pressure_weight', 'Preprocessors_co2_ratio', 'Preprocessors_max_declocking_sco2', 'Preprocessors_max_declocking_o2a', 'Preprocessors_xco2_strong_idp', 'Preprocessors_max_declocking_wco2', 'Preprocessors_dp_abp', 'Preprocessors_co2_ratio_offset_per_footprint', 'Preprocessors_h2o_ratio', 'Preprocessors_xco2_weak_idp', 'Preprocessors_h2o_ratio_offset_per_footprint', 'solar_zenith_angle', 'longitude', 'xco2_qf_bitflag', 'latitude', 'sensor_zenith_angle', 'Meteorology_psurf_apriori_o2a', 'Meteorology_psurf_apriori_wco2', 'Meteorology_psurf_apriori_sco2', 'Meteorology_windspeed_u_met', 'Meteorology_windspeed_v_met', 'xco2_quality_flag', 'xco2_averaging_kernel', 'date', 'Retrieval_dp_o2a', 'Retrieval_dust_height', 'Retrieval_aod_water', 'Retrieval_s32', 'Retrieval_chi2_sco2', 'Retrieval_aod_dust', 'Retrieval_albedo_slope_wco2', 'Retrieval_aod_bc', 'Retrieval_aod_strataer', 'Retrieval_aod_seasalt', 'Retrieval_rms_rel_o2a', 'Retrieval_windspeed_apriori', 'Retrieval_albedo_slope_sco2', 'Retrieval_tcwv_apriori', 'Retrieval_co2_grad_del', 'Retrieval_fs', 'Retrieval_psurf_apriori', 'Retrieval_SigmaB', 'Retrieval_fs_rel', 'Retrieval_albedo_wco2', 'Retrieval_tcwv', 'Retrieval_tcwv_uncertainty', 'Retrieval_albedo_quad_wco2', 'Retrieval_albedo_quad_o2a', 'Retrieval_albedo_o2a', 'Retrieval_deltaT', 'Retrieval_snow_flag', 'Retrieval_h2o_scale', 'Retrieval_dp_sco2', 'Retrieval_dp', 'Retrieval_windspeed', 'Retrieval_albedo_quad_sco2', 'Retrieval_dpfrac', 'Retrieval_t700', 'Retrieval_chi2_o2a', 'Retrieval_aod_ice', 'Retrieval_iterations', 'Retrieval_water_height', 'Retrieval_ice_height', 'Retrieval_rms_rel_wco2', 'Retrieval_aod_sulfate', 'Retrieval_dws', 'Retrieval_albedo_slope_o2a', 'Retrieval_rms_rel_sco2', 'Retrieval_eof3_3_rel', 'Retrieval_diverging_steps', 'Retrieval_albedo_sco2', 'Retrieval_chi2_wco2', 'Retrieval_surface_type', 'Retrieval_s31', 'Retrieval_psurf', 'Retrieval_aod_total', 'Retrieval_aod_oc', 'Retrieval_xco2_raw', 'Sounding_snr_sco2', 'Sounding_operation_mode', 'Sounding_snr_wco2', 'Sounding_glint_angle', 'Sounding_altitude_stddev', 'Sounding_sensor_azimuth_angle', 'Sounding_airmass', 'Sounding_land_water_indicator', 'Sounding_polarization_angle', 'Sounding_snr_o2a', 'Sounding_solar_azimuth_angle', 'Sounding_path', 'Sounding_altitude', 'Sounding_l1b_type', 'Sounding_footprint', 'Sounding_land_fraction', 'Sounding_orbit', 'xco2_uncertainty', 'co2_profile_apriori', 'vertices', 'bands', 'epoch_dimension', 'footprints', 'levels', 'source_files', 'vertex_latitude', 'vertex_longitude'])"
      ]
     },
     "execution_count": 24,
     "metadata": {},
     "output_type": "execute_result"
    }
   ],
   "source": [
    "first_element_oco2= nc.Dataset('https://oco2.gesdisc.eosdis.nasa.gov/opendap/'+str(instrument)+'/'+ str(year)+'/'+complete_oco2_links[2])\n",
    "first_element_oco2.variables.keys()"
   ]
  },
  {
   "cell_type": "code",
   "execution_count": 25,
   "id": "fa772c60",
   "metadata": {},
   "outputs": [
    {
     "ename": "RuntimeError",
     "evalue": "NetCDF: Authorization failure",
     "output_type": "error",
     "traceback": [
      "\u001b[1;31m---------------------------------------------------------------------------\u001b[0m",
      "\u001b[1;31mRuntimeError\u001b[0m                              Traceback (most recent call last)",
      "\u001b[1;32m~\\AppData\\Local\\Temp/ipykernel_7608/3078549580.py\u001b[0m in \u001b[0;36m<module>\u001b[1;34m\u001b[0m\n\u001b[1;32m----> 1\u001b[1;33m \u001b[0mfirst_element_oco2\u001b[0m\u001b[1;33m.\u001b[0m\u001b[0mvariables\u001b[0m\u001b[1;33m[\u001b[0m\u001b[1;34m\"xco2\"\u001b[0m\u001b[1;33m]\u001b[0m\u001b[1;33m[\u001b[0m\u001b[1;33m:\u001b[0m\u001b[1;33m]\u001b[0m\u001b[1;33m\u001b[0m\u001b[1;33m\u001b[0m\u001b[0m\n\u001b[0m",
      "\u001b[1;32msrc\\netCDF4\\_netCDF4.pyx\u001b[0m in \u001b[0;36mnetCDF4._netCDF4.Variable.__getitem__\u001b[1;34m()\u001b[0m\n",
      "\u001b[1;32msrc\\netCDF4\\_netCDF4.pyx\u001b[0m in \u001b[0;36mnetCDF4._netCDF4.Variable._get\u001b[1;34m()\u001b[0m\n",
      "\u001b[1;32msrc\\netCDF4\\_netCDF4.pyx\u001b[0m in \u001b[0;36mnetCDF4._netCDF4._ensure_nc_success\u001b[1;34m()\u001b[0m\n",
      "\u001b[1;31mRuntimeError\u001b[0m: NetCDF: Authorization failure"
     ]
    }
   ],
   "source": [
    "first_element_oco2.variables[\"xco2\"][:]"
   ]
  },
  {
   "cell_type": "markdown",
   "id": "c41686b6",
   "metadata": {},
   "source": [
    "# NEXT STEP:\n",
    "* Retrieving all datasets into pandas DataFrame for analysis\n",
    "* Rearrange the dateTime format\n",
    "\n",
    "# Creating a Class object:\n",
    "* Function that reads the variables from the dataset"
   ]
  },
  {
   "cell_type": "code",
   "execution_count": null,
   "id": "58756bf2",
   "metadata": {},
   "outputs": [],
   "source": [
    "# class readData():\n",
    "    \n",
    "#     # objects to store variables\n",
    "#     xco2=[]\n",
    "#     sounding_id=[]\n",
    "#     latitude= []\n",
    "#     longitude= []\n",
    "    \n",
    "    \n",
    "#     # initialization\n",
    "#     def __init__(self):\n",
    "        "
   ]
  },
  {
   "cell_type": "code",
   "execution_count": null,
   "id": "140eae2c",
   "metadata": {},
   "outputs": [],
   "source": []
  }
 ],
 "metadata": {
  "kernelspec": {
   "display_name": "Python 3 (ipykernel)",
   "language": "python",
   "name": "python3"
  },
  "language_info": {
   "codemirror_mode": {
    "name": "ipython",
    "version": 3
   },
   "file_extension": ".py",
   "mimetype": "text/x-python",
   "name": "python",
   "nbconvert_exporter": "python",
   "pygments_lexer": "ipython3",
   "version": "3.8.10"
  }
 },
 "nbformat": 4,
 "nbformat_minor": 5
}
