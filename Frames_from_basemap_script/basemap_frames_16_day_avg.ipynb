{
 "cells": [
  {
   "cell_type": "markdown",
   "id": "3da83111",
   "metadata": {},
   "source": [
    "# Code to create frames by 16-day average for EACH month"
   ]
  },
  {
   "cell_type": "code",
   "execution_count": 1,
   "id": "b4aab27b",
   "metadata": {},
   "outputs": [],
   "source": [
    "from mpl_toolkits.basemap import Basemap\n",
    "import numpy as np\n",
    "import pandas as pd\n",
    "import matplotlib.pyplot as plt\n",
    "import matplotlib\n",
    "\n",
    "# for GIF creation\n",
    "import PIL as plw \n",
    "\n",
    "# Animation and Graphics libraries\n",
    "import plotly.express as px\n",
    "import plotly\n",
    "import seaborn as sns; sns.set()"
   ]
  },
  {
   "cell_type": "markdown",
   "id": "dc37e811",
   "metadata": {},
   "source": [
    "### The code below will generate frames of 16 day cycle for each months:\n",
    "* For January: 1-16 and 17-31, same goes for every other months\n",
    "    * the frames will be caputred within the given time frame\n",
    "    \n",
    "* Below code for basemap will generate the FRAMES"
   ]
  },
  {
   "cell_type": "code",
   "execution_count": 73,
   "id": "6de3bf00",
   "metadata": {},
   "outputs": [],
   "source": [
    "# create a function that creates a BASEMAP\n",
    "def map_by_month(data, year, month, file_num,  x=\"longiture\",y= \"latitude\", lon_min= -180, lon_max= 180, lat_min= -90, lat_max= 90, size_point= 5, frontier= False):\n",
    "     \n",
    "    # EG: getting the MAP region, here below coordinates gets the map for INDIA region only             \n",
    "    # x=\"Longitude\",y= \"Latitude\", lon_min= 60, lon_max= 100, lat_min= 0, lat_max= 50, size_point= 5, frontier= False):\n",
    "    \n",
    "    # Figure setting    \n",
    "    plt.figure(figsize= (40, 22), edgecolor='b')\n",
    "    \n",
    "    #PROJECTION 'cyl' -> Equilateral Diagram\n",
    "    m= Basemap(projection='cyl', resolution='c',\n",
    "               llcrnrlat= lat_min, urcrnrlat=lat_max, llcrnrlon= lon_min, urcrnrlon= lon_max)\n",
    "\n",
    "\n",
    "    m.scatter( data['Longitude'], data['Latitude'], c= data['Xco2'], cmap= plt.cm.turbo, s=30, #norm= normal,\n",
    "             marker='d')\n",
    "    \n",
    "    # Customizing the COLORBAR\n",
    "    cbar= plt.colorbar(orientation= \"horizontal\",\n",
    "                      format= \"%.0f\",\n",
    "                      extend=\"both\",\n",
    "                      shrink= 0.45,\n",
    "                      aspect= 10,\n",
    "                      pad= 0.04)\n",
    "    \n",
    "    cbar.set_label(label=\"XCO2 (parts per million)\", size= 40)\n",
    "    cbar.ax.tick_params(labelsize= 35)\n",
    "\n",
    "    # ADJUSTT the CBAR by year\n",
    "    cbar.set_ticks(np.linspace(390, 420, 5))\n",
    "    plt.clim(390, 420)\n",
    "    \n",
    "    # BORDER Lining\n",
    "    m.drawmapboundary(fill_color='black')\n",
    "    \n",
    "    # changing BACKGROUND color\n",
    "    m.fillcontinents(color='grey', alpha= 0.25)\n",
    "    plt.title('Orbiting Carbon Observatory- 2\\nAtmospheric Carbon Dioxide Concentration\\n'+str(year)+'-'+str(month), fontsize =50)\n",
    "    \n",
    "    # Saving the Graph into specified Directory\n",
    "    \n",
    "#     # Change the PATH for different years\n",
    "    path =\"location of the drive\" +'/'\n",
    "    plt.savefig(path+str(file_num)+\"_\"+ str(month)+\"_\"+\".jpeg\",\n",
    "                dpi= 200)\n"
   ]
  },
  {
   "cell_type": "markdown",
   "id": "28309bb8",
   "metadata": {},
   "source": [
    "# code: generating 16 day cycle frames\n",
    "* 1-16 days and 17-31 for same month"
   ]
  },
  {
   "cell_type": "markdown",
   "id": "b22eadb5",
   "metadata": {},
   "source": [
    "# Selecting the dataframe from OCO2 dataset."
   ]
  },
  {
   "cell_type": "code",
   "execution_count": 68,
   "id": "135807e1",
   "metadata": {},
   "outputs": [],
   "source": [
    "df_oco2= pd.read_csv('../week_6/cali_oco2_2020.csv')"
   ]
  },
  {
   "cell_type": "code",
   "execution_count": 69,
   "id": "4af5c24a",
   "metadata": {},
   "outputs": [
    {
     "data": {
      "text/html": [
       "<div>\n",
       "<style scoped>\n",
       "    .dataframe tbody tr th:only-of-type {\n",
       "        vertical-align: middle;\n",
       "    }\n",
       "\n",
       "    .dataframe tbody tr th {\n",
       "        vertical-align: top;\n",
       "    }\n",
       "\n",
       "    .dataframe thead th {\n",
       "        text-align: right;\n",
       "    }\n",
       "</style>\n",
       "<table border=\"1\" class=\"dataframe\">\n",
       "  <thead>\n",
       "    <tr style=\"text-align: right;\">\n",
       "      <th></th>\n",
       "      <th>Xco2</th>\n",
       "      <th>Latitude</th>\n",
       "      <th>Longitude</th>\n",
       "      <th>quality_flag</th>\n",
       "      <th>DateTime</th>\n",
       "      <th>Year</th>\n",
       "      <th>Month</th>\n",
       "      <th>Day</th>\n",
       "      <th>Date</th>\n",
       "    </tr>\n",
       "  </thead>\n",
       "  <tbody>\n",
       "    <tr>\n",
       "      <th>0</th>\n",
       "      <td>412.94116</td>\n",
       "      <td>39.303364</td>\n",
       "      <td>-121.68724</td>\n",
       "      <td>0</td>\n",
       "      <td>2020-01-02 21:01:04.310</td>\n",
       "      <td>2020</td>\n",
       "      <td>1</td>\n",
       "      <td>2</td>\n",
       "      <td>2020-01-02 21:01:04.310</td>\n",
       "    </tr>\n",
       "    <tr>\n",
       "      <th>1</th>\n",
       "      <td>414.26077</td>\n",
       "      <td>39.307490</td>\n",
       "      <td>-121.68077</td>\n",
       "      <td>0</td>\n",
       "      <td>2020-01-02 21:01:04.720</td>\n",
       "      <td>2020</td>\n",
       "      <td>1</td>\n",
       "      <td>2</td>\n",
       "      <td>2020-01-02 21:01:04.720</td>\n",
       "    </tr>\n",
       "  </tbody>\n",
       "</table>\n",
       "</div>"
      ],
      "text/plain": [
       "        Xco2   Latitude  Longitude  quality_flag                 DateTime  \\\n",
       "0  412.94116  39.303364 -121.68724             0  2020-01-02 21:01:04.310   \n",
       "1  414.26077  39.307490 -121.68077             0  2020-01-02 21:01:04.720   \n",
       "\n",
       "   Year  Month  Day                     Date  \n",
       "0  2020      1    2  2020-01-02 21:01:04.310  \n",
       "1  2020      1    2  2020-01-02 21:01:04.720  "
      ]
     },
     "execution_count": 69,
     "metadata": {},
     "output_type": "execute_result"
    }
   ],
   "source": [
    "df_oco2.head(2)"
   ]
  },
  {
   "cell_type": "code",
   "execution_count": 71,
   "id": "a0a916e8",
   "metadata": {},
   "outputs": [
    {
     "data": {
      "text/plain": [
       "array([2020], dtype=int64)"
      ]
     },
     "execution_count": 71,
     "metadata": {},
     "output_type": "execute_result"
    }
   ],
   "source": [
    "df_oco2.Year.unique()"
   ]
  },
  {
   "cell_type": "markdown",
   "id": "f3e74e42",
   "metadata": {},
   "source": [
    "# generate FRAMES:\n",
    "TESTING"
   ]
  },
  {
   "cell_type": "code",
   "execution_count": 16,
   "id": "375e9b87",
   "metadata": {},
   "outputs": [],
   "source": [
    "test= xco2_16_avg_day(df_oco2)"
   ]
  },
  {
   "cell_type": "code",
   "execution_count": 20,
   "id": "6de240a2",
   "metadata": {},
   "outputs": [
    {
     "data": {
      "text/plain": [
       "<bound method xco2_16_avg_day.first_16_day_cycle of <__main__.xco2_16_avg_day object at 0x000001CDB6E0A0A0>>"
      ]
     },
     "execution_count": 20,
     "metadata": {},
     "output_type": "execute_result"
    }
   ],
   "source": [
    "test.first_16_day_cycle"
   ]
  },
  {
   "cell_type": "markdown",
   "id": "6b162271",
   "metadata": {},
   "source": [
    "### NOTE: location to save the frames to be changed in the BASMEAP code above"
   ]
  },
  {
   "cell_type": "code",
   "execution_count": 65,
   "id": "2e2e3f5a",
   "metadata": {},
   "outputs": [],
   "source": [
    "# total files\n",
    "#file_num= 0\n",
    "\n",
    "def first_16_day_cycle(data, year): \n",
    "\n",
    "    # get year\n",
    "    \n",
    "    # first 16 days\n",
    "    first_half= np.arange(1, 17)\n",
    "    #second 16 days\n",
    "    second_half= np.arange(17, 32)\n",
    "    \n",
    "    # months\n",
    "    month= ['January', 'February','March', 'April','May','June','July','August','September','October','November','December']\n",
    "\n",
    "    # total files\n",
    "    file_num = 0\n",
    "    \n",
    "    # repition of months\n",
    "    rep =0\n",
    "  \n",
    "    months_count= 0\n",
    "    for j in range(1, 13):\n",
    "\n",
    "\n",
    "        # for different months 1-12\n",
    "        vol_1= data[(data['Month']== j)]\n",
    "\n",
    "        # second loop to get three frames from same month; \n",
    "        # EG: first frame-> (1-16)16 days cycle, second frame -> (17-31) 16 days cycle, \n",
    "        # third frame -> total days cycel of a single month \n",
    "                    \n",
    "        # for first 16 days\n",
    "        first_vol= vol_1 [ vol_1['Day'].isin(first_half)]\n",
    "        map_by_month(first_vol, str(year),month[rep], file_num)\n",
    "\n",
    "        \n",
    "        file_num +=1\n",
    "        # Second Frame: 16 day cycle (17-31)   \n",
    "        second_vol= vol_1 [ vol_1['Day'].isin(second_half)]\n",
    "        map_by_month( second_vol, str(year),month[rep], file_num )                 \n",
    "\n",
    "        \n",
    "        file_num +=1\n",
    "        # Third FRAME: full frame of the entire month\n",
    "        map_by_month(vol_1, str(year), month[rep], file_num)\n",
    "\n",
    "\n",
    "#        file num increments\n",
    "        file_num +=1\n",
    "\n",
    "        # next months\n",
    "        rep +=1\n",
    " "
   ]
  },
  {
   "cell_type": "markdown",
   "id": "8f26b979",
   "metadata": {},
   "source": [
    "# TESTING for one year"
   ]
  },
  {
   "cell_type": "code",
   "execution_count": 74,
   "id": "9eaa817e",
   "metadata": {},
   "outputs": [],
   "source": [
    "# first_16_day_cycle(df_oco2, 2020)"
   ]
  },
  {
   "cell_type": "markdown",
   "id": "3608ce05",
   "metadata": {},
   "source": [
    "# Creating a GIF file format using the FRAMES above created\n",
    "* passing the PATH of frames created"
   ]
  },
  {
   "cell_type": "code",
   "execution_count": null,
   "id": "2cb0b4d2",
   "metadata": {},
   "outputs": [],
   "source": [
    "# image_frames=[]\n",
    "\n",
    "# days= np.arange(1,49)\n",
    "\n",
    "\n",
    "# # looping over the IMGAES \n",
    "# for j in days:\n",
    "\n",
    "    # path_to_files= \"locaiton of files\" + '/'\n",
    "#     day_one= plw.Image.open(path_to_files+str(j)+'.jpeg')\n",
    "    \n",
    "#     image_frames.append(day_one)\n",
    "    \n",
    "\n",
    "# # Creating a GIF\n",
    "\n",
    "# path_to_save_files= \"location of files to save the GIF file\" \n",
    "# path_to_save_files= path_to_save_files+ '/'\n",
    "\n",
    "# image_frames[0].save(path_to_save_files+ 's2019_2020_year.gif', format= 'GIF',\n",
    "#                     append_images= image_frames[1:],\n",
    "#                     save_all= True, duration= 600,\n",
    "#                     fps=10,\n",
    "#                     loop= 0)"
   ]
  }
 ],
 "metadata": {
  "kernelspec": {
   "display_name": "Python 3 (ipykernel)",
   "language": "python",
   "name": "python3"
  },
  "language_info": {
   "codemirror_mode": {
    "name": "ipython",
    "version": 3
   },
   "file_extension": ".py",
   "mimetype": "text/x-python",
   "name": "python",
   "nbconvert_exporter": "python",
   "pygments_lexer": "ipython3",
   "version": "3.8.10"
  }
 },
 "nbformat": 4,
 "nbformat_minor": 5
}
