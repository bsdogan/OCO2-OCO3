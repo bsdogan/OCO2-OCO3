{
 "cells": [
  {
   "cell_type": "markdown",
   "id": "d4cadd7d",
   "metadata": {
    "id": "d4cadd7d"
   },
   "source": [
    "# Objective: Convert netCDF file to GeoTiff\n",
    "- To transform a netCDF file into a GeoTiff format, a multi-step conversion process is required, encompassing the following stages: netCDF => CSV => GeoJSON => GeoTiff.\n",
    "\n",
    "- Initially, the netCDF file must be converted into a CSV format. Subsequently, the CSV file is further processed to obtain a JSON format known as GeoJSON. Finally, the GeoJSON file serves as the foundation for generating the GeoTiff file.\n",
    "\n",
    "### Additional information:\n",
    "- GeoJSON for Geospatial Information: GeoJSON is a specialized JSON format designed for geospatial data representation. It allows the inclusion of geographic features such as points, lines, and polygons, making it suitable for storing geospatial attributes that can be used in the creation of GeoTiff files.\n",
    "\n",
    "- GeoTiff for Georeferenced Imagery: GeoTiff (Georeferenced Tagged Image File Format) is a format commonly used for storing georeferenced imagery, such as satellite images or geospatial maps. It includes embedded geospatial information, allowing the accurate positioning of the image data on Earth's surface."
   ]
  },
  {
   "cell_type": "code",
   "execution_count": 1,
   "id": "f5345929",
   "metadata": {
    "id": "f5345929"
   },
   "outputs": [],
   "source": [
    "from osgeo import gdal\n",
    "from osgeo import ogr\n",
    "\n",
    "import numpy as np\n",
    "import pandas as pd\n",
    "import matplotlib.pyplot as plt\n",
    "import matplotlib\n",
    "import os\n",
    "import netCDF4 as nc\n",
    "\n",
    "# converting the datetime format\n",
    "from datetime import datetime"
   ]
  },
  {
   "cell_type": "markdown",
   "id": "Itql6T4aBAV4",
   "metadata": {
    "id": "Itql6T4aBAV4"
   },
   "source": [
    "# NOTE: Library `GDAL` required installation \n",
    "- `pip install gdal`\n",
    "- if error follow instructions: https://www.youtube.com/watch?v=8iCWUp7WaTk&list=PLVvd_IdJOr_d4uVUmr_wWTUN_bJiYFxtT&index=1&t=51s"
   ]
  },
  {
   "cell_type": "markdown",
   "id": "6012c7bb",
   "metadata": {
    "id": "6012c7bb"
   },
   "source": [
    "## Converting OCO2 NetCDF single file to CSV file\n"
   ]
  },
  {
   "cell_type": "code",
   "execution_count": 2,
   "id": "b75de9bb",
   "metadata": {
    "id": "b75de9bb"
   },
   "outputs": [],
   "source": [
    "# DATE time function\n",
    "def conv_date(d):\n",
    "    return datetime.strptime(str(d), '%Y%m%d%H%M%S%f')"
   ]
  },
  {
   "cell_type": "code",
   "execution_count": 3,
   "id": "9c92c493",
   "metadata": {
    "id": "9c92c493"
   },
   "outputs": [],
   "source": [
    "# FUNCTION to convert data\n",
    "def convHdf(path_file, n=0):\n",
    "\n",
    "    data= nc.Dataset(path_file)\n",
    "\n",
    "    # get the HDF data and convert to CSV\n",
    "    df_xco2= pd.DataFrame()\n",
    "\n",
    "    df_xco2['Xco2']= data.variables['xco2'][:]\n",
    "    df_xco2['Latitude']= data.variables['latitude'][:]\n",
    "    df_xco2['Longitude']= data.variables['longitude'][:] \n",
    "    df_xco2['quality_flag']= data.variables['xco2_quality_flag'][:] \n",
    "    \n",
    "    # Date\n",
    "    df_xco2['DateTime']= data.variables['sounding_id'][:]\n",
    "    \n",
    "    #Convert soundingID to datetime format\n",
    "    df_xco2['DateTime']= df_xco2['DateTime'].apply(conv_date)\n",
    "    df_xco2['DateTime']= pd.to_datetime(df_xco2['DateTime'])\n",
    "    \n",
    "    # YEAR and month column\n",
    "    df_xco2['Year']= df_xco2['DateTime'].dt.year\n",
    "    df_xco2['Month']= df_xco2['DateTime'].dt.month\n",
    "    df_xco2['Day']= df_xco2['DateTime'].dt.day\n",
    "    \n",
    "    # Refine the ENTIRE dataframe by GOOD quality_flag->0\n",
    "    # NOTE: REDUCES the size of the file\n",
    "    df_xco2= df_xco2[df_xco2['quality_flag'] == 0]   \n",
    "    \n",
    "   \n",
    "    date= str(data.variables['sounding_id'][0])      \n",
    "    \n",
    "    # create a CSV and store on new folder: csv_files\n",
    "    df_xco2.to_csv('oco2_xco2_'+ date+'_.csv', index= False)"
   ]
  },
  {
   "cell_type": "markdown",
   "id": "3827fcdd",
   "metadata": {
    "id": "3827fcdd"
   },
   "source": [
    "### File path:\n",
    "- locate the netcdf file"
   ]
  },
  {
   "cell_type": "code",
   "execution_count": 4,
   "id": "c07f07ee",
   "metadata": {
    "id": "c07f07ee"
   },
   "outputs": [],
   "source": [
    "path_file= 'oco2_LtCO2_200404_B10206Ar_210513195718s.nc4'"
   ]
  },
  {
   "cell_type": "markdown",
   "id": "ada26a28",
   "metadata": {
    "id": "ada26a28"
   },
   "source": [
    "### Check the txt file on same path\n",
    "### Convert the netCdf file to CSV"
   ]
  },
  {
   "cell_type": "code",
   "execution_count": 6,
   "id": "b0274a4f",
   "metadata": {
    "id": "b0274a4f"
   },
   "outputs": [],
   "source": [
    "# call the function and pass the file path\n",
    "convHdf(path_file)"
   ]
  },
  {
   "cell_type": "code",
   "execution_count": 7,
   "id": "71cb1ce9",
   "metadata": {
    "id": "71cb1ce9"
   },
   "outputs": [],
   "source": [
    "df_2019= pd.read_csv('oco2_xco2_2020040400164907_.csv')"
   ]
  },
  {
   "cell_type": "code",
   "execution_count": 8,
   "id": "2eda192c",
   "metadata": {
    "id": "2eda192c",
    "outputId": "670c0249-6f6b-44ac-e971-d7361511729c"
   },
   "outputs": [
    {
     "data": {
      "text/html": [
       "<div>\n",
       "<style scoped>\n",
       "    .dataframe tbody tr th:only-of-type {\n",
       "        vertical-align: middle;\n",
       "    }\n",
       "\n",
       "    .dataframe tbody tr th {\n",
       "        vertical-align: top;\n",
       "    }\n",
       "\n",
       "    .dataframe thead th {\n",
       "        text-align: right;\n",
       "    }\n",
       "</style>\n",
       "<table border=\"1\" class=\"dataframe\">\n",
       "  <thead>\n",
       "    <tr style=\"text-align: right;\">\n",
       "      <th></th>\n",
       "      <th>Xco2</th>\n",
       "      <th>Latitude</th>\n",
       "      <th>Longitude</th>\n",
       "      <th>quality_flag</th>\n",
       "      <th>DateTime</th>\n",
       "      <th>Year</th>\n",
       "      <th>Month</th>\n",
       "      <th>Day</th>\n",
       "    </tr>\n",
       "  </thead>\n",
       "  <tbody>\n",
       "    <tr>\n",
       "      <th>0</th>\n",
       "      <td>411.90454</td>\n",
       "      <td>-45.501717</td>\n",
       "      <td>-155.43155</td>\n",
       "      <td>0</td>\n",
       "      <td>2020-04-04 00:17:41.080</td>\n",
       "      <td>2020</td>\n",
       "      <td>4</td>\n",
       "      <td>4</td>\n",
       "    </tr>\n",
       "    <tr>\n",
       "      <th>1</th>\n",
       "      <td>410.20260</td>\n",
       "      <td>-45.486874</td>\n",
       "      <td>-155.26593</td>\n",
       "      <td>0</td>\n",
       "      <td>2020-04-04 00:17:41.710</td>\n",
       "      <td>2020</td>\n",
       "      <td>4</td>\n",
       "      <td>4</td>\n",
       "    </tr>\n",
       "    <tr>\n",
       "      <th>2</th>\n",
       "      <td>409.77330</td>\n",
       "      <td>-45.484360</td>\n",
       "      <td>-155.29066</td>\n",
       "      <td>0</td>\n",
       "      <td>2020-04-04 00:17:41.720</td>\n",
       "      <td>2020</td>\n",
       "      <td>4</td>\n",
       "      <td>4</td>\n",
       "    </tr>\n",
       "    <tr>\n",
       "      <th>3</th>\n",
       "      <td>410.43118</td>\n",
       "      <td>-45.465855</td>\n",
       "      <td>-155.44122</td>\n",
       "      <td>0</td>\n",
       "      <td>2020-04-04 00:17:41.780</td>\n",
       "      <td>2020</td>\n",
       "      <td>4</td>\n",
       "      <td>4</td>\n",
       "    </tr>\n",
       "  </tbody>\n",
       "</table>\n",
       "</div>"
      ],
      "text/plain": [
       "        Xco2   Latitude  Longitude  quality_flag                 DateTime  \\\n",
       "0  411.90454 -45.501717 -155.43155             0  2020-04-04 00:17:41.080   \n",
       "1  410.20260 -45.486874 -155.26593             0  2020-04-04 00:17:41.710   \n",
       "2  409.77330 -45.484360 -155.29066             0  2020-04-04 00:17:41.720   \n",
       "3  410.43118 -45.465855 -155.44122             0  2020-04-04 00:17:41.780   \n",
       "\n",
       "   Year  Month  Day  \n",
       "0  2020      4    4  \n",
       "1  2020      4    4  \n",
       "2  2020      4    4  \n",
       "3  2020      4    4  "
      ]
     },
     "execution_count": 8,
     "metadata": {},
     "output_type": "execute_result"
    }
   ],
   "source": [
    "df_2019.head(4)"
   ]
  },
  {
   "cell_type": "markdown",
   "id": "ca49afa0",
   "metadata": {
    "id": "ca49afa0"
   },
   "source": [
    "## Next OBJ:\n",
    "- Specific folders for different file formats\n",
    "- Using command script to transform 'CSV' file format to 'JSON'\n",
    "- Using JSON file format to Geotiff"
   ]
  },
  {
   "cell_type": "markdown",
   "id": "e5bb5740",
   "metadata": {
    "id": "e5bb5740"
   },
   "source": [
    "## 1. Converting Files:\n",
    "- From CSV to geoJSON format using 'OGR'\n",
    "- <b>“POSSIBLE_NAMES”</b> : options tell OGR which fields are used for the coordinate values. \n",
    "- <b>\"a_srs\"</b> : refers to the source file map projection. \n",
    "- <b>\"EPSG:4326\"</b> : is the standard equirectangular map projection."
   ]
  },
  {
   "cell_type": "markdown",
   "id": "77e3aa02",
   "metadata": {
    "id": "459fa69f"
   },
   "source": [
    "## create new directory to store JSON file"
   ]
  },
  {
   "cell_type": "code",
   "execution_count": 9,
   "id": "19f1d800",
   "metadata": {
    "id": "19f1d800"
   },
   "outputs": [],
   "source": [
    "if not os.path.exists('json_format'):\n",
    "    os.makedirs('json_format')\n",
    "else:\n",
    "    print(\"Directory exists!\")"
   ]
  },
  {
   "cell_type": "code",
   "execution_count": 10,
   "id": "e5685cc5",
   "metadata": {
    "id": "e5685cc5"
   },
   "outputs": [],
   "source": [
    "### PARAMETERS:"
   ]
  },
  {
   "cell_type": "markdown",
   "id": "c2f9287f",
   "metadata": {
    "id": "c2f9287f"
   },
   "source": [
    "* Destination:\n",
    "* Source: csv file"
   ]
  },
  {
   "cell_type": "code",
   "execution_count": 11,
   "id": "9e2bfd58",
   "metadata": {
    "id": "9e2bfd58"
   },
   "outputs": [
    {
     "name": "stderr",
     "output_type": "stream",
     "text": [
      "ERROR 1: PROJ: proj_create_from_database: C:\\Users\\sagarl\\Anaconda3\\Library\\share\\proj\\proj.db contains DATABASE.LAYOUT.VERSION.MINOR = 0 whereas a number >= 2 is expected. It comes from another PROJ installation.\n",
      "ERROR 1: Failed to process SRS definition: EPSG:4326\n"
     ]
    }
   ],
   "source": [
    "!ogr2ogr -oo X_POSSIBLE_NAMES=Longitude -oo Y_POSSIBLE_NAMES=Latitude -a_srs \"EPSG:4326\" json_format/oco2_2020.json oco2_xco2_2020040400164907_.csv"
   ]
  },
  {
   "cell_type": "markdown",
   "id": "8ee506c4",
   "metadata": {
    "id": "8ee506c4"
   },
   "source": [
    "* <b>Output:</b> creates a folder of GeoJSON files (4 files total) which will be used to create a tif file"
   ]
  },
  {
   "cell_type": "markdown",
   "id": "21a29131",
   "metadata": {
    "id": "21a29131"
   },
   "source": [
    "## 2. Convert the GeoJSON file to Geotiff\n",
    "- <b>‘-a’</b>: refers to the field name. We use ‘-a_nodata’ to give it a nodata value of 0. \n",
    "- <b>‘-ts’</b> : refers to the target size\n",
    "\n",
    "### NOTE \n",
    "- Here, in this example we use (-ts 512 256) for small for quick visualization. \n",
    "- Ideally, you’ll want to use the native extents and footprint sizes for each measurement, but that gets complicated\n"
   ]
  },
  {
   "cell_type": "code",
   "execution_count": null,
   "id": "b5733cab",
   "metadata": {
    "id": "b5733cab"
   },
   "outputs": [],
   "source": [
    "## Save JSON file on the path:\n",
    "!mkdir tif_format"
   ]
  },
  {
   "cell_type": "code",
   "execution_count": null,
   "id": "8d653869",
   "metadata": {
    "id": "8d653869",
    "outputId": "95d17d3e-5a25-4196-8b29-2454bf834b54"
   },
   "outputs": [
    {
     "name": "stdout",
     "output_type": "stream",
     "text": [
      "0...10...20...30...40...50...60...70...80...90...100 - done.\n"
     ]
    }
   ],
   "source": [
    "# !gdal_rasterize -a Xco2 -a_nodata 0 -ts 512 256 json_format/oco2_2020.json tif_format/oco2_2020.tif"
   ]
  },
  {
   "cell_type": "code",
   "execution_count": null,
   "id": "76e24ff8",
   "metadata": {
    "id": "76e24ff8",
    "outputId": "0e97227c-1cc1-4b0d-fda1-97f4cbe032d7"
   },
   "outputs": [
    {
     "name": "stdout",
     "output_type": "stream",
     "text": [
      "0...10...20...30...40...50...60...70...80...90...100 - done.\n"
     ]
    }
   ],
   "source": [
    "!gdal_rasterize -a Xco2 -a_nodata 0 -ts 712 356 json_format/oco2_2020.json tif_format/oco2_2020.tif"
   ]
  },
  {
   "cell_type": "markdown",
   "id": "d19d0656",
   "metadata": {
    "id": "d19d0656"
   },
   "source": [
    "# 3. PNG file with color range: "
   ]
  },
  {
   "cell_type": "code",
   "execution_count": null,
   "id": "3f215da0",
   "metadata": {
    "id": "3f215da0",
    "outputId": "bbf04b3c-ab1a-47e4-e46c-9d1a36c3058b"
   },
   "outputs": [
    {
     "name": "stdout",
     "output_type": "stream",
     "text": [
      " Volume in drive C is Windows\n",
      " Volume Serial Number is 0AD2-78A8\n",
      "\n",
      " Directory of C:\\Users\\sagarl\\JPL_Project\\year_round\\geotiff_conversion\\Converting_JSON_to_geotiff\n",
      "\n",
      "09/15/2022  02:06 PM    <DIR>          .\n",
      "09/15/2022  02:06 PM    <DIR>          ..\n",
      "09/15/2022  02:00 PM    <DIR>          .ipynb_checkpoints\n",
      "01/06/2022  06:56 PM                37 colormap.txt\n",
      "09/15/2022  02:06 PM    <DIR>          json_format\n",
      "07/21/2021  05:45 PM        64,424,455 oco2_LtCO2_200404_B10206Ar_210513195718s.nc4\n",
      "09/15/2022  02:06 PM         6,257,473 oco2_xco2_2020040400164907_.csv\n",
      "09/15/2022  02:02 PM            31,993 open_geotiff_file.ipynb\n",
      "09/15/2022  02:06 PM    <DIR>          tif_format\n",
      "               4 File(s)     70,713,958 bytes\n",
      "               5 Dir(s)  42,817,507,328 bytes free\n"
     ]
    }
   ],
   "source": [
    "!dir"
   ]
  },
  {
   "cell_type": "markdown",
   "id": "d05de15c",
   "metadata": {
    "id": "d05de15c"
   },
   "source": [
    "#### Instructions:\n",
    "* Locate tif file, colormap.txt file and destination"
   ]
  },
  {
   "cell_type": "code",
   "execution_count": null,
   "id": "5a87a7f7",
   "metadata": {
    "id": "5a87a7f7",
    "outputId": "6902d2aa-2bdb-471b-ea55-569be8d262ec"
   },
   "outputs": [
    {
     "name": "stdout",
     "output_type": "stream",
     "text": [
      "Directory exists\n"
     ]
    }
   ],
   "source": [
    "if not os.path.exists('color_tif_file'):\n",
    "    os.makedirs('color_tif_file')\n",
    "else:\n",
    "    print(\"Directory exists!\")"
   ]
  },
  {
   "cell_type": "code",
   "execution_count": null,
   "id": "17b057dd",
   "metadata": {
    "id": "17b057dd",
    "outputId": "65b9aa2f-ab28-43c5-8e0b-10c4789b65fa"
   },
   "outputs": [
    {
     "name": "stdout",
     "output_type": "stream",
     "text": [
      "0...10...20...30...40...50...60...70...80...90...100 - done.\n"
     ]
    }
   ],
   "source": [
    "!gdaldem color-relief -alpha tif_format/oco2_2020.tif colormap.txt color_tif_file/oco2_2020_color.tif"
   ]
  },
  {
   "cell_type": "markdown",
   "id": "03946025",
   "metadata": {
    "id": "03946025"
   },
   "source": [
    "### 4. Finally, translating to PNG format\n",
    "- If you want to produce a colored PNG output, you can do that in a few steps. - (colormap.txt): \n",
    "    - First, generate a txt colormap. \n",
    "    - Then create a colored TIFF file with a transparent alpha channel:"
   ]
  },
  {
   "cell_type": "code",
   "execution_count": null,
   "id": "d3b0525e",
   "metadata": {
    "id": "d3b0525e",
    "outputId": "de299955-14dc-4c26-fad9-ed5bc68d6a8a"
   },
   "outputs": [
    {
     "name": "stdout",
     "output_type": "stream",
     "text": [
      "Directory exists\n"
     ]
    }
   ],
   "source": [
    "if not os.path.exists('color_PNG_FILE'):\n",
    "    os.makedirs('color_PNG_FILE')\n",
    "else:\n",
    "    print(\"Directory exists\")"
   ]
  },
  {
   "cell_type": "code",
   "execution_count": null,
   "id": "d11d6ba1",
   "metadata": {
    "id": "d11d6ba1",
    "outputId": "ddd2ee63-a12b-4a81-9d9f-00b4ddacc8f1"
   },
   "outputs": [
    {
     "name": "stdout",
     "output_type": "stream",
     "text": [
      "Input file size is 712, 356\n",
      "0...10...20...30...40...50...60...70...80...90...100 - done.\n"
     ]
    }
   ],
   "source": [
    "!gdal_translate -of PNG -co \"WORLDFILE=YES\" color_tif_file/oco2_2020_color.tif color_PNG_FILE/oco2_2020_PNG.png"
   ]
  },
  {
   "cell_type": "markdown",
   "id": "7012d045",
   "metadata": {
    "id": "7012d045"
   },
   "source": [
    "# TESTING"
   ]
  },
  {
   "cell_type": "code",
   "execution_count": null,
   "id": "5d71c085",
   "metadata": {
    "id": "5d71c085"
   },
   "outputs": [],
   "source": [
    "dataset_a= gdal.Open('color_tif_file/oco2_2020_color.tif', gdal.GA_ReadOnly)"
   ]
  },
  {
   "cell_type": "code",
   "execution_count": null,
   "id": "4e557f6c",
   "metadata": {
    "id": "4e557f6c",
    "outputId": "e738fe58-cd51-4256-b0c1-47113306a9d6"
   },
   "outputs": [
    {
     "data": {
      "text/plain": [
       "<matplotlib.image.AxesImage at 0x1ed21c825e0>"
      ]
     },
     "execution_count": 19,
     "metadata": {},
     "output_type": "execute_result"
    },
    {
     "data": {
      "image/png": "[encoded data removed]",
      "text/plain": [
       "<Figure size 432x288 with 1 Axes>"
      ]
     },
     "metadata": {
      "needs_background": "light"
     },
     "output_type": "display_data"
    }
   ],
   "source": [
    "band= dataset_a.GetRasterBand(4)\n",
    "\n",
    "arr= band.ReadAsArray()\n",
    "plt.imshow(arr)"
   ]
  },
  {
   "cell_type": "code",
   "execution_count": null,
   "id": "7aea7713",
   "metadata": {
    "id": "7aea7713"
   },
   "outputs": [],
   "source": []
  }
 ],
 "metadata": {
  "colab": {
   "collapsed_sections": [],
   "provenance": []
  },
  "kernelspec": {
   "display_name": "Python 3 (ipykernel)",
   "language": "python",
   "name": "python3"
  },
  "language_info": {
   "codemirror_mode": {
    "name": "ipython",
    "version": 3
   },
   "file_extension": ".py",
   "mimetype": "text/x-python",
   "name": "python",
   "nbconvert_exporter": "python",
   "pygments_lexer": "ipython3",
   "version": "3.9.13"
  }
 },
 "nbformat": 4,
 "nbformat_minor": 5
}
