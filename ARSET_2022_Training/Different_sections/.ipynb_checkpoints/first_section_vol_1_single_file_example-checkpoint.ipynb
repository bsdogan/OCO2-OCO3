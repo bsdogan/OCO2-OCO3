{
 "cells": [
  {
   "cell_type": "markdown",
   "id": "8fd6480b",
   "metadata": {},
   "source": [
    "# XCO2 tutorial Outline"
   ]
  },
  {
   "cell_type": "markdown",
   "id": "2cfcdbd3",
   "metadata": {},
   "source": [
    "XCO2 Tutorial Outline\n",
    "\n",
    "POWER POINT PORTION\n",
    "\n",
    "1. Introduction to XCO2\n",
    "2. What is XCO2 and history\n",
    "3. What can XCO2 show and not show\n",
    "4. Plotted example of XCO2\n",
    "5. Measurement Approach\n",
    "6. Spatial and Temporal Resolution for OCO-2 and OCO-3\n",
    "7. How do we know the data is good?\n",
    "8. Where to download the data\n",
    "9. Product and Naming\n",
    "10. Documentation for data products\n"
   ]
  },
  {
   "cell_type": "markdown",
   "id": "6e3b659d",
   "metadata": {},
   "source": [
    "## JUPYTER NOTEBOOK PORTION\n",
    "\n",
    "Before following along, you will need to download software packages for this portion of the training. This is also what you will need in order to work with the data. We will be working in python, please make sure to have python 3 installed as well as Jupyter Notebook installed.\n",
    "\n",
    "Please be sure to have these libraries downloaded as well – (list libraries)\n",
    "\n",
    "OCO-2 Data files are large so it will take some time to download!\n",
    "\n",
    "1.\tShow what happens when we open up Jupyter Notebook (we will provide a path for the demo)\n",
    "2.\tShow code for how we pull the data from the data (File name, date and geolocation)\n",
    "3.\tExample one – XY Plot of XCO2 variation over time for a given location\n",
    "4.\tExample two- Show same plot but over several years\n",
    "5.\tExample three- Same location and time but shown over Google Earth for OCO-2 data\n",
    "6.\tExample four- Same location and time but show over Google Earth for OCO-3 data\n",
    "7.\tExample five – GIF showing OCO-3 data on spinning globe\n",
    "\n"
   ]
  },
  {
   "cell_type": "markdown",
   "id": "7060bf12",
   "metadata": {},
   "source": [
    "# Jupyter notebook installation guide"
   ]
  },
  {
   "cell_type": "markdown",
   "id": "b2bdf9ba",
   "metadata": {},
   "source": [
    "From the list of website you can follow instructions to setup Jupyter Notebook:\n",
    "* https://jupyter.org/install\n",
    "* https://www.geeksforgeeks.org/how-to-install-jupyter-notebook-in-windows/\n",
    "* https://test-jupyter.readthedocs.io/en/latest/install.html\n",
    " "
   ]
  },
  {
   "cell_type": "markdown",
   "id": "72acd161",
   "metadata": {},
   "source": [
    "## 1. Show what happens when we open up Jupyter Notebook\n",
    "### Jupyter Notebook Setup guide"
   ]
  },
  {
   "cell_type": "code",
   "execution_count": null,
   "id": "95775400",
   "metadata": {},
   "outputs": [],
   "source": [
    "from IPython.display import display, IFrame, HTML, YouTubeVideo\n",
    "\n",
    "IFrame( src=\"https://test-jupyter.readthedocs.io/en/latest/install.html\",\\\n",
    "              width= 800, height= 500)"
   ]
  },
  {
   "cell_type": "markdown",
   "id": "611f77c5",
   "metadata": {},
   "source": [
    "# Libraries (Package Installation Guide)\n",
    "- Type the following command in the Anaconda prompt:\n",
    "- Example: //to install netCDF4 library using <b>Anaconda prompt</b>\n",
    "    * pip install netCDF4\n",
    "- Second option: To install multiple libraries from the text file\n",
    "    * pip install -r requirements.txt\n",
    "  "
   ]
  },
  {
   "cell_type": "markdown",
   "id": "6da4f611",
   "metadata": {},
   "source": [
    "## Example to download libaries from Anaconda prompt"
   ]
  },
  {
   "cell_type": "code",
   "execution_count": null,
   "id": "033f15f9",
   "metadata": {},
   "outputs": [],
   "source": [
    "# To display images\n",
    "from IPython.display import Image\n",
    "\n",
    "Image('../downloading_BASEMAP_whl/locate_anaconda-prompt.png')"
   ]
  },
  {
   "cell_type": "markdown",
   "id": "1954aaa0",
   "metadata": {},
   "source": [
    "### Install single and multiple libararies"
   ]
  },
  {
   "cell_type": "code",
   "execution_count": null,
   "id": "e43a079f",
   "metadata": {},
   "outputs": [],
   "source": [
    "Image('../downloading_BASEMAP_whl/package_installation.png')"
   ]
  },
  {
   "cell_type": "markdown",
   "id": "1e8065e9",
   "metadata": {},
   "source": [
    "### Install multiple libraries in a single line"
   ]
  },
  {
   "cell_type": "code",
   "execution_count": null,
   "id": "dddb57d5",
   "metadata": {},
   "outputs": [],
   "source": [
    "Image('../downloading_BASEMAP_whl/install_multiple_libraries.png')"
   ]
  },
  {
   "cell_type": "markdown",
   "id": "c3c48bbf",
   "metadata": {},
   "source": [
    "### Open jupyter notebook after installing libraries"
   ]
  },
  {
   "cell_type": "code",
   "execution_count": null,
   "id": "6d37b2f0",
   "metadata": {},
   "outputs": [],
   "source": [
    "Image('../downloading_BASEMAP_whl/open_notebook.png')"
   ]
  },
  {
   "cell_type": "markdown",
   "id": "22350405",
   "metadata": {},
   "source": [
    "## Import Libaries"
   ]
  },
  {
   "cell_type": "code",
   "execution_count": null,
   "id": "be24a624",
   "metadata": {},
   "outputs": [],
   "source": [
    "# Libraries to open 'netcdf' file\n",
    "import netCDF4\n",
    "import xarray\n",
    "\n",
    "# To pre-process dataframe and use in visualization\n",
    "import numpy as np\n",
    "import pandas as pd\n",
    "\n",
    "# To create visualization, graphs, and plots\n",
    "import matplotlib.pyplot as plt \n",
    "import matplotlib.animation as animation\n",
    "from mpl_toolkits.basemap import Basemap # to create geo-spatial map, requires dependencies installation\n",
    "\n",
    "import plotly.express as px\n",
    "#import cartopy.crs as ccrs\n",
    "\n",
    "# To Display the content\n",
    "from IPython.display import display, HTML, Image"
   ]
  },
  {
   "cell_type": "markdown",
   "id": "13f98e79",
   "metadata": {},
   "source": [
    "# 2. Show code for how we pull the data from the data (File name, date and geolocation)"
   ]
  },
  {
   "cell_type": "markdown",
   "id": "8b358156",
   "metadata": {},
   "source": [
    "- We can download the files from EarthData\n",
    "- Requires login credentials and we can create a free account"
   ]
  },
  {
   "cell_type": "markdown",
   "id": "597b6c6d",
   "metadata": {},
   "source": [
    "## NOTE: \n",
    "- In this tutorial, we will demonstrate by using the OCO2 datasets which in the same path\n",
    "of the git repository.\n",
    "- FILE directory name: 'oco2_data'"
   ]
  },
  {
   "cell_type": "markdown",
   "id": "34c9dde6",
   "metadata": {},
   "source": [
    "### 2.a. Using NetCDF library to read the file\n",
    "- Example:\n",
    "    * netCDF4.Dataset(<path to file>)"
   ]
  },
  {
   "cell_type": "markdown",
   "id": "24f04a2b",
   "metadata": {},
   "source": [
    "## SINGLE day file"
   ]
  },
  {
   "cell_type": "code",
   "execution_count": null,
   "id": "ac0942ef",
   "metadata": {},
   "outputs": [],
   "source": [
    "%%time\n",
    "df_oco2= netCDF4.Dataset('../oco_data/oco2_LtCO2_210328_B11014Ar_220729004002s.nc4')"
   ]
  },
  {
   "cell_type": "markdown",
   "id": "fe90fc88",
   "metadata": {},
   "source": [
    "### Display the content inside file\n",
    "- variables and attributes"
   ]
  },
  {
   "cell_type": "code",
   "execution_count": null,
   "id": "d4b2581a",
   "metadata": {},
   "outputs": [],
   "source": [
    "list(df_oco2.variables.keys())"
   ]
  },
  {
   "cell_type": "markdown",
   "id": "2386ca0d",
   "metadata": {},
   "source": [
    "## Creating a dataframe using PANDAS library to retrieve attributes"
   ]
  },
  {
   "cell_type": "code",
   "execution_count": null,
   "id": "7e78dd10",
   "metadata": {},
   "outputs": [],
   "source": [
    "df_xco2= pd.DataFrame(columns=[ \"Latitude\", \"Longitude\", \"DateTime\",\"xco2\", \"xco2_quality_flag\"])\n",
    "\n",
    "df_xco2[\"xco2\"]= df_oco2[\"xco2\"][:]\n",
    "df_xco2[\"dateTime\"]= df_oco2[\"time\"][:]\n",
    "df_xco2[\"latitude\"]= df_oco2[\"latitude\"][:]\n",
    "df_xco2[\"longitude\"]= df_oco2[\"longitude\"][:]\n",
    "df_xco2[\"xco2_quality_flag\"]= df_oco2[\"xco2_quality_flag\"][:]"
   ]
  },
  {
   "cell_type": "markdown",
   "id": "d5640f1b",
   "metadata": {},
   "source": [
    "## Visualizing the dataset\n",
    "### using different libraries: Plotly or Basemap"
   ]
  },
  {
   "cell_type": "markdown",
   "id": "2946eb97",
   "metadata": {},
   "source": [
    "## 1. Plotly\n",
    "### Setting up Token using Map Box\n",
    "- Requires map access token to visualize the map\n",
    "- Create Free acount and generate API Key\n",
    "\n",
    "- (more brief)\n",
    "\n",
    "https://account.mapbox.com/"
   ]
  },
  {
   "cell_type": "code",
   "execution_count": null,
   "id": "804a9e10",
   "metadata": {},
   "outputs": [],
   "source": [
    "map_token= 'pk.eyJ1Ijoic2FnYXJsaW1idTAiLCJhIjoiY2t2MXhhMm5mNnE5ajJ3dDl2eDZvNTM2NiJ9.1bwmb8HPgFZWwR8kcO5rOA'"
   ]
  },
  {
   "cell_type": "markdown",
   "id": "9c886f4e",
   "metadata": {},
   "source": [
    "# Global Coverage"
   ]
  },
  {
   "cell_type": "markdown",
   "id": "2f4b71b0",
   "metadata": {},
   "source": [
    "### NOTE: xco2 value can offset the color range, assign max and min XCO2 ppm for color range"
   ]
  },
  {
   "cell_type": "code",
   "execution_count": null,
   "id": "9e31d340",
   "metadata": {},
   "outputs": [],
   "source": [
    "print(\"MAX: \", np.max(df_oco2[\"xco2\"]))\n",
    "print(\"MIN: \", np.min(df_oco2[\"xco2\"]))"
   ]
  },
  {
   "cell_type": "markdown",
   "id": "8ea1a534",
   "metadata": {},
   "source": [
    "## XCO2 data points reflects outliers:\n",
    "- High xco2 ppm at some region\n",
    "- Lower bound xco2 has low point at some region"
   ]
  },
  {
   "cell_type": "code",
   "execution_count": null,
   "id": "751d6fbb",
   "metadata": {},
   "outputs": [],
   "source": [
    "plt.scatter(np.arange(0, len(df_oco2['xco2'][:])), df_oco2['xco2'][:], alpha= 0.45)\n",
    "plt.ylabel('XCO2', fontsize= 14)\n",
    "plt.axhline(y= 425, c='r')\n",
    "plt.axhline(y= 390, c= 'green')\n"
   ]
  },
  {
   "cell_type": "markdown",
   "id": "df218cb0",
   "metadata": {},
   "source": [
    "# Filtering the XCO2 values between RANGE (390- 415) to reflect the variation"
   ]
  },
  {
   "cell_type": "markdown",
   "id": "8c823ee5",
   "metadata": {},
   "source": [
    "### Enter the min and max XCO2 ppm"
   ]
  },
  {
   "cell_type": "code",
   "execution_count": null,
   "id": "079e50ab",
   "metadata": {},
   "outputs": [],
   "source": [
    "max_ppm= float(input(\"Enter the UPPER bound XCO2 ppm: \"))\n",
    "min_ppm= float(input(\"Enter the LOWER bound XCO2 ppm: \"))"
   ]
  },
  {
   "cell_type": "markdown",
   "id": "26b54bd3",
   "metadata": {},
   "source": [
    "### New visualization after filtering the RANGE of XCO2 ppm to reflect variation"
   ]
  },
  {
   "cell_type": "code",
   "execution_count": null,
   "id": "c3e31934",
   "metadata": {},
   "outputs": [],
   "source": [
    "%%time\n",
    "# Filter XCO2 ppm by max and min XCo2 ppm to reflect the variation\n",
    "new_data= df_xco2[df_xco2['xco2'] < max_ppm]\n",
    "new_data= new_data[new_data['xco2'] > min_ppm]\n",
    "\n",
    "# set mapbox access token\n",
    "px.set_mapbox_access_token(map_token)\n",
    "\n",
    "# passing Latitude, Longitude, and Xco2 product\n",
    "# Retrieve all data and passing into function\n",
    "fig= px.scatter_mapbox(new_data,\n",
    "                      lat= new_data['latitude'],\n",
    "                      lon= new_data['longitude'],\n",
    "                      color= new_data['xco2'],        \n",
    "                       zoom= 0,\n",
    "                      size_max= 0.10,\n",
    "\n",
    "                      color_continuous_scale= [\"yellow\", \"orange\", \"red\"]\n",
    "#                       color_continuous_scale= [\"blue\", \"green\", \"red\"]\n",
    "#                      hover_name=df_xco2['DateTime']\n",
    "                      )\n",
    "\n",
    "fig.update_layout(\n",
    "    autosize=True,\n",
    "    hovermode='closest',\n",
    "    mapbox=dict(\n",
    "        accesstoken=map_token,\n",
    "        bearing=0,\n",
    "        pitch=0,\n",
    "        zoom=0,\n",
    "        style=\"white-bg\",\n",
    "        layers=[{\n",
    "            \"below\":'traces',\n",
    "            \"sourcetype\": \"raster\",\n",
    "            \"sourceattribution\": \"United States Geological Survey\",\n",
    "            \"source\": [\n",
    "                \"https://basemap.nationalmap.gov/arcgis/rest/services/USGSImageryOnly/MapServer/tile/{z}/{y}/{x}\"\n",
    "            ]\n",
    "        }\n",
    "        ]\n",
    "    )\n",
    "    ,title='OCO2- XCO2, Atmospheric Carbon Dioxide'\n",
    "\n",
    ")\n",
    "\n",
    "fig.show()"
   ]
  },
  {
   "cell_type": "markdown",
   "id": "5e60a0e9",
   "metadata": {},
   "source": [
    "# Subsetting by geographic bounding box:\n",
    "- Bounding box coordinates to cover Australia\n",
    "- Filtering the latitude and longitude by coordinates\n",
    "- Example filtering the data by Australia region"
   ]
  },
  {
   "cell_type": "markdown",
   "id": "d171f519",
   "metadata": {},
   "source": [
    "## Spatial subsetting on the coordinates:\n",
    "- Latitude(South: North)\n",
    "- Longitude(West: East)\n",
    "- Enter the coordinates     \n",
    "- Example: Subsetting by Australia region\n",
    "    - latitude: (-45.75 : -9)\n",
    "    - longitude: (110 : 156)"
   ]
  },
  {
   "cell_type": "code",
   "execution_count": null,
   "id": "26730eda",
   "metadata": {},
   "outputs": [],
   "source": [
    "%%time\n",
    "def subsetting_coordinates(data, South, North, West, East, zoom = 2):\n",
    "    \n",
    "    # Create dataframe and columns\n",
    "    df_xco2= pd.DataFrame(columns=[ \"Latitude\", \"Longitude\", \"DateTime\",\"xco2\", \"xco2_quality_flag\"])\n",
    "    \n",
    "    df_xco2[\"xco2\"]= data[\"xco2\"][:]\n",
    "    df_xco2[\"dateTime\"]= data[\"time\"][:]\n",
    "    df_xco2[\"latitude\"]= data[\"latitude\"][:]\n",
    "    df_xco2[\"longitude\"]= data[\"longitude\"][:]\n",
    "    df_xco2[\"xco2_quality_flag\"]= data[\"xco2_quality_flag\"][:]\n",
    "\n",
    "    # Passing the new Dataframe and filtering the coordinates by region/ country: \n",
    "    df_first= df_xco2[(df_xco2[\"latitude\"] > South) &(df_xco2[\"latitude\"]< North)]\n",
    "    df_second= df_first[(df_first[\"longitude\"] >West) & (df_first[\"longitude\"] < East)]\n",
    "    \n",
    "    \n",
    "    # set token\n",
    "    px.set_mapbox_access_token(map_token)\n",
    "\n",
    "    fig_second= px.scatter_mapbox(df_second,\n",
    "                          lat= 'latitude',\n",
    "                          lon= 'longitude',\n",
    "                          color= 'xco2',\n",
    "                          zoom= zoom,\n",
    "                          size_max= 15,\n",
    "                          color_continuous_scale= [\"yellow\", \"orange\", \"red\"]\n",
    "                          )\n",
    "\n",
    "#    if darkmap == 1:\n",
    "    fig_second.update_layout(\n",
    "    mapbox_style=\"dark\",\n",
    "    title='OCO2- XCO2, Atmospheric Carbon Dioxide')\n",
    "\n",
    "#         )\n",
    "#     else:\n",
    "#         fig_second.update_layout(\n",
    "#         mapbox_style=\"stamen-watercolor\",\n",
    "#         title='OCO2- XCO2, Atmospheric Carbon Dioxide'\n",
    "\n",
    "#         )\n",
    "\n",
    "    fig_second.show()"
   ]
  },
  {
   "cell_type": "markdown",
   "id": "a16f59d9",
   "metadata": {},
   "source": [
    "### Australia coordinates: "
   ]
  },
  {
   "cell_type": "markdown",
   "id": "feaa0a32",
   "metadata": {},
   "source": [
    "* latitude: (-45.75 : -9)\n",
    "* longitude: (110 : 156)"
   ]
  },
  {
   "cell_type": "code",
   "execution_count": null,
   "id": "a2651058",
   "metadata": {},
   "outputs": [],
   "source": [
    "%%time\n",
    "subsetting_coordinates(df_oco2, -45.75, -9, 110, 156, zoom= 2)"
   ]
  },
  {
   "cell_type": "code",
   "execution_count": null,
   "id": "9fe81c6b",
   "metadata": {},
   "outputs": [],
   "source": []
  },
  {
   "cell_type": "code",
   "execution_count": null,
   "id": "5c913503",
   "metadata": {},
   "outputs": [],
   "source": []
  }
 ],
 "metadata": {
  "kernelspec": {
   "display_name": "Python 3 (ipykernel)",
   "language": "python",
   "name": "python3"
  },
  "language_info": {
   "codemirror_mode": {
    "name": "ipython",
    "version": 3
   },
   "file_extension": ".py",
   "mimetype": "text/x-python",
   "name": "python",
   "nbconvert_exporter": "python",
   "pygments_lexer": "ipython3",
   "version": "3.9.12"
  }
 },
 "nbformat": 4,
 "nbformat_minor": 5
}
