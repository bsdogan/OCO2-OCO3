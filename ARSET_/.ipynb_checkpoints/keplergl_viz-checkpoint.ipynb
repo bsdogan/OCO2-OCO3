{
 "cells": [
  {
   "cell_type": "code",
   "execution_count": 1,
   "id": "c2244912",
   "metadata": {},
   "outputs": [],
   "source": [
    "import numpy as np\n",
    "import pandas as pd\n",
    "import matplotlib.pyplot as plt\n",
    "from matplotlib import animation\n",
    "from mpl_toolkits.basemap import Basemap\n",
    "from mpl_toolkits import basemap\n",
    "\n",
    "# LIST the path to files\n",
    "import xarray\n",
    "import netCDF4 as nc4\n",
    "import netCDF4\n",
    "import glob\n",
    "import pandas as pd\n",
    "from datetime import datetime\n",
    "\n",
    "from keplergl import KeplerGl as keplr\n",
    "\n",
    "import json\n",
    "from IPython.display import display, HTML, Image"
   ]
  },
  {
   "cell_type": "markdown",
   "id": "b5175dce",
   "metadata": {},
   "source": [
    "### Read netcdf files"
   ]
  },
  {
   "cell_type": "code",
   "execution_count": 2,
   "id": "320c89c0",
   "metadata": {},
   "outputs": [],
   "source": [
    "df_oco2= netCDF4.Dataset('oco2_data/oco2_LtCO2_190101_B10206Ar_200729172616s.nc4')"
   ]
  },
  {
   "cell_type": "code",
   "execution_count": 3,
   "id": "701f6b58",
   "metadata": {},
   "outputs": [],
   "source": [
    "# DATE time function\n",
    "def conv_date(d):\n",
    "    return datetime.strptime(str(d), '%Y%m%d%H%M%S%f')"
   ]
  },
  {
   "cell_type": "code",
   "execution_count": 4,
   "id": "5105424d",
   "metadata": {},
   "outputs": [],
   "source": [
    "df_xco2= pd.DataFrame(columns=[ \"Latitude\", \"Longitude\", \"DateTime\",\"xco2\", \"xco2_quality_flag\"])\n",
    "    \n",
    "df_xco2[\"xco2\"]= df_oco2[\"xco2\"][:]\n",
    "df_xco2[\"Latitude\"]= df_oco2[\"latitude\"][:]\n",
    "df_xco2[\"Longitude\"]=df_oco2[\"longitude\"][:]\n",
    "df_xco2[\"DateTime\"]= df_oco2[\"sounding_id\"][:]\n",
    "df_xco2[\"xco2_quality_flag\"]= df_oco2[\"xco2_quality_flag\"][:]\n",
    "\n",
    "# DATE TIME columns:\n",
    "#df_xco2_new['DateTime']= pd.to_datetime(df_xco2_new['DateTime'])\n",
    "#df_xco2_new['DateTime']= df_xco2_new['DateTime'].astype(str)\n",
    "\n",
    "df_xco2['DateTime']= df_xco2['DateTime'].apply(conv_date)\n",
    "\n",
    "df_xco2['Year']= df_xco2['DateTime'].dt.year\n",
    "df_xco2['Month']= df_xco2['DateTime'].dt.month\n",
    "df_xco2['Day']= df_xco2['DateTime'].dt.day"
   ]
  },
  {
   "cell_type": "code",
   "execution_count": 5,
   "id": "1e64bcd2",
   "metadata": {},
   "outputs": [],
   "source": [
    "df_xco2_new= df_xco2[df_xco2['xco2_quality_flag'] == 0] "
   ]
  },
  {
   "cell_type": "code",
   "execution_count": 6,
   "id": "fade74fd",
   "metadata": {},
   "outputs": [
    {
     "data": {
      "text/html": [
       "<div>\n",
       "<style scoped>\n",
       "    .dataframe tbody tr th:only-of-type {\n",
       "        vertical-align: middle;\n",
       "    }\n",
       "\n",
       "    .dataframe tbody tr th {\n",
       "        vertical-align: top;\n",
       "    }\n",
       "\n",
       "    .dataframe thead th {\n",
       "        text-align: right;\n",
       "    }\n",
       "</style>\n",
       "<table border=\"1\" class=\"dataframe\">\n",
       "  <thead>\n",
       "    <tr style=\"text-align: right;\">\n",
       "      <th></th>\n",
       "      <th>Latitude</th>\n",
       "      <th>Longitude</th>\n",
       "      <th>DateTime</th>\n",
       "      <th>xco2</th>\n",
       "      <th>xco2_quality_flag</th>\n",
       "      <th>Year</th>\n",
       "      <th>Month</th>\n",
       "      <th>Day</th>\n",
       "    </tr>\n",
       "  </thead>\n",
       "  <tbody>\n",
       "    <tr>\n",
       "      <th>218</th>\n",
       "      <td>-72.345078</td>\n",
       "      <td>-145.745651</td>\n",
       "      <td>2019-01-01 00:29:16.080</td>\n",
       "      <td>404.126801</td>\n",
       "      <td>0</td>\n",
       "      <td>2019</td>\n",
       "      <td>1</td>\n",
       "      <td>1</td>\n",
       "    </tr>\n",
       "    <tr>\n",
       "      <th>219</th>\n",
       "      <td>-72.327957</td>\n",
       "      <td>-145.764679</td>\n",
       "      <td>2019-01-01 00:29:16.380</td>\n",
       "      <td>403.008423</td>\n",
       "      <td>0</td>\n",
       "      <td>2019</td>\n",
       "      <td>1</td>\n",
       "      <td>1</td>\n",
       "    </tr>\n",
       "    <tr>\n",
       "      <th>240</th>\n",
       "      <td>-72.207100</td>\n",
       "      <td>-145.900177</td>\n",
       "      <td>2019-01-01 00:29:18.780</td>\n",
       "      <td>403.007477</td>\n",
       "      <td>0</td>\n",
       "      <td>2019</td>\n",
       "      <td>1</td>\n",
       "      <td>1</td>\n",
       "    </tr>\n",
       "  </tbody>\n",
       "</table>\n",
       "</div>"
      ],
      "text/plain": [
       "      Latitude   Longitude                DateTime        xco2  \\\n",
       "218 -72.345078 -145.745651 2019-01-01 00:29:16.080  404.126801   \n",
       "219 -72.327957 -145.764679 2019-01-01 00:29:16.380  403.008423   \n",
       "240 -72.207100 -145.900177 2019-01-01 00:29:18.780  403.007477   \n",
       "\n",
       "     xco2_quality_flag  Year  Month  Day  \n",
       "218                  0  2019      1    1  \n",
       "219                  0  2019      1    1  \n",
       "240                  0  2019      1    1  "
      ]
     },
     "execution_count": 6,
     "metadata": {},
     "output_type": "execute_result"
    }
   ],
   "source": [
    "df_xco2_new.head(3)"
   ]
  },
  {
   "cell_type": "code",
   "execution_count": 7,
   "id": "ef76d00d",
   "metadata": {},
   "outputs": [
    {
     "name": "stderr",
     "output_type": "stream",
     "text": [
      "C:\\Users\\sagarl\\AppData\\Local\\Temp\\1/ipykernel_13220/641023807.py:1: SettingWithCopyWarning: \n",
      "A value is trying to be set on a copy of a slice from a DataFrame.\n",
      "Try using .loc[row_indexer,col_indexer] = value instead\n",
      "\n",
      "See the caveats in the documentation: https://pandas.pydata.org/pandas-docs/stable/user_guide/indexing.html#returning-a-view-versus-a-copy\n",
      "  df_xco2_new['index']= np.arange(0, len(df_xco2_new))\n"
     ]
    },
    {
     "data": {
      "text/html": [
       "<div>\n",
       "<style scoped>\n",
       "    .dataframe tbody tr th:only-of-type {\n",
       "        vertical-align: middle;\n",
       "    }\n",
       "\n",
       "    .dataframe tbody tr th {\n",
       "        vertical-align: top;\n",
       "    }\n",
       "\n",
       "    .dataframe thead th {\n",
       "        text-align: right;\n",
       "    }\n",
       "</style>\n",
       "<table border=\"1\" class=\"dataframe\">\n",
       "  <thead>\n",
       "    <tr style=\"text-align: right;\">\n",
       "      <th></th>\n",
       "      <th>Latitude</th>\n",
       "      <th>Longitude</th>\n",
       "      <th>DateTime</th>\n",
       "      <th>xco2</th>\n",
       "      <th>xco2_quality_flag</th>\n",
       "      <th>Year</th>\n",
       "      <th>Month</th>\n",
       "      <th>Day</th>\n",
       "      <th>index</th>\n",
       "    </tr>\n",
       "  </thead>\n",
       "  <tbody>\n",
       "    <tr>\n",
       "      <th>218</th>\n",
       "      <td>-72.345078</td>\n",
       "      <td>-145.745651</td>\n",
       "      <td>2019-01-01 00:29:16.080</td>\n",
       "      <td>404.126801</td>\n",
       "      <td>0</td>\n",
       "      <td>2019</td>\n",
       "      <td>1</td>\n",
       "      <td>1</td>\n",
       "      <td>0</td>\n",
       "    </tr>\n",
       "    <tr>\n",
       "      <th>219</th>\n",
       "      <td>-72.327957</td>\n",
       "      <td>-145.764679</td>\n",
       "      <td>2019-01-01 00:29:16.380</td>\n",
       "      <td>403.008423</td>\n",
       "      <td>0</td>\n",
       "      <td>2019</td>\n",
       "      <td>1</td>\n",
       "      <td>1</td>\n",
       "      <td>1</td>\n",
       "    </tr>\n",
       "    <tr>\n",
       "      <th>240</th>\n",
       "      <td>-72.207100</td>\n",
       "      <td>-145.900177</td>\n",
       "      <td>2019-01-01 00:29:18.780</td>\n",
       "      <td>403.007477</td>\n",
       "      <td>0</td>\n",
       "      <td>2019</td>\n",
       "      <td>1</td>\n",
       "      <td>1</td>\n",
       "      <td>2</td>\n",
       "    </tr>\n",
       "    <tr>\n",
       "      <th>243</th>\n",
       "      <td>-72.189888</td>\n",
       "      <td>-145.919418</td>\n",
       "      <td>2019-01-01 00:29:19.080</td>\n",
       "      <td>402.692291</td>\n",
       "      <td>0</td>\n",
       "      <td>2019</td>\n",
       "      <td>1</td>\n",
       "      <td>1</td>\n",
       "      <td>3</td>\n",
       "    </tr>\n",
       "    <tr>\n",
       "      <th>245</th>\n",
       "      <td>-72.172684</td>\n",
       "      <td>-145.938614</td>\n",
       "      <td>2019-01-01 00:29:19.380</td>\n",
       "      <td>404.782257</td>\n",
       "      <td>0</td>\n",
       "      <td>2019</td>\n",
       "      <td>1</td>\n",
       "      <td>1</td>\n",
       "      <td>4</td>\n",
       "    </tr>\n",
       "    <tr>\n",
       "      <th>...</th>\n",
       "      <td>...</td>\n",
       "      <td>...</td>\n",
       "      <td>...</td>\n",
       "      <td>...</td>\n",
       "      <td>...</td>\n",
       "      <td>...</td>\n",
       "      <td>...</td>\n",
       "      <td>...</td>\n",
       "      <td>...</td>\n",
       "    </tr>\n",
       "    <tr>\n",
       "      <th>190409</th>\n",
       "      <td>12.988093</td>\n",
       "      <td>-159.916687</td>\n",
       "      <td>2019-01-01 23:59:27.040</td>\n",
       "      <td>408.774689</td>\n",
       "      <td>0</td>\n",
       "      <td>2019</td>\n",
       "      <td>1</td>\n",
       "      <td>1</td>\n",
       "      <td>93037</td>\n",
       "    </tr>\n",
       "    <tr>\n",
       "      <th>190410</th>\n",
       "      <td>12.977462</td>\n",
       "      <td>-159.910477</td>\n",
       "      <td>2019-01-01 23:59:27.050</td>\n",
       "      <td>409.011871</td>\n",
       "      <td>0</td>\n",
       "      <td>2019</td>\n",
       "      <td>1</td>\n",
       "      <td>1</td>\n",
       "      <td>93038</td>\n",
       "    </tr>\n",
       "    <tr>\n",
       "      <th>190411</th>\n",
       "      <td>12.966721</td>\n",
       "      <td>-159.904343</td>\n",
       "      <td>2019-01-01 23:59:27.060</td>\n",
       "      <td>408.652954</td>\n",
       "      <td>0</td>\n",
       "      <td>2019</td>\n",
       "      <td>1</td>\n",
       "      <td>1</td>\n",
       "      <td>93039</td>\n",
       "    </tr>\n",
       "    <tr>\n",
       "      <th>190413</th>\n",
       "      <td>12.944997</td>\n",
       "      <td>-159.892349</td>\n",
       "      <td>2019-01-01 23:59:27.080</td>\n",
       "      <td>407.974915</td>\n",
       "      <td>0</td>\n",
       "      <td>2019</td>\n",
       "      <td>1</td>\n",
       "      <td>1</td>\n",
       "      <td>93040</td>\n",
       "    </tr>\n",
       "    <tr>\n",
       "      <th>190415</th>\n",
       "      <td>12.995839</td>\n",
       "      <td>-159.915115</td>\n",
       "      <td>2019-01-01 23:59:27.350</td>\n",
       "      <td>408.166779</td>\n",
       "      <td>0</td>\n",
       "      <td>2019</td>\n",
       "      <td>1</td>\n",
       "      <td>1</td>\n",
       "      <td>93041</td>\n",
       "    </tr>\n",
       "  </tbody>\n",
       "</table>\n",
       "<p>93042 rows × 9 columns</p>\n",
       "</div>"
      ],
      "text/plain": [
       "         Latitude   Longitude                DateTime        xco2  \\\n",
       "218    -72.345078 -145.745651 2019-01-01 00:29:16.080  404.126801   \n",
       "219    -72.327957 -145.764679 2019-01-01 00:29:16.380  403.008423   \n",
       "240    -72.207100 -145.900177 2019-01-01 00:29:18.780  403.007477   \n",
       "243    -72.189888 -145.919418 2019-01-01 00:29:19.080  402.692291   \n",
       "245    -72.172684 -145.938614 2019-01-01 00:29:19.380  404.782257   \n",
       "...           ...         ...                     ...         ...   \n",
       "190409  12.988093 -159.916687 2019-01-01 23:59:27.040  408.774689   \n",
       "190410  12.977462 -159.910477 2019-01-01 23:59:27.050  409.011871   \n",
       "190411  12.966721 -159.904343 2019-01-01 23:59:27.060  408.652954   \n",
       "190413  12.944997 -159.892349 2019-01-01 23:59:27.080  407.974915   \n",
       "190415  12.995839 -159.915115 2019-01-01 23:59:27.350  408.166779   \n",
       "\n",
       "        xco2_quality_flag  Year  Month  Day  index  \n",
       "218                     0  2019      1    1      0  \n",
       "219                     0  2019      1    1      1  \n",
       "240                     0  2019      1    1      2  \n",
       "243                     0  2019      1    1      3  \n",
       "245                     0  2019      1    1      4  \n",
       "...                   ...   ...    ...  ...    ...  \n",
       "190409                  0  2019      1    1  93037  \n",
       "190410                  0  2019      1    1  93038  \n",
       "190411                  0  2019      1    1  93039  \n",
       "190413                  0  2019      1    1  93040  \n",
       "190415                  0  2019      1    1  93041  \n",
       "\n",
       "[93042 rows x 9 columns]"
      ]
     },
     "execution_count": 7,
     "metadata": {},
     "output_type": "execute_result"
    }
   ],
   "source": [
    "df_xco2_new['index']= np.arange(0, len(df_xco2_new))\n",
    "df_xco2_new"
   ]
  },
  {
   "cell_type": "code",
   "execution_count": 8,
   "id": "64c3a664",
   "metadata": {},
   "outputs": [],
   "source": [
    "### Reading the config files"
   ]
  },
  {
   "cell_type": "code",
   "execution_count": 9,
   "id": "b8a19b86",
   "metadata": {},
   "outputs": [],
   "source": [
    "# my_saved_config= map_1.config\n",
    "# j = json.dumps(my_saved_config)\n",
    "\n",
    "# with open('my_config_kepler.json', 'w') as f:\n",
    "#     f.write(j)\n",
    "#     f.close()"
   ]
  },
  {
   "cell_type": "markdown",
   "id": "5a956970",
   "metadata": {},
   "source": [
    "### READ JSON: config files"
   ]
  },
  {
   "cell_type": "code",
   "execution_count": 10,
   "id": "fa23673b",
   "metadata": {},
   "outputs": [],
   "source": [
    "my_config= json.load(open('my_config_kepler.json'))"
   ]
  },
  {
   "cell_type": "code",
   "execution_count": 19,
   "id": "eac884ff",
   "metadata": {},
   "outputs": [
    {
     "name": "stdout",
     "output_type": "stream",
     "text": [
      "User Guide: https://docs.kepler.gl/docs/keplergl-jupyter\n"
     ]
    },
    {
     "data": {
      "application/vnd.jupyter.widget-view+json": {
       "model_id": "30c907e9478f46148d4fd8e8558c2021",
       "version_major": 2,
       "version_minor": 0
      },
      "text/plain": [
       "KeplerGl(data={'OCO2':          Latitude   Longitude                DateTime        xco2  \\\n",
       "0      -84.977638 …"
      ]
     },
     "metadata": {},
     "output_type": "display_data"
    }
   ],
   "source": [
    "map_2= keplr(data={\"OCO2\" : df_xco2})\n",
    "map_2"
   ]
  },
  {
   "cell_type": "code",
   "execution_count": 28,
   "id": "3fefc351",
   "metadata": {},
   "outputs": [],
   "source": [
    "# my_config"
   ]
  },
  {
   "cell_type": "code",
   "execution_count": 29,
   "id": "a115dc34",
   "metadata": {},
   "outputs": [
    {
     "name": "stdout",
     "output_type": "stream",
     "text": [
      "User Guide: https://docs.kepler.gl/docs/keplergl-jupyter\n"
     ]
    },
    {
     "data": {
      "application/vnd.jupyter.widget-view+json": {
       "model_id": "4f7d15df1b6d497bb620c83103f65746",
       "version_major": 2,
       "version_minor": 0
      },
      "text/plain": [
       "KeplerGl(config={'version': 'v1', 'config': {'visState': {'filters': [], 'layers': [{'id': '13w72kc', 'type': …"
      ]
     },
     "metadata": {},
     "output_type": "display_data"
    }
   ],
   "source": [
    "map_2= keplr(data={\"OCO2\" : df_xco2}, config= my_config)\n",
    "map_2"
   ]
  },
  {
   "cell_type": "markdown",
   "id": "3aebd5fd",
   "metadata": {},
   "source": [
    "## California region only: 2014-2017"
   ]
  },
  {
   "cell_type": "code",
   "execution_count": 16,
   "id": "87adfcb5",
   "metadata": {},
   "outputs": [
    {
     "data": {
      "text/html": [
       "<div>\n",
       "<style scoped>\n",
       "    .dataframe tbody tr th:only-of-type {\n",
       "        vertical-align: middle;\n",
       "    }\n",
       "\n",
       "    .dataframe tbody tr th {\n",
       "        vertical-align: top;\n",
       "    }\n",
       "\n",
       "    .dataframe thead th {\n",
       "        text-align: right;\n",
       "    }\n",
       "</style>\n",
       "<table border=\"1\" class=\"dataframe\">\n",
       "  <thead>\n",
       "    <tr style=\"text-align: right;\">\n",
       "      <th></th>\n",
       "      <th>Index</th>\n",
       "      <th>Xco2</th>\n",
       "      <th>Latitude</th>\n",
       "      <th>Longitude</th>\n",
       "      <th>Year</th>\n",
       "      <th>Month</th>\n",
       "      <th>Day</th>\n",
       "      <th>Date</th>\n",
       "    </tr>\n",
       "  </thead>\n",
       "  <tbody>\n",
       "    <tr>\n",
       "      <th>0</th>\n",
       "      <td>1</td>\n",
       "      <td>394.46030</td>\n",
       "      <td>32.150340</td>\n",
       "      <td>-124.40043</td>\n",
       "      <td>2014</td>\n",
       "      <td>9</td>\n",
       "      <td>10</td>\n",
       "      <td>2014/9/10</td>\n",
       "    </tr>\n",
       "    <tr>\n",
       "      <th>1</th>\n",
       "      <td>2</td>\n",
       "      <td>394.54144</td>\n",
       "      <td>32.297110</td>\n",
       "      <td>-124.44687</td>\n",
       "      <td>2014</td>\n",
       "      <td>9</td>\n",
       "      <td>10</td>\n",
       "      <td>2014/9/10</td>\n",
       "    </tr>\n",
       "    <tr>\n",
       "      <th>2</th>\n",
       "      <td>3</td>\n",
       "      <td>395.35477</td>\n",
       "      <td>32.352222</td>\n",
       "      <td>-124.46445</td>\n",
       "      <td>2014</td>\n",
       "      <td>9</td>\n",
       "      <td>10</td>\n",
       "      <td>2014/9/10</td>\n",
       "    </tr>\n",
       "  </tbody>\n",
       "</table>\n",
       "</div>"
      ],
      "text/plain": [
       "   Index       Xco2   Latitude  Longitude  Year  Month  Day       Date\n",
       "0      1  394.46030  32.150340 -124.40043  2014      9   10  2014/9/10\n",
       "1      2  394.54144  32.297110 -124.44687  2014      9   10  2014/9/10\n",
       "2      3  395.35477  32.352222 -124.46445  2014      9   10  2014/9/10"
      ]
     },
     "execution_count": 16,
     "metadata": {},
     "output_type": "execute_result"
    }
   ],
   "source": [
    "df_2014_2017= pd.read_csv('../../../../year_round/jupyter_codes/week_13/cali_oco2_2014_2017.csv')\n",
    "df_2014_2017.head(3)"
   ]
  },
  {
   "cell_type": "code",
   "execution_count": 24,
   "id": "c1b3ee68",
   "metadata": {},
   "outputs": [],
   "source": [
    "# # date time\n",
    "df_2014_2017['Date']= pd.to_datetime(df_2014_2017['Date'])"
   ]
  },
  {
   "cell_type": "code",
   "execution_count": null,
   "id": "06a7b9c2",
   "metadata": {},
   "outputs": [],
   "source": []
  },
  {
   "cell_type": "code",
   "execution_count": 25,
   "id": "9187af13",
   "metadata": {},
   "outputs": [
    {
     "name": "stdout",
     "output_type": "stream",
     "text": [
      "User Guide: https://docs.kepler.gl/docs/keplergl-jupyter\n"
     ]
    },
    {
     "data": {
      "application/vnd.jupyter.widget-view+json": {
       "model_id": "aa2333c9083e43faa69a6177c518a409",
       "version_major": 2,
       "version_minor": 0
      },
      "text/plain": [
       "KeplerGl(config={'version': 'v1', 'config': {'visState': {'filters': [], 'layers': [{'id': '13w72kc', 'type': …"
      ]
     },
     "metadata": {},
     "output_type": "display_data"
    }
   ],
   "source": [
    "map_cali= keplr(data={\"OCO2_a\" : df_2014_2017}, config= my_config)\n",
    "map_cali"
   ]
  },
  {
   "cell_type": "code",
   "execution_count": null,
   "id": "bd64e5bb",
   "metadata": {},
   "outputs": [],
   "source": []
  }
 ],
 "metadata": {
  "kernelspec": {
   "display_name": "Python 3 (ipykernel)",
   "language": "python",
   "name": "python3"
  },
  "language_info": {
   "codemirror_mode": {
    "name": "ipython",
    "version": 3
   },
   "file_extension": ".py",
   "mimetype": "text/x-python",
   "name": "python",
   "nbconvert_exporter": "python",
   "pygments_lexer": "ipython3",
   "version": "3.9.7"
  }
 },
 "nbformat": 4,
 "nbformat_minor": 5
}
