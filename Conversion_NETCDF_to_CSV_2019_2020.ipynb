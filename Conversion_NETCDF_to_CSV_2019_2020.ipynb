{
 "cells": [
  {
   "cell_type": "markdown",
   "id": "c541a020",
   "metadata": {},
   "source": [
    "# Conversion of NETCDF to CSV"
   ]
  },
  {
   "cell_type": "markdown",
   "id": "5550fb5a",
   "metadata": {},
   "source": [
    "# WHY conversion?\n",
    "- Most scientifc datasets comes with netCDF/ HDF format \n",
    "- To store large number of records and datasets that has high number of Variables/Attributes\n",
    "\n",
    "# Libraries reqd to install\n",
    "- netCDF, HDF"
   ]
  },
  {
   "cell_type": "code",
   "execution_count": null,
   "id": "8117adc1",
   "metadata": {},
   "outputs": [],
   "source": []
  },
  {
   "cell_type": "code",
   "execution_count": 1,
   "id": "9a680156",
   "metadata": {},
   "outputs": [],
   "source": [
    "import numpy as np\n",
    "import pandas as pd\n",
    "import xarray as xr\n",
    "import h5py as h5\n",
    "import matplotlib.pyplot as plt\n",
    "import matplotlib\n",
    "import os\n",
    "import netCDF4 as netCDF\n",
    "\n",
    "# netCDF\n",
    "import netCDF4 as nc\n",
    "\n",
    "# basemap\n",
    "from mpl_toolkits.basemap import Basemap\n",
    "from datetime import datetime"
   ]
  },
  {
   "cell_type": "markdown",
   "id": "ab238c96",
   "metadata": {},
   "source": [
    "# Path to NETCDF files"
   ]
  },
  {
   "cell_type": "markdown",
   "id": "38926ed7",
   "metadata": {},
   "source": [
    "# READING the pre-built PATH for files for OCO-2\n",
    "- Here, Path File has been CREATED previously <b>2019_path_to_OCO-2.txt</b> where the files NAMES are collected from SPECIFIC path\n",
    "- seperate code in the same directory to collect the filename"
   ]
  },
  {
   "cell_type": "code",
   "execution_count": 2,
   "id": "f616cec5",
   "metadata": {},
   "outputs": [],
   "source": [
    "# path to netCdf Files\n",
    "# MONTH: 8-12\n",
    "with open('2019_path_to_OCO-2.txt') as f:\n",
    "    path_oco_2= f.readlines()\n"
   ]
  },
  {
   "cell_type": "markdown",
   "id": "405e430d",
   "metadata": {},
   "source": [
    "# Collected PAths of the files"
   ]
  },
  {
   "cell_type": "code",
   "execution_count": 3,
   "id": "d55a4d54",
   "metadata": {},
   "outputs": [
    {
     "data": {
      "text/plain": [
       "'../../Clusters_DATA_oil/OCO-2/2019/01\\\\01\\\\LtCO2\\\\oco2_LtCO2_190101_B10206Ar_200729172616s.nc4'"
      ]
     },
     "execution_count": 3,
     "metadata": {},
     "output_type": "execute_result"
    }
   ],
   "source": [
    "path_oco_2[0].strip('\\n')"
   ]
  },
  {
   "cell_type": "code",
   "execution_count": 4,
   "id": "f2d1b9b0",
   "metadata": {},
   "outputs": [
    {
     "data": {
      "text/plain": [
       "'../../Clusters_DATA_oil/OCO-2/2019/01\\\\05\\\\LtCO2\\\\oco2_LtCO2_190105_B10206Ar_200729173113s.nc4'"
      ]
     },
     "execution_count": 4,
     "metadata": {},
     "output_type": "execute_result"
    }
   ],
   "source": [
    "path_oco_2[4].strip('\\n')"
   ]
  },
  {
   "cell_type": "markdown",
   "id": "6d501046",
   "metadata": {},
   "source": [
    "# TESTING: readint the netCDF file from the DIRECTORY"
   ]
  },
  {
   "cell_type": "code",
   "execution_count": 5,
   "id": "d457322a",
   "metadata": {},
   "outputs": [],
   "source": [
    "df_xco2_LITE= nc.Dataset(path_oco_2[3].strip('\\n'))"
   ]
  },
  {
   "cell_type": "code",
   "execution_count": 6,
   "id": "0cbca16e",
   "metadata": {},
   "outputs": [
    {
     "data": {
      "text/plain": [
       "{'sounding_id': <class 'netCDF4._netCDF4.Variable'>\n",
       " uint64 sounding_id(sounding_id)\n",
       "     units: YYYYMMDDhhmmssmf\n",
       "     long_name: OCO2 Sounding ID\n",
       "     missing_value: 0\n",
       "     comment: from scan time in UTC\n",
       " unlimited dimensions: \n",
       " current shape = (170580,)\n",
       " filling on, default _FillValue of 18446744073709551614 used,\n",
       " 'levels': <class 'netCDF4._netCDF4.Variable'>\n",
       " int16 levels(levels)\n",
       " unlimited dimensions: \n",
       " current shape = (20,)\n",
       " filling on, default _FillValue of -32767 used,\n",
       " 'bands': <class 'netCDF4._netCDF4.Variable'>\n",
       " int16 bands(bands)\n",
       " unlimited dimensions: \n",
       " current shape = (3,)\n",
       " filling on, default _FillValue of -32767 used,\n",
       " 'vertices': <class 'netCDF4._netCDF4.Variable'>\n",
       " int16 vertices(vertices)\n",
       " unlimited dimensions: \n",
       " current shape = (4,)\n",
       " filling on, default _FillValue of -32767 used,\n",
       " 'footprints': <class 'netCDF4._netCDF4.Variable'>\n",
       " int16 footprints(footprints)\n",
       " unlimited dimensions: \n",
       " current shape = (8,)\n",
       " filling on, default _FillValue of -32767 used,\n",
       " 'date': <class 'netCDF4._netCDF4.Variable'>\n",
       " int16 date(sounding_id, epoch_dimension)\n",
       "     units: none\n",
       "     long_name: Observation date and time matching sounding_id\n",
       "     missing_value: -9999\n",
       "     comment: Year, month (1-12), day (1-31), hour (0-23), minute (0-59), second (0-59), millisecond (0,300,or 700). Note this time is chosen to correspond exactly to the first 15 digits of sounding_id\n",
       " unlimited dimensions: \n",
       " current shape = (170580, 7)\n",
       " filling on, default _FillValue of -32767 used,\n",
       " 'latitude': <class 'netCDF4._netCDF4.Variable'>\n",
       " float32 latitude(sounding_id)\n",
       "     units: degrees_north\n",
       "     long_name: latitude\n",
       "     missing_value: -999999.0\n",
       "     comment: center latitude of the measurement\n",
       " unlimited dimensions: \n",
       " current shape = (170580,)\n",
       " filling on, default _FillValue of 9.969209968386869e+36 used,\n",
       " 'longitude': <class 'netCDF4._netCDF4.Variable'>\n",
       " float32 longitude(sounding_id)\n",
       "     units: degrees_east\n",
       "     long_name: longitude\n",
       "     missing_value: -999999.0\n",
       "     comment: center longitude of the measurement\n",
       " unlimited dimensions: \n",
       " current shape = (170580,)\n",
       " filling on, default _FillValue of 9.969209968386869e+36 used,\n",
       " 'time': <class 'netCDF4._netCDF4.Variable'>\n",
       " float64 time(sounding_id)\n",
       "     units: seconds since 1970-01-01 00:00:00\n",
       "     long_name: time\n",
       "     missing_value: -999999.0\n",
       " unlimited dimensions: \n",
       " current shape = (170580,)\n",
       " filling on, default _FillValue of 9.969209968386869e+36 used,\n",
       " 'solar_zenith_angle': <class 'netCDF4._netCDF4.Variable'>\n",
       " float32 solar_zenith_angle(sounding_id)\n",
       "     units: degrees\n",
       "     long_name: sounding_solar_zenith\n",
       "     missing_value: -999999.0\n",
       "     comment: solar zenith angle at the time of the measurement\n",
       " unlimited dimensions: \n",
       " current shape = (170580,)\n",
       " filling on, default _FillValue of 9.969209968386869e+36 used,\n",
       " 'sensor_zenith_angle': <class 'netCDF4._netCDF4.Variable'>\n",
       " float32 sensor_zenith_angle(sounding_id)\n",
       "     units: degrees\n",
       "     long_name: sounding_zenith\n",
       "     missing_value: -999999.0\n",
       "     comment: zenith angle of the satellite at the time of the measurement\n",
       " unlimited dimensions: \n",
       " current shape = (170580,)\n",
       " filling on, default _FillValue of 9.969209968386869e+36 used,\n",
       " 'xco2_quality_flag': <class 'netCDF4._netCDF4.Variable'>\n",
       " int8 xco2_quality_flag(sounding_id)\n",
       "     units: none\n",
       "     long_name: XCO2_Quality_Flag\n",
       "     missing_value: 127\n",
       "     comment: 0=Good, 1=Bad\n",
       " unlimited dimensions: \n",
       " current shape = (170580,)\n",
       " filling on, default _FillValue of -127 ignored,\n",
       " 'xco2_qf_bitflag': <class 'netCDF4._netCDF4.Variable'>\n",
       " int32 xco2_qf_bitflag(sounding_id)\n",
       "     units: none\n",
       "     long_name: xco2_quality_flag bitflag\n",
       "     missing_value: -9999\n",
       "     comment: xco2_quality_flag bit flag\n",
       "     qf_variables: co2_ratio, h2o_ratio, altitude_stddev, max_declocking_wco2, dp_o2a, dpfrac, co2_grad_del, albedo_slope_wco2, albedo_slope_sco2, aod_total, aod_ice, albedo_sco2, albedo_quad_wco2, albedo_quad_sco2, rms_rel_wco2, rms_rel_sco2, deltaT, aod_fine, aod_water, dust_height, aod_strataer, aod_seasalt, fs_rel, dws, dp_abp, snow_flag, dp_sco2, chi2_wco2, max_declocking_sco2, snr_wco2, windspeed, water_height\n",
       " unlimited dimensions: \n",
       " current shape = (170580,)\n",
       " filling on, default _FillValue of -2147483647 used,\n",
       " 'xco2_qf_simple_bitflag': <class 'netCDF4._netCDF4.Variable'>\n",
       " uint8 xco2_qf_simple_bitflag(sounding_id)\n",
       "     units: none\n",
       "     long_name: xco2_quality_flag simple bitflag\n",
       "     missing_value: -1\n",
       "     comment: Bits: 0=Direct Exclusion; 1=Signal-related; 2=Preprocessor-related; 3=Surface reflectivity related; 4=Cloud+Aerosol related; 5=Fit Quality related; 6=Other Retrieval variables; 7=Unused.\n",
       " unlimited dimensions: \n",
       " current shape = (170580,)\n",
       " filling on, default _FillValue of 255 ignored,\n",
       " 'source_files': <class 'netCDF4._netCDF4.Variable'>\n",
       " vlen source_files(source_files)\n",
       "     units: none\n",
       "     long_name: L2 Source File\n",
       "     missing_value: Missing\n",
       "     comment: Source L2 File Names for these soundings\n",
       " vlen data type: <class 'str'>\n",
       " unlimited dimensions: \n",
       " current shape = (17,),\n",
       " 'file_index': <class 'netCDF4._netCDF4.Variable'>\n",
       " uint8 file_index(sounding_id)\n",
       "     units: none\n",
       "     long_name: L2 File Index\n",
       "     missing_value: -1\n",
       "     comment: 1-Based Index of L2 File for each sounding\n",
       " unlimited dimensions: \n",
       " current shape = (170580,)\n",
       " filling on, default _FillValue of 255 ignored,\n",
       " 'vertex_latitude': <class 'netCDF4._netCDF4.Variable'>\n",
       " float32 vertex_latitude(sounding_id, vertices)\n",
       "     units: degrees_north\n",
       "     long_name: vertex_latitude\n",
       "     missing_value: -999999.0\n",
       "     comment: corner latitudes of the measurement FOV\n",
       " unlimited dimensions: \n",
       " current shape = (170580, 4)\n",
       " filling on, default _FillValue of 9.969209968386869e+36 used,\n",
       " 'vertex_longitude': <class 'netCDF4._netCDF4.Variable'>\n",
       " float32 vertex_longitude(sounding_id, vertices)\n",
       "     units: degrees_east\n",
       "     long_name: vertex_longitude\n",
       "     missing_value: -999999.0\n",
       "     comment: corner longitudes of the measurement FOV\n",
       " unlimited dimensions: \n",
       " current shape = (170580, 4)\n",
       " filling on, default _FillValue of 9.969209968386869e+36 used,\n",
       " 'xco2': <class 'netCDF4._netCDF4.Variable'>\n",
       " float32 xco2(sounding_id)\n",
       "     units: ppm\n",
       "     long_name: XCO2\n",
       "     missing_value: -999999.0\n",
       "     comment: Column-averaged dry-air mole fraction of CO2 (includes bias correction)\n",
       " unlimited dimensions: \n",
       " current shape = (170580,)\n",
       " filling on, default _FillValue of 9.969209968386869e+36 used,\n",
       " 'xco2_uncertainty': <class 'netCDF4._netCDF4.Variable'>\n",
       " float32 xco2_uncertainty(sounding_id)\n",
       "     units: ppm\n",
       "     long_name: XCO2_Posterior_Error\n",
       "     missing_value: -999999.0\n",
       " unlimited dimensions: \n",
       " current shape = (170580,)\n",
       " filling on, default _FillValue of 9.969209968386869e+36 used,\n",
       " 'xco2_apriori': <class 'netCDF4._netCDF4.Variable'>\n",
       " float32 xco2_apriori(sounding_id)\n",
       "     units: ppm\n",
       "     long_name: A priori XCO2 Value\n",
       "     missing_value: -999999.0\n",
       " unlimited dimensions: \n",
       " current shape = (170580,)\n",
       " filling on, default _FillValue of 9.969209968386869e+36 used,\n",
       " 'pressure_levels': <class 'netCDF4._netCDF4.Variable'>\n",
       " float32 pressure_levels(sounding_id, levels)\n",
       "     units: hPa\n",
       "     long_name: Pressure_Levels\n",
       "     missing_value: -999999.0\n",
       "     comment: Pressure at each level; Defined on layer boundaries. These are oriented space-to-surface, so the first element defines the TOA, the last element defines the surface.\n",
       " unlimited dimensions: \n",
       " current shape = (170580, 20)\n",
       " filling on, default _FillValue of 9.969209968386869e+36 used,\n",
       " 'co2_profile_apriori': <class 'netCDF4._netCDF4.Variable'>\n",
       " float32 co2_profile_apriori(sounding_id, levels)\n",
       "     units: ppm\n",
       "     long_name: CO2 Apriori Profile\n",
       "     missing_value: -999999.0\n",
       "     comment: Prior CO2 Prior assumed by L2 code; Defined on layer boundaries. These are oriented space-to-surface, so the first element defines the TOA, the last element defines the surface.\n",
       " unlimited dimensions: \n",
       " current shape = (170580, 20)\n",
       " filling on, default _FillValue of 9.969209968386869e+36 used,\n",
       " 'xco2_averaging_kernel': <class 'netCDF4._netCDF4.Variable'>\n",
       " float32 xco2_averaging_kernel(sounding_id, levels)\n",
       "     units: none\n",
       "     long_name: XCO2 Column Averaging Kernel\n",
       "     missing_value: -999999.0\n",
       "     comment: Normalized XCO2 averaging kernel; Defined on layer boundaries. These are oriented space-to-surface, so the first element defines the TOA, the last element defines the surface.\n",
       " unlimited dimensions: \n",
       " current shape = (170580, 20)\n",
       " filling on, default _FillValue of 9.969209968386869e+36 used,\n",
       " 'pressure_weight': <class 'netCDF4._netCDF4.Variable'>\n",
       " float32 pressure_weight(sounding_id, levels)\n",
       "     units: none\n",
       "     long_name: Pressure Weighting Function\n",
       "     missing_value: -999999.0\n",
       "     comment: Pressure weighting function for each level; Defined on layer boundaries. These are oriented space-to-surface, so the first element defines the TOA, the last element defines the surface.\n",
       " unlimited dimensions: \n",
       " current shape = (170580, 20)\n",
       " filling on, default _FillValue of 9.969209968386869e+36 used}"
      ]
     },
     "execution_count": 6,
     "metadata": {},
     "output_type": "execute_result"
    }
   ],
   "source": [
    "df_xco2_LITE.variables"
   ]
  },
  {
   "cell_type": "markdown",
   "id": "6412377b",
   "metadata": {},
   "source": [
    "# EXAMPLE\n",
    "- READING netCDF file \n",
    "- LISTING the variables inside the file"
   ]
  },
  {
   "cell_type": "markdown",
   "id": "e4a27bf7",
   "metadata": {},
   "source": [
    "# OPEN files of netCDF format"
   ]
  },
  {
   "cell_type": "code",
   "execution_count": 7,
   "id": "71c5c0f8",
   "metadata": {},
   "outputs": [],
   "source": [
    "df_xco2= netCDF.Dataset('../../Clusters_DATA_oil/OCO-2/2019/01/01/LtCO2/oco2_LtCO2_190101_B10206Ar_200729172616s.nc4')"
   ]
  },
  {
   "cell_type": "code",
   "execution_count": 8,
   "id": "0eda8017",
   "metadata": {},
   "outputs": [
    {
     "data": {
      "text/plain": [
       "'OCO-2'"
      ]
     },
     "execution_count": 8,
     "metadata": {},
     "output_type": "execute_result"
    }
   ],
   "source": [
    "df_xco2.Sensor"
   ]
  },
  {
   "cell_type": "markdown",
   "id": "5539e984",
   "metadata": {},
   "source": [
    "# Xco2"
   ]
  },
  {
   "cell_type": "code",
   "execution_count": 10,
   "id": "c44388bc",
   "metadata": {},
   "outputs": [
    {
     "data": {
      "text/plain": [
       "(190424,)"
      ]
     },
     "execution_count": 10,
     "metadata": {},
     "output_type": "execute_result"
    }
   ],
   "source": [
    "df_xco2.variables['xco2'].shape"
   ]
  },
  {
   "cell_type": "markdown",
   "id": "0f55b5eb",
   "metadata": {},
   "source": [
    "# Xco2 Quality_flag"
   ]
  },
  {
   "cell_type": "code",
   "execution_count": 11,
   "id": "4e879aaa",
   "metadata": {},
   "outputs": [
    {
     "data": {
      "text/plain": [
       "masked_array(data=[1, 1, 1, ..., 1, 1, 1],\n",
       "             mask=False,\n",
       "       fill_value=999999,\n",
       "            dtype=int8)"
      ]
     },
     "execution_count": 11,
     "metadata": {},
     "output_type": "execute_result"
    }
   ],
   "source": [
    "df_xco2.variables['xco2_quality_flag'][:]"
   ]
  },
  {
   "cell_type": "markdown",
   "id": "75523442",
   "metadata": {},
   "source": [
    "# Sounding_ID"
   ]
  },
  {
   "cell_type": "code",
   "execution_count": 12,
   "id": "40b58ba4",
   "metadata": {},
   "outputs": [
    {
     "data": {
      "text/plain": [
       "masked_array(data=2019010100235138,\n",
       "             mask=False,\n",
       "       fill_value=999999,\n",
       "            dtype=uint64)"
      ]
     },
     "execution_count": 12,
     "metadata": {},
     "output_type": "execute_result"
    }
   ],
   "source": [
    "df_xco2.variables['sounding_id'][0]"
   ]
  },
  {
   "cell_type": "markdown",
   "id": "746ba20a",
   "metadata": {},
   "source": [
    "# Date"
   ]
  },
  {
   "cell_type": "code",
   "execution_count": 13,
   "id": "b84ac6f1",
   "metadata": {},
   "outputs": [
    {
     "data": {
      "text/plain": [
       "(190424, 7)"
      ]
     },
     "execution_count": 13,
     "metadata": {},
     "output_type": "execute_result"
    }
   ],
   "source": [
    "df_xco2.variables['date'].shape"
   ]
  },
  {
   "cell_type": "code",
   "execution_count": 14,
   "id": "25c6661a",
   "metadata": {},
   "outputs": [
    {
     "data": {
      "text/plain": [
       "masked_array(data=[2019,    1,    1,    0,   25,   42,  300],\n",
       "             mask=False,\n",
       "       fill_value=999999,\n",
       "            dtype=int16)"
      ]
     },
     "execution_count": 14,
     "metadata": {},
     "output_type": "execute_result"
    }
   ],
   "source": [
    "df_xco2.variables['date'][9]"
   ]
  },
  {
   "cell_type": "code",
   "execution_count": 15,
   "id": "98a1b012",
   "metadata": {},
   "outputs": [],
   "source": [
    "df_date= pd.DataFrame()"
   ]
  },
  {
   "cell_type": "markdown",
   "id": "5370bd7d",
   "metadata": {},
   "source": [
    "# TIME"
   ]
  },
  {
   "cell_type": "code",
   "execution_count": 16,
   "id": "fcac51ae",
   "metadata": {},
   "outputs": [
    {
     "data": {
      "text/plain": [
       "masked_array(data=[1.54630223e+09, 1.54630228e+09, 1.54630234e+09,\n",
       "                   1.54630234e+09],\n",
       "             mask=False,\n",
       "       fill_value=1e+20)"
      ]
     },
     "execution_count": 16,
     "metadata": {},
     "output_type": "execute_result"
    }
   ],
   "source": [
    "df_xco2.variables['time'][0:4]"
   ]
  },
  {
   "cell_type": "markdown",
   "id": "92741e45",
   "metadata": {},
   "source": [
    "# LATITUDE"
   ]
  },
  {
   "cell_type": "code",
   "execution_count": null,
   "id": "c89588eb",
   "metadata": {},
   "outputs": [],
   "source": []
  },
  {
   "cell_type": "markdown",
   "id": "315d3ec8",
   "metadata": {},
   "source": [
    "# xco2_uncertanity"
   ]
  },
  {
   "cell_type": "code",
   "execution_count": 17,
   "id": "d4b98b0a",
   "metadata": {},
   "outputs": [
    {
     "data": {
      "text/plain": [
       "528.3332467079163"
      ]
     },
     "execution_count": 17,
     "metadata": {},
     "output_type": "execute_result"
    }
   ],
   "source": [
    "df_xco2.variables['xco2_uncertainty'][0]*1000"
   ]
  },
  {
   "cell_type": "code",
   "execution_count": 18,
   "id": "9053c28e",
   "metadata": {},
   "outputs": [
    {
     "data": {
      "text/plain": [
       "masked_array(data=[410.8217 , 408.63104, 407.17587, ..., 408.55084,\n",
       "                   406.5148 , 407.6041 ],\n",
       "             mask=False,\n",
       "       fill_value=1e+20,\n",
       "            dtype=float32)"
      ]
     },
     "execution_count": 18,
     "metadata": {},
     "output_type": "execute_result"
    }
   ],
   "source": [
    "df_xco2.variables['xco2'][:]"
   ]
  },
  {
   "cell_type": "markdown",
   "id": "3b1061ba",
   "metadata": {},
   "source": [
    "# Footprints"
   ]
  },
  {
   "cell_type": "code",
   "execution_count": 19,
   "id": "2774b191",
   "metadata": {},
   "outputs": [
    {
     "data": {
      "text/plain": [
       "masked_array(data=[1, 2, 3],\n",
       "             mask=False,\n",
       "       fill_value=999999,\n",
       "            dtype=int16)"
      ]
     },
     "execution_count": 19,
     "metadata": {},
     "output_type": "execute_result"
    }
   ],
   "source": [
    "df_xco2.variables['bands'][:]"
   ]
  },
  {
   "cell_type": "markdown",
   "id": "d106dfdf",
   "metadata": {},
   "source": [
    "***************************************************************\n",
    "***************************************************************\n",
    "***************************************************************\n",
    "***************************************************************"
   ]
  },
  {
   "cell_type": "markdown",
   "id": "bead5d35",
   "metadata": {},
   "source": [
    "# Function to CONVERT 'sounding_id' to DateTime format"
   ]
  },
  {
   "cell_type": "markdown",
   "id": "8f1aa9ba",
   "metadata": {},
   "source": [
    "# Date TIme format Changing"
   ]
  },
  {
   "cell_type": "code",
   "execution_count": 20,
   "id": "4133c955",
   "metadata": {},
   "outputs": [],
   "source": [
    "# DATE time function\n",
    "def conv_date(d):\n",
    "    return datetime.strptime(str(d), '%Y%m%d%H%M%S%f')"
   ]
  },
  {
   "cell_type": "markdown",
   "id": "a9b752b4",
   "metadata": {},
   "source": [
    "# CONVERSION of NETCDF\n",
    "- SAving the file as CSV in the same directory"
   ]
  },
  {
   "cell_type": "code",
   "execution_count": 21,
   "id": "5bfa8617",
   "metadata": {},
   "outputs": [],
   "source": [
    "# FUNCTION to convert data\n",
    "\n",
    "def convHdf(data, n=0):\n",
    "\n",
    "    #path= '../hdf_format/Los_angeles_GROUPED/'\n",
    "    #data_hf= h5.File(path+ data,'r')\n",
    " \n",
    "\n",
    "    # get the HDF data and convert to CSV\n",
    "    df_xco2= pd.DataFrame()\n",
    "\n",
    "    df_xco2['Xco2']= data.variables['xco2'][:]\n",
    "    df_xco2['Latitude']= data.variables['latitude'][:]\n",
    "    df_xco2['Longitude']= data.variables['longitude'][:] \n",
    "    df_xco2['quality_flag']= data.variables['xco2_quality_flag'][:] \n",
    "    \n",
    "    df_xco2['DateTime']= data.variables['sounding_id'][:]\n",
    "    #Convert soundingID to datetime format\n",
    "    df_xco2['DateTime']= df_xco2['DateTime'].apply(conv_date)\n",
    "    df_xco2['DateTime']= pd.to_datetime(df_xco2['DateTime'])\n",
    "    \n",
    "    # YEAR and month column\n",
    "    df_xco2['Year']= df_xco2['DateTime'].dt.year\n",
    "    df_xco2['Month']= df_xco2['DateTime'].dt.month\n",
    "    df_xco2['Day']= df_xco2['DateTime'].dt.day\n",
    "    \n",
    "    date= str(data.variables['sounding_id'][0])                                   \n",
    "    # create a CSV\n",
    "    df_xco2.to_csv(data.Sensor+'_xco2_'+ date+'_.csv', index= False)"
   ]
  },
  {
   "cell_type": "markdown",
   "id": "2ae0154f",
   "metadata": {},
   "source": [
    "# READING files from the PATH list"
   ]
  },
  {
   "cell_type": "code",
   "execution_count": 22,
   "id": "33710a36",
   "metadata": {},
   "outputs": [
    {
     "data": {
      "text/plain": [
       "355"
      ]
     },
     "execution_count": 22,
     "metadata": {},
     "output_type": "execute_result"
    }
   ],
   "source": [
    "len(path_oco_2)"
   ]
  },
  {
   "cell_type": "code",
   "execution_count": 24,
   "id": "4b99e608",
   "metadata": {},
   "outputs": [
    {
     "data": {
      "text/plain": [
       "['../../Clusters_DATA_oil/OCO-2/2019/01\\\\01\\\\LtCO2\\\\oco2_LtCO2_190101_B10206Ar_200729172616s.nc4\\n',\n",
       " '../../Clusters_DATA_oil/OCO-2/2019/01\\\\02\\\\LtCO2\\\\oco2_LtCO2_190102_B10206Ar_200729172942s.nc4\\n',\n",
       " '../../Clusters_DATA_oil/OCO-2/2019/01\\\\03\\\\LtCO2\\\\oco2_LtCO2_190103_B10206Ar_200729173012s.nc4\\n',\n",
       " '../../Clusters_DATA_oil/OCO-2/2019/01\\\\04\\\\LtCO2\\\\oco2_LtCO2_190104_B10206Ar_200729173043s.nc4\\n',\n",
       " '../../Clusters_DATA_oil/OCO-2/2019/01\\\\05\\\\LtCO2\\\\oco2_LtCO2_190105_B10206Ar_200729173113s.nc4\\n',\n",
       " '../../Clusters_DATA_oil/OCO-2/2019/01\\\\06\\\\LtCO2\\\\oco2_LtCO2_190106_B10206Ar_200729173145s.nc4\\n',\n",
       " '../../Clusters_DATA_oil/OCO-2/2019/01\\\\07\\\\LtCO2\\\\oco2_LtCO2_190107_B10206Ar_200729173429s.nc4\\n',\n",
       " '../../Clusters_DATA_oil/OCO-2/2019/01\\\\08\\\\LtCO2\\\\oco2_LtCO2_190108_B10206Ar_200729173516s.nc4\\n',\n",
       " '../../Clusters_DATA_oil/OCO-2/2019/01\\\\09\\\\LtCO2\\\\oco2_LtCO2_190109_B10206Ar_200729173521s.nc4\\n',\n",
       " '../../Clusters_DATA_oil/OCO-2/2019/01\\\\10\\\\LtCO2\\\\oco2_LtCO2_190110_B10206Ar_200729173607s.nc4\\n',\n",
       " '../../Clusters_DATA_oil/OCO-2/2019/01\\\\11\\\\LtCO2\\\\oco2_LtCO2_190111_B10206Ar_200729173643s.nc4\\n',\n",
       " '../../Clusters_DATA_oil/OCO-2/2019/01\\\\12\\\\LtCO2\\\\oco2_LtCO2_190112_B10206Ar_200729173837s.nc4\\n',\n",
       " '../../Clusters_DATA_oil/OCO-2/2019/01\\\\13\\\\LtCO2\\\\oco2_LtCO2_190113_B10206Ar_200729174036s.nc4\\n',\n",
       " '../../Clusters_DATA_oil/OCO-2/2019/01\\\\14\\\\LtCO2\\\\oco2_LtCO2_190114_B10206Ar_200729174115s.nc4\\n',\n",
       " '../../Clusters_DATA_oil/OCO-2/2019/01\\\\15\\\\LtCO2\\\\oco2_LtCO2_190115_B10206Ar_200729174120s.nc4\\n',\n",
       " '../../Clusters_DATA_oil/OCO-2/2019/01\\\\16\\\\LtCO2\\\\oco2_LtCO2_190116_B10206Ar_200729174251s.nc4\\n',\n",
       " '../../Clusters_DATA_oil/OCO-2/2019/01\\\\17\\\\LtCO2\\\\oco2_LtCO2_190117_B10206Ar_200729174349s.nc4\\n',\n",
       " '../../Clusters_DATA_oil/OCO-2/2019/01\\\\18\\\\LtCO2\\\\oco2_LtCO2_190118_B10206Ar_200729174501s.nc4\\n',\n",
       " '../../Clusters_DATA_oil/OCO-2/2019/01\\\\19\\\\LtCO2\\\\oco2_LtCO2_190119_B10206Ar_200729174653s.nc4\\n',\n",
       " '../../Clusters_DATA_oil/OCO-2/2019/01\\\\20\\\\LtCO2\\\\oco2_LtCO2_190120_B10206Ar_200729174738s.nc4\\n',\n",
       " '../../Clusters_DATA_oil/OCO-2/2019/01\\\\21\\\\LtCO2\\\\oco2_LtCO2_190121_B10206Ar_200729174819s.nc4\\n',\n",
       " '../../Clusters_DATA_oil/OCO-2/2019/01\\\\22\\\\LtCO2\\\\oco2_LtCO2_190122_B10206Ar_200729174858s.nc4\\n',\n",
       " '../../Clusters_DATA_oil/OCO-2/2019/01\\\\23\\\\LtCO2\\\\oco2_LtCO2_190123_B10206Ar_200729174911s.nc4\\n',\n",
       " '../../Clusters_DATA_oil/OCO-2/2019/01\\\\24\\\\LtCO2\\\\oco2_LtCO2_190124_B10206Ar_200729175236s.nc4\\n',\n",
       " '../../Clusters_DATA_oil/OCO-2/2019/01\\\\25\\\\LtCO2\\\\oco2_LtCO2_190125_B10206Ar_200729175313s.nc4\\n',\n",
       " '../../Clusters_DATA_oil/OCO-2/2019/01\\\\26\\\\LtCO2\\\\oco2_LtCO2_190126_B10206Ar_200729175317s.nc4\\n',\n",
       " '../../Clusters_DATA_oil/OCO-2/2019/01\\\\27\\\\LtCO2\\\\oco2_LtCO2_190127_B10206Ar_200729175410s.nc4\\n',\n",
       " '../../Clusters_DATA_oil/OCO-2/2019/01\\\\28\\\\LtCO2\\\\oco2_LtCO2_190128_B10206Ar_200729175429s.nc4\\n',\n",
       " '../../Clusters_DATA_oil/OCO-2/2019/01\\\\29\\\\LtCO2\\\\oco2_LtCO2_190129_B10206Ar_200729175737s.nc4\\n',\n",
       " '../../Clusters_DATA_oil/OCO-2/2019/01\\\\30\\\\LtCO2\\\\oco2_LtCO2_190130_B10206Ar_200729175801s.nc4\\n',\n",
       " '../../Clusters_DATA_oil/OCO-2/2019/01\\\\31\\\\LtCO2\\\\oco2_LtCO2_190131_B10206Ar_200729175826s.nc4\\n',\n",
       " '../../Clusters_DATA_oil/OCO-2/2019/02\\\\01\\\\LtCO2\\\\oco2_LtCO2_190201_B10206Ar_200729175909s.nc4\\n',\n",
       " '../../Clusters_DATA_oil/OCO-2/2019/02\\\\02\\\\LtCO2\\\\oco2_LtCO2_190202_B10206Ar_200729175914s.nc4\\n',\n",
       " '../../Clusters_DATA_oil/OCO-2/2019/02\\\\03\\\\LtCO2\\\\oco2_LtCO2_190203_B10206Ar_200729180300s.nc4\\n',\n",
       " '../../Clusters_DATA_oil/OCO-2/2019/02\\\\04\\\\LtCO2\\\\oco2_LtCO2_190204_B10206Ar_200729180303s.nc4\\n',\n",
       " '../../Clusters_DATA_oil/OCO-2/2019/02\\\\05\\\\LtCO2\\\\oco2_LtCO2_190205_B10206Ar_200729180317s.nc4\\n',\n",
       " '../../Clusters_DATA_oil/OCO-2/2019/02\\\\06\\\\LtCO2\\\\oco2_LtCO2_190206_B10206Ar_200729180419s.nc4\\n',\n",
       " '../../Clusters_DATA_oil/OCO-2/2019/02\\\\07\\\\LtCO2\\\\oco2_LtCO2_190207_B10206Ar_200729180429s.nc4\\n',\n",
       " '../../Clusters_DATA_oil/OCO-2/2019/02\\\\08\\\\LtCO2\\\\oco2_LtCO2_190208_B10206Ar_200729180829s.nc4\\n',\n",
       " '../../Clusters_DATA_oil/OCO-2/2019/02\\\\09\\\\LtCO2\\\\oco2_LtCO2_190209_B10206Ar_200729180902s.nc4\\n',\n",
       " '../../Clusters_DATA_oil/OCO-2/2019/02\\\\10\\\\LtCO2\\\\oco2_LtCO2_190210_B10206Ar_200729180912s.nc4\\n',\n",
       " '../../Clusters_DATA_oil/OCO-2/2019/02\\\\11\\\\LtCO2\\\\oco2_LtCO2_190211_B10206Ar_200729180915s.nc4\\n',\n",
       " '../../Clusters_DATA_oil/OCO-2/2019/02\\\\12\\\\LtCO2\\\\oco2_LtCO2_190212_B10206Ar_200729180928s.nc4\\n',\n",
       " '../../Clusters_DATA_oil/OCO-2/2019/02\\\\13\\\\LtCO2\\\\oco2_LtCO2_190213_B10206Ar_200729181346s.nc4\\n',\n",
       " '../../Clusters_DATA_oil/OCO-2/2019/02\\\\14\\\\LtCO2\\\\oco2_LtCO2_190214_B10206Ar_200729181348s.nc4\\n',\n",
       " '../../Clusters_DATA_oil/OCO-2/2019/02\\\\15\\\\LtCO2\\\\oco2_LtCO2_190215_B10206Ar_200729181410s.nc4\\n',\n",
       " '../../Clusters_DATA_oil/OCO-2/2019/02\\\\16\\\\LtCO2\\\\oco2_LtCO2_190216_B10206Ar_200729181512s.nc4\\n',\n",
       " '../../Clusters_DATA_oil/OCO-2/2019/02\\\\17\\\\LtCO2\\\\oco2_LtCO2_190217_B10206Ar_200729181525s.nc4\\n',\n",
       " '../../Clusters_DATA_oil/OCO-2/2019/02\\\\18\\\\LtCO2\\\\oco2_LtCO2_190218_B10206Ar_200729181919s.nc4\\n',\n",
       " '../../Clusters_DATA_oil/OCO-2/2019/02\\\\19\\\\LtCO2\\\\oco2_LtCO2_190219_B10206Ar_200729181929s.nc4\\n',\n",
       " '../../Clusters_DATA_oil/OCO-2/2019/02\\\\20\\\\LtCO2\\\\oco2_LtCO2_190220_B10206Ar_200729181932s.nc4\\n',\n",
       " '../../Clusters_DATA_oil/OCO-2/2019/02\\\\21\\\\LtCO2\\\\oco2_LtCO2_190221_B10206Ar_200729182114s.nc4\\n',\n",
       " '../../Clusters_DATA_oil/OCO-2/2019/02\\\\22\\\\LtCO2\\\\oco2_LtCO2_190222_B10206Ar_200729182153s.nc4\\n',\n",
       " '../../Clusters_DATA_oil/OCO-2/2019/02\\\\23\\\\LtCO2\\\\oco2_LtCO2_190223_B10206Ar_200729182412s.nc4\\n',\n",
       " '../../Clusters_DATA_oil/OCO-2/2019/02\\\\24\\\\LtCO2\\\\oco2_LtCO2_190224_B10206Ar_200729182417s.nc4\\n',\n",
       " '../../Clusters_DATA_oil/OCO-2/2019/02\\\\25\\\\LtCO2\\\\oco2_LtCO2_190225_B10206Ar_200729182544s.nc4\\n',\n",
       " '../../Clusters_DATA_oil/OCO-2/2019/02\\\\26\\\\LtCO2\\\\oco2_LtCO2_190226_B10206Ar_200729182654s.nc4\\n',\n",
       " '../../Clusters_DATA_oil/OCO-2/2019/02\\\\27\\\\LtCO2\\\\oco2_LtCO2_190227_B10206Ar_200729182712s.nc4\\n',\n",
       " '../../Clusters_DATA_oil/OCO-2/2019/02\\\\28\\\\LtCO2\\\\oco2_LtCO2_190228_B10206Ar_200729182936s.nc4\\n',\n",
       " '../../Clusters_DATA_oil/OCO-2/2019/03\\\\01\\\\LtCO2\\\\oco2_LtCO2_190301_B10206Ar_200729183014s.nc4\\n',\n",
       " '../../Clusters_DATA_oil/OCO-2/2019/03\\\\02\\\\LtCO2\\\\oco2_LtCO2_190302_B10206Ar_200729183023s.nc4\\n',\n",
       " '../../Clusters_DATA_oil/OCO-2/2019/03\\\\03\\\\LtCO2\\\\oco2_LtCO2_190303_B10206Ar_200729183142s.nc4\\n',\n",
       " '../../Clusters_DATA_oil/OCO-2/2019/03\\\\04\\\\LtCO2\\\\oco2_LtCO2_190304_B10206Ar_200729183242s.nc4\\n',\n",
       " '../../Clusters_DATA_oil/OCO-2/2019/03\\\\11\\\\LtCO2\\\\oco2_LtCO2_190311_B10206Ar_200729183457s.nc4\\n',\n",
       " '../../Clusters_DATA_oil/OCO-2/2019/03\\\\12\\\\LtCO2\\\\oco2_LtCO2_190312_B10206Ar_200729183503s.nc4\\n',\n",
       " '../../Clusters_DATA_oil/OCO-2/2019/03\\\\13\\\\LtCO2\\\\oco2_LtCO2_190313_B10206Ar_200729183532s.nc4\\n',\n",
       " '../../Clusters_DATA_oil/OCO-2/2019/03\\\\14\\\\LtCO2\\\\oco2_LtCO2_190314_B10206Ar_200729183549s.nc4\\n',\n",
       " '../../Clusters_DATA_oil/OCO-2/2019/03\\\\15\\\\LtCO2\\\\oco2_LtCO2_190315_B10206Ar_200729183756s.nc4\\n',\n",
       " '../../Clusters_DATA_oil/OCO-2/2019/03\\\\16\\\\LtCO2\\\\oco2_LtCO2_190316_B10206Ar_200729183810s.nc4\\n',\n",
       " '../../Clusters_DATA_oil/OCO-2/2019/03\\\\17\\\\LtCO2\\\\oco2_LtCO2_190317_B10206Ar_200729184038s.nc4\\n',\n",
       " '../../Clusters_DATA_oil/OCO-2/2019/03\\\\18\\\\LtCO2\\\\oco2_LtCO2_190318_B10206Ar_200729184044s.nc4\\n',\n",
       " '../../Clusters_DATA_oil/OCO-2/2019/03\\\\19\\\\LtCO2\\\\oco2_LtCO2_190319_B10206Ar_200729184103s.nc4\\n',\n",
       " '../../Clusters_DATA_oil/OCO-2/2019/03\\\\20\\\\LtCO2\\\\oco2_LtCO2_190320_B10206Ar_200729184153s.nc4\\n',\n",
       " '../../Clusters_DATA_oil/OCO-2/2019/03\\\\21\\\\LtCO2\\\\oco2_LtCO2_190321_B10206Ar_200729184213s.nc4\\n',\n",
       " '../../Clusters_DATA_oil/OCO-2/2019/03\\\\22\\\\LtCO2\\\\oco2_LtCO2_190322_B10206Ar_200729184342s.nc4\\n',\n",
       " '../../Clusters_DATA_oil/OCO-2/2019/03\\\\23\\\\LtCO2\\\\oco2_LtCO2_190323_B10206Ar_200729184430s.nc4\\n',\n",
       " '../../Clusters_DATA_oil/OCO-2/2019/03\\\\24\\\\LtCO2\\\\oco2_LtCO2_190324_B10206Ar_200729184605s.nc4\\n',\n",
       " '../../Clusters_DATA_oil/OCO-2/2019/03\\\\25\\\\LtCO2\\\\oco2_LtCO2_190325_B10206Ar_200729184700s.nc4\\n',\n",
       " '../../Clusters_DATA_oil/OCO-2/2019/03\\\\26\\\\LtCO2\\\\oco2_LtCO2_190326_B10206Ar_200729184742s.nc4\\n',\n",
       " '../../Clusters_DATA_oil/OCO-2/2019/03\\\\27\\\\LtCO2\\\\oco2_LtCO2_190327_B10206Ar_200729184838s.nc4\\n',\n",
       " '../../Clusters_DATA_oil/OCO-2/2019/03\\\\28\\\\LtCO2\\\\oco2_LtCO2_190328_B10206Ar_200729184948s.nc4\\n',\n",
       " '../../Clusters_DATA_oil/OCO-2/2019/03\\\\29\\\\LtCO2\\\\oco2_LtCO2_190329_B10206Ar_200729185044s.nc4\\n',\n",
       " '../../Clusters_DATA_oil/OCO-2/2019/03\\\\30\\\\LtCO2\\\\oco2_LtCO2_190330_B10206Ar_200729185135s.nc4\\n',\n",
       " '../../Clusters_DATA_oil/OCO-2/2019/03\\\\31\\\\LtCO2\\\\oco2_LtCO2_190331_B10206Ar_200729185205s.nc4\\n',\n",
       " '../../Clusters_DATA_oil/OCO-2/2019/04\\\\01\\\\LtCO2\\\\oco2_LtCO2_190401_B10206Ar_200729185401s.nc4\\n',\n",
       " '../../Clusters_DATA_oil/OCO-2/2019/04\\\\02\\\\LtCO2\\\\oco2_LtCO2_190402_B10206Ar_200729185444s.nc4\\n',\n",
       " '../../Clusters_DATA_oil/OCO-2/2019/04\\\\03\\\\LtCO2\\\\oco2_LtCO2_190403_B10206Ar_200729185543s.nc4\\n',\n",
       " '../../Clusters_DATA_oil/OCO-2/2019/04\\\\04\\\\LtCO2\\\\oco2_LtCO2_190404_B10206Ar_200729185601s.nc4\\n',\n",
       " '../../Clusters_DATA_oil/OCO-2/2019/04\\\\05\\\\LtCO2\\\\oco2_LtCO2_190405_B10206Ar_200729185752s.nc4\\n',\n",
       " '../../Clusters_DATA_oil/OCO-2/2019/04\\\\06\\\\LtCO2\\\\oco2_LtCO2_190406_B10206Ar_200729185835s.nc4\\n',\n",
       " '../../Clusters_DATA_oil/OCO-2/2019/04\\\\07\\\\LtCO2\\\\oco2_LtCO2_190407_B10206Ar_200729185936s.nc4\\n',\n",
       " '../../Clusters_DATA_oil/OCO-2/2019/04\\\\08\\\\LtCO2\\\\oco2_LtCO2_190408_B10206Ar_200729190009s.nc4\\n',\n",
       " '../../Clusters_DATA_oil/OCO-2/2019/04\\\\09\\\\LtCO2\\\\oco2_LtCO2_190409_B10206Ar_200729190159s.nc4\\n',\n",
       " '../../Clusters_DATA_oil/OCO-2/2019/04\\\\10\\\\LtCO2\\\\oco2_LtCO2_190410_B10206Ar_200729190215s.nc4\\n',\n",
       " '../../Clusters_DATA_oil/OCO-2/2019/04\\\\11\\\\LtCO2\\\\oco2_LtCO2_190411_B10206Ar_200729190304s.nc4\\n',\n",
       " '../../Clusters_DATA_oil/OCO-2/2019/04\\\\12\\\\LtCO2\\\\oco2_LtCO2_190412_B10206Ar_200729190535s.nc4\\n',\n",
       " '../../Clusters_DATA_oil/OCO-2/2019/04\\\\13\\\\LtCO2\\\\oco2_LtCO2_190413_B10206Ar_200729190541s.nc4\\n',\n",
       " '../../Clusters_DATA_oil/OCO-2/2019/04\\\\14\\\\LtCO2\\\\oco2_LtCO2_190414_B10206Ar_200729190650s.nc4\\n',\n",
       " '../../Clusters_DATA_oil/OCO-2/2019/04\\\\15\\\\LtCO2\\\\oco2_LtCO2_190415_B10206Ar_200729190806s.nc4\\n',\n",
       " '../../Clusters_DATA_oil/OCO-2/2019/04\\\\16\\\\LtCO2\\\\oco2_LtCO2_190416_B10206Ar_200729190830s.nc4\\n',\n",
       " '../../Clusters_DATA_oil/OCO-2/2019/04\\\\17\\\\LtCO2\\\\oco2_LtCO2_190417_B10206Ar_200729190932s.nc4\\n',\n",
       " '../../Clusters_DATA_oil/OCO-2/2019/04\\\\18\\\\LtCO2\\\\oco2_LtCO2_190418_B10206Ar_200729191023s.nc4\\n',\n",
       " '../../Clusters_DATA_oil/OCO-2/2019/04\\\\19\\\\LtCO2\\\\oco2_LtCO2_190419_B10206Ar_200729191155s.nc4\\n',\n",
       " '../../Clusters_DATA_oil/OCO-2/2019/04\\\\20\\\\LtCO2\\\\oco2_LtCO2_190420_B10206Ar_200729191225s.nc4\\n',\n",
       " '../../Clusters_DATA_oil/OCO-2/2019/04\\\\21\\\\LtCO2\\\\oco2_LtCO2_190421_B10206Ar_200729191328s.nc4\\n',\n",
       " '../../Clusters_DATA_oil/OCO-2/2019/04\\\\22\\\\LtCO2\\\\oco2_LtCO2_190422_B10206Ar_200729191339s.nc4\\n',\n",
       " '../../Clusters_DATA_oil/OCO-2/2019/04\\\\23\\\\LtCO2\\\\oco2_LtCO2_190423_B10206Ar_200729191459s.nc4\\n',\n",
       " '../../Clusters_DATA_oil/OCO-2/2019/04\\\\24\\\\LtCO2\\\\oco2_LtCO2_190424_B10206Ar_200729191550s.nc4\\n',\n",
       " '../../Clusters_DATA_oil/OCO-2/2019/04\\\\25\\\\LtCO2\\\\oco2_LtCO2_190425_B10206Ar_200729191623s.nc4\\n',\n",
       " '../../Clusters_DATA_oil/OCO-2/2019/04\\\\26\\\\LtCO2\\\\oco2_LtCO2_190426_B10206Ar_200729191817s.nc4\\n',\n",
       " '../../Clusters_DATA_oil/OCO-2/2019/04\\\\27\\\\LtCO2\\\\oco2_LtCO2_190427_B10206Ar_200729191852s.nc4\\n',\n",
       " '../../Clusters_DATA_oil/OCO-2/2019/04\\\\28\\\\LtCO2\\\\oco2_LtCO2_190428_B10206Ar_200729191949s.nc4\\n',\n",
       " '../../Clusters_DATA_oil/OCO-2/2019/04\\\\29\\\\LtCO2\\\\oco2_LtCO2_190429_B10206Ar_200729192006s.nc4\\n',\n",
       " '../../Clusters_DATA_oil/OCO-2/2019/04\\\\30\\\\LtCO2\\\\oco2_LtCO2_190430_B10206Ar_200729192015s.nc4\\n',\n",
       " '../../Clusters_DATA_oil/OCO-2/2019/05\\\\01\\\\LtCO2\\\\oco2_LtCO2_190501_B10206Ar_200729192310s.nc4\\n',\n",
       " '../../Clusters_DATA_oil/OCO-2/2019/05\\\\02\\\\LtCO2\\\\oco2_LtCO2_190502_B10206Ar_200729192347s.nc4\\n',\n",
       " '../../Clusters_DATA_oil/OCO-2/2019/05\\\\03\\\\LtCO2\\\\oco2_LtCO2_190503_B10206Ar_200729192409s.nc4\\n',\n",
       " '../../Clusters_DATA_oil/OCO-2/2019/05\\\\04\\\\LtCO2\\\\oco2_LtCO2_190504_B10206Ar_200729192519s.nc4\\n',\n",
       " '../../Clusters_DATA_oil/OCO-2/2019/05\\\\05\\\\LtCO2\\\\oco2_LtCO2_190505_B10206Ar_200729192541s.nc4\\n',\n",
       " '../../Clusters_DATA_oil/OCO-2/2019/05\\\\06\\\\LtCO2\\\\oco2_LtCO2_190506_B10206Ar_200729192724s.nc4\\n',\n",
       " '../../Clusters_DATA_oil/OCO-2/2019/05\\\\07\\\\LtCO2\\\\oco2_LtCO2_190507_B10206Ar_200729192840s.nc4\\n',\n",
       " '../../Clusters_DATA_oil/OCO-2/2019/05\\\\08\\\\LtCO2\\\\oco2_LtCO2_190508_B10206Ar_200729192859s.nc4\\n',\n",
       " '../../Clusters_DATA_oil/OCO-2/2019/05\\\\09\\\\LtCO2\\\\oco2_LtCO2_190509_B10206Ar_200729192944s.nc4\\n',\n",
       " '../../Clusters_DATA_oil/OCO-2/2019/05\\\\10\\\\LtCO2\\\\oco2_LtCO2_190510_B10206Ar_200729193040s.nc4\\n',\n",
       " '../../Clusters_DATA_oil/OCO-2/2019/05\\\\11\\\\LtCO2\\\\oco2_LtCO2_190511_B10206Ar_200729193206s.nc4\\n',\n",
       " '../../Clusters_DATA_oil/OCO-2/2019/05\\\\12\\\\LtCO2\\\\oco2_LtCO2_190512_B10206Ar_200729193221s.nc4\\n',\n",
       " '../../Clusters_DATA_oil/OCO-2/2019/05\\\\13\\\\LtCO2\\\\oco2_LtCO2_190513_B10206Ar_200729193343s.nc4\\n',\n",
       " '../../Clusters_DATA_oil/OCO-2/2019/05\\\\14\\\\LtCO2\\\\oco2_LtCO2_190514_B10206Ar_200729193447s.nc4\\n',\n",
       " '../../Clusters_DATA_oil/OCO-2/2019/05\\\\15\\\\LtCO2\\\\oco2_LtCO2_190515_B10206Ar_200729193613s.nc4\\n',\n",
       " '../../Clusters_DATA_oil/OCO-2/2019/05\\\\16\\\\LtCO2\\\\oco2_LtCO2_190516_B10206Ar_200729193618s.nc4\\n',\n",
       " '../../Clusters_DATA_oil/OCO-2/2019/05\\\\17\\\\LtCO2\\\\oco2_LtCO2_190517_B10206Ar_200729193704s.nc4\\n',\n",
       " '../../Clusters_DATA_oil/OCO-2/2019/05\\\\18\\\\LtCO2\\\\oco2_LtCO2_190518_B10206Ar_200729193911s.nc4\\n',\n",
       " '../../Clusters_DATA_oil/OCO-2/2019/05\\\\19\\\\LtCO2\\\\oco2_LtCO2_190519_B10206Ar_200729193952s.nc4\\n',\n",
       " '../../Clusters_DATA_oil/OCO-2/2019/05\\\\20\\\\LtCO2\\\\oco2_LtCO2_190520_B10206Ar_200729194104s.nc4\\n',\n",
       " '../../Clusters_DATA_oil/OCO-2/2019/05\\\\21\\\\LtCO2\\\\oco2_LtCO2_190521_B10206Ar_200729194127s.nc4\\n',\n",
       " '../../Clusters_DATA_oil/OCO-2/2019/05\\\\22\\\\LtCO2\\\\oco2_LtCO2_190522_B10206Ar_200729194158s.nc4\\n',\n",
       " '../../Clusters_DATA_oil/OCO-2/2019/05\\\\23\\\\LtCO2\\\\oco2_LtCO2_190523_B10206Ar_200729194357s.nc4\\n',\n",
       " '../../Clusters_DATA_oil/OCO-2/2019/05\\\\24\\\\LtCO2\\\\oco2_LtCO2_190524_B10206Ar_200729194503s.nc4\\n',\n",
       " '../../Clusters_DATA_oil/OCO-2/2019/05\\\\25\\\\LtCO2\\\\oco2_LtCO2_190525_B10206Ar_200729194538s.nc4\\n',\n",
       " '../../Clusters_DATA_oil/OCO-2/2019/05\\\\26\\\\LtCO2\\\\oco2_LtCO2_190526_B10206Ar_200729194629s.nc4\\n',\n",
       " '../../Clusters_DATA_oil/OCO-2/2019/05\\\\27\\\\LtCO2\\\\oco2_LtCO2_190527_B10206Ar_200729194644s.nc4\\n',\n",
       " '../../Clusters_DATA_oil/OCO-2/2019/05\\\\28\\\\LtCO2\\\\oco2_LtCO2_190528_B10206Ar_200729194916s.nc4\\n',\n",
       " '../../Clusters_DATA_oil/OCO-2/2019/05\\\\29\\\\LtCO2\\\\oco2_LtCO2_190529_B10206Ar_200729194957s.nc4\\n',\n",
       " '../../Clusters_DATA_oil/OCO-2/2019/05\\\\30\\\\LtCO2\\\\oco2_LtCO2_190530_B10206Ar_200729195017s.nc4\\n',\n",
       " '../../Clusters_DATA_oil/OCO-2/2019/05\\\\31\\\\LtCO2\\\\oco2_LtCO2_190531_B10206Ar_200729195028s.nc4\\n',\n",
       " '../../Clusters_DATA_oil/OCO-2/2019/06\\\\01\\\\LtCO2\\\\oco2_LtCO2_190601_B10206Ar_200729195210s.nc4\\n',\n",
       " '../../Clusters_DATA_oil/OCO-2/2019/06\\\\02\\\\LtCO2\\\\oco2_LtCO2_190602_B10206Ar_200729195351s.nc4\\n',\n",
       " '../../Clusters_DATA_oil/OCO-2/2019/06\\\\03\\\\LtCO2\\\\oco2_LtCO2_190603_B10206Ar_200729195440s.nc4\\n',\n",
       " '../../Clusters_DATA_oil/OCO-2/2019/06\\\\04\\\\LtCO2\\\\oco2_LtCO2_190604_B10206Ar_200729195504s.nc4\\n',\n",
       " '../../Clusters_DATA_oil/OCO-2/2019/06\\\\05\\\\LtCO2\\\\oco2_LtCO2_190605_B10206Ar_200729195625s.nc4\\n',\n",
       " '../../Clusters_DATA_oil/OCO-2/2019/06\\\\06\\\\LtCO2\\\\oco2_LtCO2_190606_B10206Ar_200729195727s.nc4\\n',\n",
       " '../../Clusters_DATA_oil/OCO-2/2019/06\\\\07\\\\LtCO2\\\\oco2_LtCO2_190607_B10206Ar_200729195749s.nc4\\n',\n",
       " '../../Clusters_DATA_oil/OCO-2/2019/06\\\\08\\\\LtCO2\\\\oco2_LtCO2_190608_B10206Ar_200729195938s.nc4\\n',\n",
       " '../../Clusters_DATA_oil/OCO-2/2019/06\\\\09\\\\LtCO2\\\\oco2_LtCO2_190609_B10206Ar_200729200041s.nc4\\n',\n",
       " '../../Clusters_DATA_oil/OCO-2/2019/06\\\\10\\\\LtCO2\\\\oco2_LtCO2_190610_B10206Ar_200729200121s.nc4\\n',\n",
       " '../../Clusters_DATA_oil/OCO-2/2019/06\\\\11\\\\LtCO2\\\\oco2_LtCO2_190611_B10206Ar_200729200210s.nc4\\n',\n",
       " '../../Clusters_DATA_oil/OCO-2/2019/06\\\\12\\\\LtCO2\\\\oco2_LtCO2_190612_B10206Ar_200729200218s.nc4\\n',\n",
       " '../../Clusters_DATA_oil/OCO-2/2019/06\\\\13\\\\LtCO2\\\\oco2_LtCO2_190613_B10206Ar_200729200349s.nc4\\n',\n",
       " '../../Clusters_DATA_oil/OCO-2/2019/06\\\\14\\\\LtCO2\\\\oco2_LtCO2_190614_B10206Ar_200729200514s.nc4\\n',\n",
       " '../../Clusters_DATA_oil/OCO-2/2019/06\\\\15\\\\LtCO2\\\\oco2_LtCO2_190615_B10206Ar_200729200634s.nc4\\n',\n",
       " '../../Clusters_DATA_oil/OCO-2/2019/06\\\\16\\\\LtCO2\\\\oco2_LtCO2_190616_B10206Ar_200729200655s.nc4\\n',\n",
       " '../../Clusters_DATA_oil/OCO-2/2019/06\\\\17\\\\LtCO2\\\\oco2_LtCO2_190617_B10206Ar_200729200716s.nc4\\n',\n",
       " '../../Clusters_DATA_oil/OCO-2/2019/06\\\\18\\\\LtCO2\\\\oco2_LtCO2_190618_B10206Ar_200729200755s.nc4\\n',\n",
       " '../../Clusters_DATA_oil/OCO-2/2019/06\\\\19\\\\LtCO2\\\\oco2_LtCO2_190619_B10206Ar_200729201022s.nc4\\n',\n",
       " '../../Clusters_DATA_oil/OCO-2/2019/06\\\\20\\\\LtCO2\\\\oco2_LtCO2_190620_B10206Ar_200729201134s.nc4\\n',\n",
       " '../../Clusters_DATA_oil/OCO-2/2019/06\\\\21\\\\LtCO2\\\\oco2_LtCO2_190621_B10206Ar_200729201241s.nc4\\n',\n",
       " '../../Clusters_DATA_oil/OCO-2/2019/06\\\\22\\\\LtCO2\\\\oco2_LtCO2_190622_B10206Ar_200729201244s.nc4\\n',\n",
       " '../../Clusters_DATA_oil/OCO-2/2019/06\\\\23\\\\LtCO2\\\\oco2_LtCO2_190623_B10206Ar_200729201330s.nc4\\n',\n",
       " '../../Clusters_DATA_oil/OCO-2/2019/06\\\\28\\\\LtCO2\\\\oco2_LtCO2_190628_B10206Ar_200729201524s.nc4\\n',\n",
       " '../../Clusters_DATA_oil/OCO-2/2019/06\\\\29\\\\LtCO2\\\\oco2_LtCO2_190629_B10206Ar_200729201552s.nc4\\n',\n",
       " '../../Clusters_DATA_oil/OCO-2/2019/06\\\\30\\\\LtCO2\\\\oco2_LtCO2_190630_B10206Ar_200729201608s.nc4\\n',\n",
       " '../../Clusters_DATA_oil/OCO-2/2019/07\\\\01\\\\LtCO2\\\\oco2_LtCO2_190701_B10206Ar_200729201720s.nc4\\n',\n",
       " '../../Clusters_DATA_oil/OCO-2/2019/07\\\\02\\\\LtCO2\\\\oco2_LtCO2_190702_B10206Ar_200729201749s.nc4\\n',\n",
       " '../../Clusters_DATA_oil/OCO-2/2019/07\\\\03\\\\LtCO2\\\\oco2_LtCO2_190703_B10206Ar_200729201858s.nc4\\n',\n",
       " '../../Clusters_DATA_oil/OCO-2/2019/07\\\\04\\\\LtCO2\\\\oco2_LtCO2_190704_B10206Ar_200729202006s.nc4\\n',\n",
       " '../../Clusters_DATA_oil/OCO-2/2019/07\\\\05\\\\LtCO2\\\\oco2_LtCO2_190705_B10206Ar_200729202118s.nc4\\n',\n",
       " '../../Clusters_DATA_oil/OCO-2/2019/07\\\\06\\\\LtCO2\\\\oco2_LtCO2_190706_B10206Ar_200729202243s.nc4\\n',\n",
       " '../../Clusters_DATA_oil/OCO-2/2019/07\\\\07\\\\LtCO2\\\\oco2_LtCO2_190707_B10206Ar_200729202331s.nc4\\n',\n",
       " '../../Clusters_DATA_oil/OCO-2/2019/07\\\\08\\\\LtCO2\\\\oco2_LtCO2_190708_B10206Ar_200729202343s.nc4\\n',\n",
       " '../../Clusters_DATA_oil/OCO-2/2019/07\\\\09\\\\LtCO2\\\\oco2_LtCO2_190709_B10206Ar_200729202400s.nc4\\n',\n",
       " '../../Clusters_DATA_oil/OCO-2/2019/07\\\\10\\\\LtCO2\\\\oco2_LtCO2_190710_B10206Ar_200729202655s.nc4\\n',\n",
       " '../../Clusters_DATA_oil/OCO-2/2019/07\\\\11\\\\LtCO2\\\\oco2_LtCO2_190711_B10206Ar_200729202707s.nc4\\n',\n",
       " '../../Clusters_DATA_oil/OCO-2/2019/07\\\\12\\\\LtCO2\\\\oco2_LtCO2_190712_B10206Ar_200729202831s.nc4\\n',\n",
       " '../../Clusters_DATA_oil/OCO-2/2019/07\\\\13\\\\LtCO2\\\\oco2_LtCO2_190713_B10206Ar_200729202856s.nc4\\n',\n",
       " '../../Clusters_DATA_oil/OCO-2/2019/07\\\\14\\\\LtCO2\\\\oco2_LtCO2_190714_B10206Ar_200729202909s.nc4\\n',\n",
       " '../../Clusters_DATA_oil/OCO-2/2019/07\\\\15\\\\LtCO2\\\\oco2_LtCO2_190715_B10206Ar_200729203120s.nc4\\n',\n",
       " '../../Clusters_DATA_oil/OCO-2/2019/07\\\\16\\\\LtCO2\\\\oco2_LtCO2_190716_B10206Ar_200729203200s.nc4\\n',\n",
       " '../../Clusters_DATA_oil/OCO-2/2019/07\\\\17\\\\LtCO2\\\\oco2_LtCO2_190717_B10206Ar_200729203403s.nc4\\n',\n",
       " '../../Clusters_DATA_oil/OCO-2/2019/07\\\\18\\\\LtCO2\\\\oco2_LtCO2_190718_B10206Ar_200729203406s.nc4\\n',\n",
       " '../../Clusters_DATA_oil/OCO-2/2019/07\\\\19\\\\LtCO2\\\\oco2_LtCO2_190719_B10206Ar_200729203436s.nc4\\n',\n",
       " '../../Clusters_DATA_oil/OCO-2/2019/07\\\\20\\\\LtCO2\\\\oco2_LtCO2_190720_B10206Ar_200729203608s.nc4\\n',\n",
       " '../../Clusters_DATA_oil/OCO-2/2019/07\\\\21\\\\LtCO2\\\\oco2_LtCO2_190721_B10206Ar_200729203730s.nc4\\n',\n",
       " '../../Clusters_DATA_oil/OCO-2/2019/07\\\\22\\\\LtCO2\\\\oco2_LtCO2_190722_B10206Ar_200729203806s.nc4\\n',\n",
       " '../../Clusters_DATA_oil/OCO-2/2019/07\\\\23\\\\LtCO2\\\\oco2_LtCO2_190723_B10206Ar_200729203900s.nc4\\n',\n",
       " '../../Clusters_DATA_oil/OCO-2/2019/07\\\\24\\\\LtCO2\\\\oco2_LtCO2_190724_B10206Ar_200729204020s.nc4\\n',\n",
       " '../../Clusters_DATA_oil/OCO-2/2019/07\\\\25\\\\LtCO2\\\\oco2_LtCO2_190725_B10206Ar_200729204028s.nc4\\n',\n",
       " '../../Clusters_DATA_oil/OCO-2/2019/07\\\\26\\\\LtCO2\\\\oco2_LtCO2_190726_B10206Ar_200729204217s.nc4\\n',\n",
       " '../../Clusters_DATA_oil/OCO-2/2019/07\\\\27\\\\LtCO2\\\\oco2_LtCO2_190727_B10206Ar_200729204221s.nc4\\n',\n",
       " '../../Clusters_DATA_oil/OCO-2/2019/07\\\\28\\\\LtCO2\\\\oco2_LtCO2_190728_B10206Ar_200729204427s.nc4\\n',\n",
       " '../../Clusters_DATA_oil/OCO-2/2019/07\\\\29\\\\LtCO2\\\\oco2_LtCO2_190729_B10206Ar_200729204454s.nc4\\n',\n",
       " '../../Clusters_DATA_oil/OCO-2/2019/07\\\\30\\\\LtCO2\\\\oco2_LtCO2_190730_B10206Ar_200729204514s.nc4\\n',\n",
       " '../../Clusters_DATA_oil/OCO-2/2019/07\\\\31\\\\LtCO2\\\\oco2_LtCO2_190731_B10206Ar_200729204702s.nc4\\n',\n",
       " '../../Clusters_DATA_oil/OCO-2/2019/08\\\\01\\\\LtCO2\\\\oco2_LtCO2_190801_B10206Ar_200729204743s.nc4\\n',\n",
       " '../../Clusters_DATA_oil/OCO-2/2019/08\\\\02\\\\LtCO2\\\\oco2_LtCO2_190802_B10206Ar_200729204909s.nc4\\n',\n",
       " '../../Clusters_DATA_oil/OCO-2/2019/08\\\\03\\\\LtCO2\\\\oco2_LtCO2_190803_B10206Ar_200729204928s.nc4\\n',\n",
       " '../../Clusters_DATA_oil/OCO-2/2019/08\\\\04\\\\LtCO2\\\\oco2_LtCO2_190804_B10206Ar_200729204937s.nc4\\n',\n",
       " '../../Clusters_DATA_oil/OCO-2/2019/08\\\\05\\\\LtCO2\\\\oco2_LtCO2_190805_B10206Ar_200729205103s.nc4\\n',\n",
       " '../../Clusters_DATA_oil/OCO-2/2019/08\\\\06\\\\LtCO2\\\\oco2_LtCO2_190806_B10206Ar_200729205224s.nc4\\n',\n",
       " '../../Clusters_DATA_oil/OCO-2/2019/08\\\\07\\\\LtCO2\\\\oco2_LtCO2_190807_B10206Ar_200729205344s.nc4\\n',\n",
       " '../../Clusters_DATA_oil/OCO-2/2019/08\\\\08\\\\LtCO2\\\\oco2_LtCO2_190808_B10206Ar_200729205440s.nc4\\n',\n",
       " '../../Clusters_DATA_oil/OCO-2/2019/08\\\\09\\\\LtCO2\\\\oco2_LtCO2_190809_B10206Ar_200729205509s.nc4\\n',\n",
       " '../../Clusters_DATA_oil/OCO-2/2019/08\\\\10\\\\LtCO2\\\\oco2_LtCO2_190810_B10206Ar_200729205519s.nc4\\n',\n",
       " '../../Clusters_DATA_oil/OCO-2/2019/08\\\\11\\\\LtCO2\\\\oco2_LtCO2_190811_B10206Ar_200729205728s.nc4\\n',\n",
       " '../../Clusters_DATA_oil/OCO-2/2019/08\\\\12\\\\LtCO2\\\\oco2_LtCO2_190812_B10206Ar_200729205804s.nc4\\n',\n",
       " '../../Clusters_DATA_oil/OCO-2/2019/08\\\\13\\\\LtCO2\\\\oco2_LtCO2_190813_B10206Ar_200729205917s.nc4\\n',\n",
       " '../../Clusters_DATA_oil/OCO-2/2019/08\\\\14\\\\LtCO2\\\\oco2_LtCO2_190814_B10206Ar_200729205944s.nc4\\n',\n",
       " '../../Clusters_DATA_oil/OCO-2/2019/08\\\\15\\\\LtCO2\\\\oco2_LtCO2_190815_B10206Ar_200729210004s.nc4\\n',\n",
       " '../../Clusters_DATA_oil/OCO-2/2019/08\\\\16\\\\LtCO2\\\\oco2_LtCO2_190816_B10206Ar_200729210156s.nc4\\n',\n",
       " '../../Clusters_DATA_oil/OCO-2/2019/08\\\\17\\\\LtCO2\\\\oco2_LtCO2_190817_B10206Ar_200729210157s.nc4\\n',\n",
       " '../../Clusters_DATA_oil/OCO-2/2019/08\\\\18\\\\LtCO2\\\\oco2_LtCO2_190818_B10206Ar_200729210417s.nc4\\n',\n",
       " '../../Clusters_DATA_oil/OCO-2/2019/08\\\\19\\\\LtCO2\\\\oco2_LtCO2_190819_B10206Ar_200729210442s.nc4\\n',\n",
       " '../../Clusters_DATA_oil/OCO-2/2019/08\\\\20\\\\LtCO2\\\\oco2_LtCO2_190820_B10206Ar_200729210450s.nc4\\n',\n",
       " '../../Clusters_DATA_oil/OCO-2/2019/08\\\\21\\\\LtCO2\\\\oco2_LtCO2_190821_B10206Ar_200729210619s.nc4\\n',\n",
       " '../../Clusters_DATA_oil/OCO-2/2019/08\\\\22\\\\LtCO2\\\\oco2_LtCO2_190822_B10206Ar_200729210645s.nc4\\n',\n",
       " '../../Clusters_DATA_oil/OCO-2/2019/08\\\\23\\\\LtCO2\\\\oco2_LtCO2_190823_B10206Ar_200729210840s.nc4\\n',\n",
       " '../../Clusters_DATA_oil/OCO-2/2019/08\\\\24\\\\LtCO2\\\\oco2_LtCO2_190824_B10206Ar_200729210907s.nc4\\n',\n",
       " '../../Clusters_DATA_oil/OCO-2/2019/08\\\\25\\\\LtCO2\\\\oco2_LtCO2_190825_B10206Ar_200729211059s.nc4\\n',\n",
       " '../../Clusters_DATA_oil/OCO-2/2019/08\\\\26\\\\LtCO2\\\\oco2_LtCO2_190826_B10206Ar_200729211102s.nc4\\n',\n",
       " '../../Clusters_DATA_oil/OCO-2/2019/08\\\\27\\\\LtCO2\\\\oco2_LtCO2_190827_B10206Ar_200729211231s.nc4\\n',\n",
       " '../../Clusters_DATA_oil/OCO-2/2019/08\\\\28\\\\LtCO2\\\\oco2_LtCO2_190828_B10206Ar_200729211247s.nc4\\n',\n",
       " '../../Clusters_DATA_oil/OCO-2/2019/08\\\\29\\\\LtCO2\\\\oco2_LtCO2_190829_B10206Ar_200729211513s.nc4\\n',\n",
       " '../../Clusters_DATA_oil/OCO-2/2019/08\\\\30\\\\LtCO2\\\\oco2_LtCO2_190830_B10206Ar_200729211516s.nc4\\n',\n",
       " '../../Clusters_DATA_oil/OCO-2/2019/08\\\\31\\\\LtCO2\\\\oco2_LtCO2_190831_B10206Ar_200729211549s.nc4\\n',\n",
       " '../../Clusters_DATA_oil/OCO-2/2019/09\\\\01\\\\LtCO2\\\\oco2_LtCO2_190901_B10206Ar_200729211816s.nc4\\n',\n",
       " '../../Clusters_DATA_oil/OCO-2/2019/09\\\\02\\\\LtCO2\\\\oco2_LtCO2_190902_B10206Ar_200729211926s.nc4\\n',\n",
       " '../../Clusters_DATA_oil/OCO-2/2019/09\\\\03\\\\LtCO2\\\\oco2_LtCO2_190903_B10206Ar_200729211926s.nc4\\n',\n",
       " '../../Clusters_DATA_oil/OCO-2/2019/09\\\\04\\\\LtCO2\\\\oco2_LtCO2_190904_B10206Ar_200729212031s.nc4\\n',\n",
       " '../../Clusters_DATA_oil/OCO-2/2019/09\\\\05\\\\LtCO2\\\\oco2_LtCO2_190905_B10206Ar_200729212052s.nc4\\n',\n",
       " '../../Clusters_DATA_oil/OCO-2/2019/09\\\\06\\\\LtCO2\\\\oco2_LtCO2_190906_B10206Ar_200729212333s.nc4\\n',\n",
       " '../../Clusters_DATA_oil/OCO-2/2019/09\\\\07\\\\LtCO2\\\\oco2_LtCO2_190907_B10206Ar_200729212410s.nc4\\n',\n",
       " '../../Clusters_DATA_oil/OCO-2/2019/09\\\\08\\\\LtCO2\\\\oco2_LtCO2_190908_B10206Ar_200729212612s.nc4\\n',\n",
       " '../../Clusters_DATA_oil/OCO-2/2019/09\\\\09\\\\LtCO2\\\\oco2_LtCO2_190909_B10206Ar_200729212638s.nc4\\n',\n",
       " '../../Clusters_DATA_oil/OCO-2/2019/09\\\\10\\\\LtCO2\\\\oco2_LtCO2_190910_B10206Ar_200729212653s.nc4\\n',\n",
       " '../../Clusters_DATA_oil/OCO-2/2019/09\\\\11\\\\LtCO2\\\\oco2_LtCO2_190911_B10206Ar_200729212741s.nc4\\n',\n",
       " '../../Clusters_DATA_oil/OCO-2/2019/09\\\\12\\\\LtCO2\\\\oco2_LtCO2_190912_B10206Ar_200729212847s.nc4\\n',\n",
       " '../../Clusters_DATA_oil/OCO-2/2019/09\\\\13\\\\LtCO2\\\\oco2_LtCO2_190913_B10206Ar_200729213135s.nc4\\n',\n",
       " '../../Clusters_DATA_oil/OCO-2/2019/09\\\\14\\\\LtCO2\\\\oco2_LtCO2_190914_B10206Ar_200729213211s.nc4\\n',\n",
       " '../../Clusters_DATA_oil/OCO-2/2019/09\\\\15\\\\LtCO2\\\\oco2_LtCO2_190915_B10206Ar_200729213322s.nc4\\n',\n",
       " '../../Clusters_DATA_oil/OCO-2/2019/09\\\\16\\\\LtCO2\\\\oco2_LtCO2_190916_B10206Ar_200729213322s.nc4\\n',\n",
       " '../../Clusters_DATA_oil/OCO-2/2019/09\\\\17\\\\LtCO2\\\\oco2_LtCO2_190917_B10206Ar_200729213323s.nc4\\n',\n",
       " '../../Clusters_DATA_oil/OCO-2/2019/09\\\\18\\\\LtCO2\\\\oco2_LtCO2_190918_B10206Ar_200729213756s.nc4\\n',\n",
       " '../../Clusters_DATA_oil/OCO-2/2019/09\\\\19\\\\LtCO2\\\\oco2_LtCO2_190919_B10206Ar_200729213835s.nc4\\n',\n",
       " '../../Clusters_DATA_oil/OCO-2/2019/09\\\\20\\\\LtCO2\\\\oco2_LtCO2_190920_B10206Ar_200729213839s.nc4\\n',\n",
       " '../../Clusters_DATA_oil/OCO-2/2019/09\\\\21\\\\LtCO2\\\\oco2_LtCO2_190921_B10206Ar_200729213848s.nc4\\n',\n",
       " '../../Clusters_DATA_oil/OCO-2/2019/09\\\\22\\\\LtCO2\\\\oco2_LtCO2_190922_B10206Ar_200729213858s.nc4\\n',\n",
       " '../../Clusters_DATA_oil/OCO-2/2019/09\\\\23\\\\LtCO2\\\\oco2_LtCO2_190923_B10206Ar_200729214306s.nc4\\n',\n",
       " '../../Clusters_DATA_oil/OCO-2/2019/09\\\\24\\\\LtCO2\\\\oco2_LtCO2_190924_B10206Ar_200729214342s.nc4\\n',\n",
       " '../../Clusters_DATA_oil/OCO-2/2019/09\\\\25\\\\LtCO2\\\\oco2_LtCO2_190925_B10206Ar_200729214419s.nc4\\n',\n",
       " '../../Clusters_DATA_oil/OCO-2/2019/09\\\\26\\\\LtCO2\\\\oco2_LtCO2_190926_B10206Ar_200729214442s.nc4\\n',\n",
       " '../../Clusters_DATA_oil/OCO-2/2019/09\\\\27\\\\LtCO2\\\\oco2_LtCO2_190927_B10206Ar_200729214514s.nc4\\n',\n",
       " '../../Clusters_DATA_oil/OCO-2/2019/09\\\\28\\\\LtCO2\\\\oco2_LtCO2_190928_B10206Ar_200729214714s.nc4\\n',\n",
       " '../../Clusters_DATA_oil/OCO-2/2019/09\\\\29\\\\LtCO2\\\\oco2_LtCO2_190929_B10206Ar_200729214934s.nc4\\n',\n",
       " '../../Clusters_DATA_oil/OCO-2/2019/09\\\\30\\\\LtCO2\\\\oco2_LtCO2_190930_B10206Ar_200729214949s.nc4\\n',\n",
       " '../../Clusters_DATA_oil/OCO-2/2019/10\\\\01\\\\LtCO2\\\\oco2_LtCO2_191001_B10206Ar_200729215011s.nc4\\n',\n",
       " '../../Clusters_DATA_oil/OCO-2/2019/10\\\\02\\\\LtCO2\\\\oco2_LtCO2_191002_B10206Ar_200729215100s.nc4\\n',\n",
       " '../../Clusters_DATA_oil/OCO-2/2019/10\\\\03\\\\LtCO2\\\\oco2_LtCO2_191003_B10206Ar_200729215228s.nc4\\n',\n",
       " '../../Clusters_DATA_oil/OCO-2/2019/10\\\\04\\\\LtCO2\\\\oco2_LtCO2_191004_B10206Ar_200731173619s.nc4\\n',\n",
       " '../../Clusters_DATA_oil/OCO-2/2019/10\\\\05\\\\LtCO2\\\\oco2_LtCO2_191005_B10206Ar_200731173649s.nc4\\n',\n",
       " '../../Clusters_DATA_oil/OCO-2/2019/10\\\\06\\\\LtCO2\\\\oco2_LtCO2_191006_B10206Ar_200731173724s.nc4\\n',\n",
       " '../../Clusters_DATA_oil/OCO-2/2019/10\\\\07\\\\LtCO2\\\\oco2_LtCO2_191007_B10206Ar_200731173755s.nc4\\n',\n",
       " '../../Clusters_DATA_oil/OCO-2/2019/10\\\\08\\\\LtCO2\\\\oco2_LtCO2_191008_B10206Ar_200731173825s.nc4\\n',\n",
       " '../../Clusters_DATA_oil/OCO-2/2019/10\\\\09\\\\LtCO2\\\\oco2_LtCO2_191009_B10206Ar_200729215851s.nc4\\n',\n",
       " '../../Clusters_DATA_oil/OCO-2/2019/10\\\\10\\\\LtCO2\\\\oco2_LtCO2_191010_B10206Ar_200729220031s.nc4\\n',\n",
       " '../../Clusters_DATA_oil/OCO-2/2019/10\\\\11\\\\LtCO2\\\\oco2_LtCO2_191011_B10206Ar_200729220032s.nc4\\n',\n",
       " '../../Clusters_DATA_oil/OCO-2/2019/10\\\\12\\\\LtCO2\\\\oco2_LtCO2_191012_B10206Ar_200729220034s.nc4\\n',\n",
       " '../../Clusters_DATA_oil/OCO-2/2019/10\\\\13\\\\LtCO2\\\\oco2_LtCO2_191013_B10206Ar_200729220205s.nc4\\n',\n",
       " '../../Clusters_DATA_oil/OCO-2/2019/10\\\\14\\\\LtCO2\\\\oco2_LtCO2_191014_B10206Ar_200729220337s.nc4\\n',\n",
       " '../../Clusters_DATA_oil/OCO-2/2019/10\\\\15\\\\LtCO2\\\\oco2_LtCO2_191015_B10206Ar_200729220524s.nc4\\n',\n",
       " '../../Clusters_DATA_oil/OCO-2/2019/10\\\\16\\\\LtCO2\\\\oco2_LtCO2_191016_B10206Ar_200729220528s.nc4\\n',\n",
       " '../../Clusters_DATA_oil/OCO-2/2019/10\\\\17\\\\LtCO2\\\\oco2_LtCO2_191017_B10206Ar_200729220617s.nc4\\n',\n",
       " '../../Clusters_DATA_oil/OCO-2/2019/10\\\\18\\\\LtCO2\\\\oco2_LtCO2_191018_B10206Ar_200729220701s.nc4\\n',\n",
       " '../../Clusters_DATA_oil/OCO-2/2019/10\\\\19\\\\LtCO2\\\\oco2_LtCO2_191019_B10206Ar_200729220742s.nc4\\n',\n",
       " '../../Clusters_DATA_oil/OCO-2/2019/10\\\\20\\\\LtCO2\\\\oco2_LtCO2_191020_B10206Ar_200729221018s.nc4\\n',\n",
       " '../../Clusters_DATA_oil/OCO-2/2019/10\\\\21\\\\LtCO2\\\\oco2_LtCO2_191021_B10206Ar_200729221049s.nc4\\n',\n",
       " '../../Clusters_DATA_oil/OCO-2/2019/10\\\\22\\\\LtCO2\\\\oco2_LtCO2_191022_B10206Ar_200729221115s.nc4\\n',\n",
       " '../../Clusters_DATA_oil/OCO-2/2019/10\\\\23\\\\LtCO2\\\\oco2_LtCO2_191023_B10206Ar_200729221219s.nc4\\n',\n",
       " '../../Clusters_DATA_oil/OCO-2/2019/10\\\\24\\\\LtCO2\\\\oco2_LtCO2_191024_B10206Ar_200729221246s.nc4\\n',\n",
       " '../../Clusters_DATA_oil/OCO-2/2019/10\\\\25\\\\LtCO2\\\\oco2_LtCO2_191025_B10206Ar_200729221547s.nc4\\n',\n",
       " '../../Clusters_DATA_oil/OCO-2/2019/10\\\\26\\\\LtCO2\\\\oco2_LtCO2_191026_B10206Ar_200729221655s.nc4\\n',\n",
       " '../../Clusters_DATA_oil/OCO-2/2019/10\\\\27\\\\LtCO2\\\\oco2_LtCO2_191027_B10206Ar_200729221658s.nc4\\n',\n",
       " '../../Clusters_DATA_oil/OCO-2/2019/10\\\\28\\\\LtCO2\\\\oco2_LtCO2_191028_B10206Ar_200729221717s.nc4\\n',\n",
       " '../../Clusters_DATA_oil/OCO-2/2019/10\\\\29\\\\LtCO2\\\\oco2_LtCO2_191029_B10206Ar_200729221756s.nc4\\n',\n",
       " '../../Clusters_DATA_oil/OCO-2/2019/10\\\\30\\\\LtCO2\\\\oco2_LtCO2_191030_B10206Ar_200729222007s.nc4\\n',\n",
       " '../../Clusters_DATA_oil/OCO-2/2019/10\\\\31\\\\LtCO2\\\\oco2_LtCO2_191031_B10206Ar_200729222140s.nc4\\n',\n",
       " '../../Clusters_DATA_oil/OCO-2/2019/11\\\\01\\\\LtCO2\\\\oco2_LtCO2_191101_B10206Ar_200729222235s.nc4\\n',\n",
       " '../../Clusters_DATA_oil/OCO-2/2019/11\\\\02\\\\LtCO2\\\\oco2_LtCO2_191102_B10206Ar_200729222251s.nc4\\n',\n",
       " '../../Clusters_DATA_oil/OCO-2/2019/11\\\\03\\\\LtCO2\\\\oco2_LtCO2_191103_B10206Ar_200729222319s.nc4\\n',\n",
       " '../../Clusters_DATA_oil/OCO-2/2019/11\\\\04\\\\LtCO2\\\\oco2_LtCO2_191104_B10206Ar_200729222434s.nc4\\n',\n",
       " '../../Clusters_DATA_oil/OCO-2/2019/11\\\\05\\\\LtCO2\\\\oco2_LtCO2_191105_B10206Ar_200729222624s.nc4\\n',\n",
       " '../../Clusters_DATA_oil/OCO-2/2019/11\\\\06\\\\LtCO2\\\\oco2_LtCO2_191106_B10206Ar_200729222825s.nc4\\n',\n",
       " '../../Clusters_DATA_oil/OCO-2/2019/11\\\\07\\\\LtCO2\\\\oco2_LtCO2_191107_B10206Ar_200729222827s.nc4\\n',\n",
       " '../../Clusters_DATA_oil/OCO-2/2019/11\\\\08\\\\LtCO2\\\\oco2_LtCO2_191108_B10206Ar_200729222849s.nc4\\n',\n",
       " '../../Clusters_DATA_oil/OCO-2/2019/11\\\\09\\\\LtCO2\\\\oco2_LtCO2_191109_B10206Ar_200729223000s.nc4\\n',\n",
       " '../../Clusters_DATA_oil/OCO-2/2019/11\\\\10\\\\LtCO2\\\\oco2_LtCO2_191110_B10206Ar_200729223124s.nc4\\n',\n",
       " '../../Clusters_DATA_oil/OCO-2/2019/11\\\\11\\\\LtCO2\\\\oco2_LtCO2_191111_B10206Ar_200729223355s.nc4\\n',\n",
       " '../../Clusters_DATA_oil/OCO-2/2019/11\\\\12\\\\LtCO2\\\\oco2_LtCO2_191112_B10206Ar_200729223445s.nc4\\n',\n",
       " '../../Clusters_DATA_oil/OCO-2/2019/11\\\\13\\\\LtCO2\\\\oco2_LtCO2_191113_B10206Ar_200729223500s.nc4\\n',\n",
       " '../../Clusters_DATA_oil/OCO-2/2019/11\\\\14\\\\LtCO2\\\\oco2_LtCO2_191114_B10206Ar_200729223523s.nc4\\n',\n",
       " '../../Clusters_DATA_oil/OCO-2/2019/11\\\\15\\\\LtCO2\\\\oco2_LtCO2_191115_B10206Ar_200729223640s.nc4\\n',\n",
       " '../../Clusters_DATA_oil/OCO-2/2019/11\\\\16\\\\LtCO2\\\\oco2_LtCO2_191116_B10206Ar_200729224003s.nc4\\n',\n",
       " '../../Clusters_DATA_oil/OCO-2/2019/11\\\\17\\\\LtCO2\\\\oco2_LtCO2_191117_B10206Ar_200729224014s.nc4\\n',\n",
       " '../../Clusters_DATA_oil/OCO-2/2019/11\\\\18\\\\LtCO2\\\\oco2_LtCO2_191118_B10206Ar_200729224040s.nc4\\n',\n",
       " '../../Clusters_DATA_oil/OCO-2/2019/11\\\\19\\\\LtCO2\\\\oco2_LtCO2_191119_B10206Ar_200729224127s.nc4\\n',\n",
       " '../../Clusters_DATA_oil/OCO-2/2019/11\\\\20\\\\LtCO2\\\\oco2_LtCO2_191120_B10206Ar_200729224144s.nc4\\n',\n",
       " '../../Clusters_DATA_oil/OCO-2/2019/11\\\\21\\\\LtCO2\\\\oco2_LtCO2_191121_B10206Ar_200729224513s.nc4\\n',\n",
       " '../../Clusters_DATA_oil/OCO-2/2019/11\\\\22\\\\LtCO2\\\\oco2_LtCO2_191122_B10206Ar_200729224619s.nc4\\n',\n",
       " '../../Clusters_DATA_oil/OCO-2/2019/11\\\\23\\\\LtCO2\\\\oco2_LtCO2_191123_B10206Ar_200729224630s.nc4\\n',\n",
       " '../../Clusters_DATA_oil/OCO-2/2019/11\\\\24\\\\LtCO2\\\\oco2_LtCO2_191124_B10206Ar_200729224658s.nc4\\n',\n",
       " '../../Clusters_DATA_oil/OCO-2/2019/11\\\\25\\\\LtCO2\\\\oco2_LtCO2_191125_B10206Ar_200729224705s.nc4\\n',\n",
       " '../../Clusters_DATA_oil/OCO-2/2019/11\\\\26\\\\LtCO2\\\\oco2_LtCO2_191126_B10206Ar_200729225041s.nc4\\n',\n",
       " '../../Clusters_DATA_oil/OCO-2/2019/11\\\\27\\\\LtCO2\\\\oco2_LtCO2_191127_B10206Ar_200729225128s.nc4\\n',\n",
       " '../../Clusters_DATA_oil/OCO-2/2019/11\\\\28\\\\LtCO2\\\\oco2_LtCO2_191128_B10206Ar_200729225130s.nc4\\n',\n",
       " '../../Clusters_DATA_oil/OCO-2/2019/11\\\\29\\\\LtCO2\\\\oco2_LtCO2_191129_B10206Ar_200729225328s.nc4\\n',\n",
       " '../../Clusters_DATA_oil/OCO-2/2019/11\\\\30\\\\LtCO2\\\\oco2_LtCO2_191130_B10206Ar_200729225348s.nc4\\n',\n",
       " '../../Clusters_DATA_oil/OCO-2/2019/12\\\\01\\\\LtCO2\\\\oco2_LtCO2_191201_B10206Ar_200728183353s.nc4\\n',\n",
       " '../../Clusters_DATA_oil/OCO-2/2019/12\\\\02\\\\LtCO2\\\\oco2_LtCO2_191202_B10206Ar_200728205012s.nc4\\n',\n",
       " '../../Clusters_DATA_oil/OCO-2/2019/12\\\\03\\\\LtCO2\\\\oco2_LtCO2_191203_B10206Ar_200728205129s.nc4\\n',\n",
       " '../../Clusters_DATA_oil/OCO-2/2019/12\\\\04\\\\LtCO2\\\\oco2_LtCO2_191204_B10206Ar_200728205157s.nc4\\n',\n",
       " '../../Clusters_DATA_oil/OCO-2/2019/12\\\\05\\\\LtCO2\\\\oco2_LtCO2_191205_B10206Ar_200728205208s.nc4\\n',\n",
       " '../../Clusters_DATA_oil/OCO-2/2019/12\\\\06\\\\LtCO2\\\\oco2_LtCO2_191206_B10206Ar_200728205444s.nc4\\n',\n",
       " '../../Clusters_DATA_oil/OCO-2/2019/12\\\\07\\\\LtCO2\\\\oco2_LtCO2_191207_B10206Ar_200728205552s.nc4\\n',\n",
       " '../../Clusters_DATA_oil/OCO-2/2019/12\\\\08\\\\LtCO2\\\\oco2_LtCO2_191208_B10206Ar_200728205558s.nc4\\n',\n",
       " '../../Clusters_DATA_oil/OCO-2/2019/12\\\\09\\\\LtCO2\\\\oco2_LtCO2_191209_B10206Ar_200728205606s.nc4\\n',\n",
       " '../../Clusters_DATA_oil/OCO-2/2019/12\\\\10\\\\LtCO2\\\\oco2_LtCO2_191210_B10206Ar_200728205717s.nc4\\n',\n",
       " '../../Clusters_DATA_oil/OCO-2/2019/12\\\\11\\\\LtCO2\\\\oco2_LtCO2_191211_B10206Ar_200728205951s.nc4\\n',\n",
       " '../../Clusters_DATA_oil/OCO-2/2019/12\\\\12\\\\LtCO2\\\\oco2_LtCO2_191212_B10206Ar_200728210117s.nc4\\n',\n",
       " '../../Clusters_DATA_oil/OCO-2/2019/12\\\\13\\\\LtCO2\\\\oco2_LtCO2_191213_B10206Ar_200728210140s.nc4\\n',\n",
       " '../../Clusters_DATA_oil/OCO-2/2019/12\\\\14\\\\LtCO2\\\\oco2_LtCO2_191214_B10206Ar_200728210211s.nc4\\n',\n",
       " '../../Clusters_DATA_oil/OCO-2/2019/12\\\\15\\\\LtCO2\\\\oco2_LtCO2_191215_B10206Ar_200728210214s.nc4\\n',\n",
       " '../../Clusters_DATA_oil/OCO-2/2019/12\\\\16\\\\LtCO2\\\\oco2_LtCO2_191216_B10206Ar_200728210408s.nc4\\n',\n",
       " '../../Clusters_DATA_oil/OCO-2/2019/12\\\\17\\\\LtCO2\\\\oco2_LtCO2_191217_B10206Ar_200728210726s.nc4\\n',\n",
       " '../../Clusters_DATA_oil/OCO-2/2019/12\\\\18\\\\LtCO2\\\\oco2_LtCO2_191218_B10206Ar_200728210839s.nc4\\n',\n",
       " '../../Clusters_DATA_oil/OCO-2/2019/12\\\\19\\\\LtCO2\\\\oco2_LtCO2_191219_B10206Ar_200728210855s.nc4\\n',\n",
       " '../../Clusters_DATA_oil/OCO-2/2019/12\\\\20\\\\LtCO2\\\\oco2_LtCO2_191220_B10206Ar_200728210944s.nc4\\n',\n",
       " '../../Clusters_DATA_oil/OCO-2/2019/12\\\\21\\\\LtCO2\\\\oco2_LtCO2_191221_B10206Ar_200728211021s.nc4\\n',\n",
       " '../../Clusters_DATA_oil/OCO-2/2019/12\\\\22\\\\LtCO2\\\\oco2_LtCO2_191222_B10206Ar_200728211229s.nc4\\n',\n",
       " '../../Clusters_DATA_oil/OCO-2/2019/12\\\\23\\\\LtCO2\\\\oco2_LtCO2_191223_B10206Ar_200728211514s.nc4\\n',\n",
       " '../../Clusters_DATA_oil/OCO-2/2019/12\\\\24\\\\LtCO2\\\\oco2_LtCO2_191224_B10206Ar_200728211533s.nc4\\n',\n",
       " '../../Clusters_DATA_oil/OCO-2/2019/12\\\\25\\\\LtCO2\\\\oco2_LtCO2_191225_B10206Ar_200728211625s.nc4\\n',\n",
       " '../../Clusters_DATA_oil/OCO-2/2019/12\\\\26\\\\LtCO2\\\\oco2_LtCO2_191226_B10206Ar_200728211735s.nc4\\n',\n",
       " '../../Clusters_DATA_oil/OCO-2/2019/12\\\\27\\\\LtCO2\\\\oco2_LtCO2_191227_B10206Ar_200728211908s.nc4\\n',\n",
       " '../../Clusters_DATA_oil/OCO-2/2019/12\\\\28\\\\LtCO2\\\\oco2_LtCO2_191228_B10206Ar_200728212114s.nc4\\n',\n",
       " '../../Clusters_DATA_oil/OCO-2/2019/12\\\\29\\\\LtCO2\\\\oco2_LtCO2_191229_B10206Ar_200728212233s.nc4\\n',\n",
       " '../../Clusters_DATA_oil/OCO-2/2019/12\\\\30\\\\LtCO2\\\\oco2_LtCO2_191230_B10206Ar_200728212319s.nc4\\n',\n",
       " '../../Clusters_DATA_oil/OCO-2/2019/12\\\\31\\\\LtCO2\\\\oco2_LtCO2_191231_B10206Ar_200728212433s.nc4']"
      ]
     },
     "execution_count": 24,
     "metadata": {},
     "output_type": "execute_result"
    }
   ],
   "source": [
    "path_oco_2"
   ]
  },
  {
   "cell_type": "markdown",
   "id": "54c3df7c",
   "metadata": {},
   "source": [
    "# 2020\n",
    "- Total files for 2020---> 297"
   ]
  },
  {
   "cell_type": "markdown",
   "id": "fbb8c05f",
   "metadata": {},
   "source": [
    "# !!!!! Change the RANGE in FOR LOOP after calculating the TOTAL FILES in the PATH"
   ]
  },
  {
   "cell_type": "code",
   "execution_count": 27,
   "id": "a17e4ea3",
   "metadata": {},
   "outputs": [
    {
     "data": {
      "text/plain": [
       "355"
      ]
     },
     "execution_count": 27,
     "metadata": {},
     "output_type": "execute_result"
    }
   ],
   "source": [
    "total_files= len(path_oco_2)\n",
    "total_files"
   ]
  },
  {
   "cell_type": "code",
   "execution_count": 28,
   "id": "221c73b6",
   "metadata": {},
   "outputs": [
    {
     "ename": "IndexError",
     "evalue": "list index out of range",
     "output_type": "error",
     "traceback": [
      "\u001b[1;31m---------------------------------------------------------------------------\u001b[0m",
      "\u001b[1;31mIndexError\u001b[0m                                Traceback (most recent call last)",
      "\u001b[1;32m~\\AppData\\Local\\Temp/ipykernel_8472/3438910360.py\u001b[0m in \u001b[0;36m<module>\u001b[1;34m\u001b[0m\n\u001b[0;32m      3\u001b[0m \u001b[1;33m\u001b[0m\u001b[0m\n\u001b[0;32m      4\u001b[0m \u001b[1;32mfor\u001b[0m \u001b[0mk\u001b[0m \u001b[1;32min\u001b[0m \u001b[0mrange\u001b[0m\u001b[1;33m(\u001b[0m\u001b[1;36m0\u001b[0m\u001b[1;33m,\u001b[0m \u001b[1;36m356\u001b[0m\u001b[1;33m)\u001b[0m\u001b[1;33m:\u001b[0m\u001b[1;33m\u001b[0m\u001b[1;33m\u001b[0m\u001b[0m\n\u001b[1;32m----> 5\u001b[1;33m     \u001b[0mdata_hf\u001b[0m\u001b[1;33m=\u001b[0m \u001b[0mnetCDF\u001b[0m\u001b[1;33m.\u001b[0m\u001b[0mDataset\u001b[0m\u001b[1;33m(\u001b[0m\u001b[0mpath_oco_2\u001b[0m\u001b[1;33m[\u001b[0m\u001b[0mk\u001b[0m\u001b[1;33m]\u001b[0m\u001b[1;33m.\u001b[0m\u001b[0mstrip\u001b[0m\u001b[1;33m(\u001b[0m\u001b[1;34m'\\n'\u001b[0m\u001b[1;33m)\u001b[0m\u001b[1;33m)\u001b[0m\u001b[1;33m\u001b[0m\u001b[1;33m\u001b[0m\u001b[0m\n\u001b[0m\u001b[0;32m      6\u001b[0m     \u001b[1;31m#print(data_hf.keys(),\"\\n*************\")\u001b[0m\u001b[1;33m\u001b[0m\u001b[1;33m\u001b[0m\u001b[1;33m\u001b[0m\u001b[0m\n\u001b[0;32m      7\u001b[0m \u001b[1;33m\u001b[0m\u001b[0m\n",
      "\u001b[1;31mIndexError\u001b[0m: list index out of range"
     ]
    }
   ],
   "source": [
    "# # # # using Function to READ directory and convert all HDF files to csv    \n",
    "# # # # LISTING the path of FILES\n",
    "\n",
    "for k in range(0, 356):\n",
    "    data_hf= netCDF.Dataset(path_oco_2[k].strip('\\n'))\n",
    "\n",
    "    convHdf(data_hf)"
   ]
  },
  {
   "cell_type": "code",
   "execution_count": null,
   "id": "8d89d124",
   "metadata": {
    "scrolled": true
   },
   "outputs": [],
   "source": []
  },
  {
   "cell_type": "code",
   "execution_count": null,
   "id": "fd33b9a8",
   "metadata": {},
   "outputs": [],
   "source": []
  }
 ],
 "metadata": {
  "kernelspec": {
   "display_name": "Python 3 (ipykernel)",
   "language": "python",
   "name": "python3"
  },
  "language_info": {
   "codemirror_mode": {
    "name": "ipython",
    "version": 3
   },
   "file_extension": ".py",
   "mimetype": "text/x-python",
   "name": "python",
   "nbconvert_exporter": "python",
   "pygments_lexer": "ipython3",
   "version": "3.8.10"
  }
 },
 "nbformat": 4,
 "nbformat_minor": 5
}
